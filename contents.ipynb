{
 "cells": [
  {
   "cell_type": "code",
   "execution_count": 175,
   "metadata": {},
   "outputs": [],
   "source": [
    "import pandas as pd\n",
    "import numpy as np\n",
    "from ast import literal_eval"
   ]
  },
  {
   "cell_type": "markdown",
   "metadata": {},
   "source": [
    "***\n",
    "Contents 기반 추천 해보기\n",
    "***"
   ]
  },
  {
   "cell_type": "code",
   "execution_count": 176,
   "metadata": {},
   "outputs": [],
   "source": [
    "df = pd.read_csv('wondoofin.csv')\n",
    "cat_df = pd.read_csv('category.csv')"
   ]
  },
  {
   "cell_type": "code",
   "execution_count": 177,
   "metadata": {},
   "outputs": [
    {
     "name": "stdout",
     "output_type": "stream",
     "text": [
      "<class 'pandas.core.frame.DataFrame'>\n",
      "RangeIndex: 559 entries, 0 to 558\n",
      "Data columns (total 26 columns):\n",
      " #   Column             Non-Null Count  Dtype \n",
      "---  ------             --------------  ----- \n",
      " 0   id                 559 non-null    int64 \n",
      " 1   이름                 559 non-null    object\n",
      " 2   로스터리               559 non-null    object\n",
      " 3   타입                 559 non-null    object\n",
      " 4   로스팅 포인트            559 non-null    object\n",
      " 5   지속가능성              113 non-null    object\n",
      " 6   컵 노트               559 non-null    object\n",
      " 7   바디감                559 non-null    int64 \n",
      " 8   신맛                 559 non-null    int64 \n",
      " 9   단맛                 559 non-null    int64 \n",
      " 10  쓴맛                 559 non-null    int64 \n",
      " 11  커피 소개              559 non-null    object\n",
      " 12  나라                 543 non-null    object\n",
      " 13  로스터리 소개            559 non-null    object\n",
      " 14  로스터리 주소            550 non-null    object\n",
      " 15  이름.1               559 non-null    object\n",
      " 16  식품의 유형             554 non-null    object\n",
      " 17  제조원 및 소재지          557 non-null    object\n",
      " 18  유통기한               557 non-null    object\n",
      " 19  제조일자               559 non-null    object\n",
      " 20  내용량                559 non-null    object\n",
      " 21  보관 방법              545 non-null    object\n",
      " 22  원재료 및 함량           559 non-null    object\n",
      " 23  제품문의 관련 주소 및 전화번호  559 non-null    object\n",
      " 24  카페인                559 non-null    int64 \n",
      " 25  로스터리ID             559 non-null    int64 \n",
      "dtypes: int64(7), object(19)\n",
      "memory usage: 113.7+ KB\n"
     ]
    }
   ],
   "source": [
    "df.info()"
   ]
  },
  {
   "cell_type": "code",
   "execution_count": 178,
   "metadata": {},
   "outputs": [
    {
     "data": {
      "text/plain": [
       "Index(['id', '이름', '로스터리', '타입', '로스팅 포인트', '지속가능성', '컵 노트', '바디감', '신맛', '단맛',\n",
       "       '쓴맛', '커피 소개', '나라', '로스터리 소개', '로스터리 주소', '이름.1', '식품의 유형',\n",
       "       '제조원 및 소재지', '유통기한', '제조일자', '내용량', '보관 방법', '원재료 및 함량',\n",
       "       '제품문의 관련 주소 및 전화번호', '카페인', '로스터리ID'],\n",
       "      dtype='object')"
      ]
     },
     "execution_count": 178,
     "metadata": {},
     "output_type": "execute_result"
    }
   ],
   "source": [
    "df.columns"
   ]
  },
  {
   "cell_type": "code",
   "execution_count": 179,
   "metadata": {},
   "outputs": [
    {
     "data": {
      "text/plain": [
       "(559, 26)"
      ]
     },
     "execution_count": 179,
     "metadata": {},
     "output_type": "execute_result"
    }
   ],
   "source": [
    "df.shape"
   ]
  },
  {
   "cell_type": "markdown",
   "metadata": {},
   "source": [
    "***\n",
    "null 값 처리\n",
    "- 지속가능성 : 113\n",
    "- 나라 : 543\n",
    "***\n",
    "- 로스터리 주소 : 550\n",
    "- 제조원 및 소재지 : 557/559\n",
    "- 유통기한 : 557\n",
    "- 보관 방법 : 545\n",
    "- 식품의 유형 : 554\n",
    "***"
   ]
  },
  {
   "cell_type": "code",
   "execution_count": 180,
   "metadata": {},
   "outputs": [
    {
     "data": {
      "text/plain": [
       "['토피', '맥아', '흑설탕']"
      ]
     },
     "execution_count": 180,
     "metadata": {},
     "output_type": "execute_result"
    }
   ],
   "source": [
    "# 리스트 처리\n",
    "df['컵 노트'] = df['컵 노트'].apply(literal_eval)\n",
    "df['컵 노트'][0]"
   ]
  },
  {
   "cell_type": "markdown",
   "metadata": {},
   "source": [
    "***"
   ]
  },
  {
   "cell_type": "code",
   "execution_count": 181,
   "metadata": {},
   "outputs": [
    {
     "data": {
      "text/plain": [
       "0         0\n",
       "1         0\n",
       "2       유기농\n",
       "3      공정무역\n",
       "4         0\n",
       "       ... \n",
       "554       0\n",
       "555       0\n",
       "556       0\n",
       "557       0\n",
       "558       0\n",
       "Name: 지속가능성, Length: 559, dtype: object"
      ]
     },
     "execution_count": 181,
     "metadata": {},
     "output_type": "execute_result"
    }
   ],
   "source": [
    "#################################\n",
    "########## 지속 가능성 ##########\n",
    "#################################\n",
    "for i in range(len(df)):\n",
    "    if df['지속가능성'][i] is np.nan:\n",
    "        df.at[i, '지속가능성'] = 0\n",
    "        \n",
    "df['지속가능성']"
   ]
  },
  {
   "cell_type": "markdown",
   "metadata": {},
   "source": [
    "***\n",
    "나라\n",
    "***"
   ]
  },
  {
   "cell_type": "code",
   "execution_count": 182,
   "metadata": {},
   "outputs": [
    {
     "data": {
      "text/plain": [
       "['브라질', '과테말라']"
      ]
     },
     "execution_count": 182,
     "metadata": {},
     "output_type": "execute_result"
    }
   ],
   "source": [
    "df['나라'] = df['나라'].str.split(', ')\n",
    "df['나라'][0]"
   ]
  },
  {
   "cell_type": "code",
   "execution_count": 183,
   "metadata": {},
   "outputs": [
    {
     "data": {
      "text/plain": [
       "0           [브라질, 과테말라]\n",
       "1                 [세라도]\n",
       "2                 [아리차]\n",
       "3             [브라질, 인도]\n",
       "4              [리무 볼레소]\n",
       "             ...       \n",
       "554                   0\n",
       "555       [에티오피아, 콜롬비아]\n",
       "556         [브라질, 콜롬비아]\n",
       "557               [파젠다]\n",
       "558    [과테말라, 콜롬비아, 인도]\n",
       "Name: 나라, Length: 559, dtype: object"
      ]
     },
     "execution_count": 183,
     "metadata": {},
     "output_type": "execute_result"
    }
   ],
   "source": [
    "for i in range(len(df)):\n",
    "    if df['나라'][i] is np.nan:\n",
    "        df.at[i, '나라'] = 0\n",
    "        \n",
    "df['나라']"
   ]
  },
  {
   "cell_type": "markdown",
   "metadata": {},
   "source": [
    "***\n",
    "추천에 필요한 값들\n",
    "1. 카페인 유무 : 카페인 칼럼\n",
    "2. 블렌드/ 싱글오리진\n",
    "3. 향 카테고리\n",
    "4. 맛의 강도 : 쓴맛, 단맛, 바디감, 산미\n",
    "***"
   ]
  },
  {
   "cell_type": "code",
   "execution_count": 184,
   "metadata": {},
   "outputs": [
    {
     "data": {
      "text/html": [
       "<div>\n",
       "<style scoped>\n",
       "    .dataframe tbody tr th:only-of-type {\n",
       "        vertical-align: middle;\n",
       "    }\n",
       "\n",
       "    .dataframe tbody tr th {\n",
       "        vertical-align: top;\n",
       "    }\n",
       "\n",
       "    .dataframe thead th {\n",
       "        text-align: right;\n",
       "    }\n",
       "</style>\n",
       "<table border=\"1\" class=\"dataframe\">\n",
       "  <thead>\n",
       "    <tr style=\"text-align: right;\">\n",
       "      <th></th>\n",
       "      <th>id</th>\n",
       "      <th>이름</th>\n",
       "      <th>로스터리</th>\n",
       "      <th>로스팅 포인트</th>\n",
       "      <th>지속가능성</th>\n",
       "      <th>컵 노트</th>\n",
       "      <th>바디감</th>\n",
       "      <th>신맛</th>\n",
       "      <th>단맛</th>\n",
       "      <th>쓴맛</th>\n",
       "      <th>...</th>\n",
       "      <th>제조일자</th>\n",
       "      <th>내용량</th>\n",
       "      <th>보관 방법</th>\n",
       "      <th>원재료 및 함량</th>\n",
       "      <th>제품문의 관련 주소 및 전화번호</th>\n",
       "      <th>카페인</th>\n",
       "      <th>로스터리ID</th>\n",
       "      <th>타입_디카페인</th>\n",
       "      <th>타입_블렌드</th>\n",
       "      <th>타입_싱글오리진</th>\n",
       "    </tr>\n",
       "  </thead>\n",
       "  <tbody>\n",
       "    <tr>\n",
       "      <th>0</th>\n",
       "      <td>43</td>\n",
       "      <td>데일리스윗</td>\n",
       "      <td>언더프레셔</td>\n",
       "      <td>미디엄다크</td>\n",
       "      <td>0</td>\n",
       "      <td>[토피, 맥아, 흑설탕]</td>\n",
       "      <td>4</td>\n",
       "      <td>2</td>\n",
       "      <td>4</td>\n",
       "      <td>3</td>\n",
       "      <td>...</td>\n",
       "      <td>상단 표기일</td>\n",
       "      <td>140g / 1kg</td>\n",
       "      <td>직사광선을 피하고 온도, 습도가 낮으며 통풍이 잘 되는 곳에 보관하여 주십시오.</td>\n",
       "      <td>커피원두 100% (브라질산 60%, 과테말라산 40%)</td>\n",
       "      <td>핸디엄 고객센터 1599-2681</td>\n",
       "      <td>1</td>\n",
       "      <td>57</td>\n",
       "      <td>0</td>\n",
       "      <td>1</td>\n",
       "      <td>0</td>\n",
       "    </tr>\n",
       "    <tr>\n",
       "      <th>1</th>\n",
       "      <td>3896</td>\n",
       "      <td>브라질 세라도 디카페인</td>\n",
       "      <td>운조커피</td>\n",
       "      <td>미디엄다크</td>\n",
       "      <td>0</td>\n",
       "      <td>[null]</td>\n",
       "      <td>4</td>\n",
       "      <td>2</td>\n",
       "      <td>4</td>\n",
       "      <td>3</td>\n",
       "      <td>...</td>\n",
       "      <td>주문 확인 후 제조</td>\n",
       "      <td>500g 1kg</td>\n",
       "      <td>직사광선을 피하고 온도, 습도가 낮으며 통풍이 잘 되는 곳에 밀폐 보관</td>\n",
       "      <td>커피원두 100%</td>\n",
       "      <td>운조커피 010-4535-8819</td>\n",
       "      <td>0</td>\n",
       "      <td>67</td>\n",
       "      <td>1</td>\n",
       "      <td>0</td>\n",
       "      <td>0</td>\n",
       "    </tr>\n",
       "  </tbody>\n",
       "</table>\n",
       "<p>2 rows × 28 columns</p>\n",
       "</div>"
      ],
      "text/plain": [
       "     id            이름   로스터리 로스팅 포인트 지속가능성           컵 노트  바디감  신맛  단맛  쓴맛  \\\n",
       "0    43         데일리스윗  언더프레셔   미디엄다크     0  [토피, 맥아, 흑설탕]    4   2   4   3   \n",
       "1  3896  브라질 세라도 디카페인   운조커피   미디엄다크     0         [null]    4   2   4   3   \n",
       "\n",
       "   ...        제조일자         내용량                                         보관 방법  \\\n",
       "0  ...      상단 표기일  140g / 1kg  직사광선을 피하고 온도, 습도가 낮으며 통풍이 잘 되는 곳에 보관하여 주십시오.   \n",
       "1  ...  주문 확인 후 제조    500g 1kg       직사광선을 피하고 온도, 습도가 낮으며 통풍이 잘 되는 곳에 밀폐 보관   \n",
       "\n",
       "                          원재료 및 함량   제품문의 관련 주소 및 전화번호 카페인 로스터리ID 타입_디카페인  \\\n",
       "0  커피원두 100% (브라질산 60%, 과테말라산 40%)  핸디엄 고객센터 1599-2681   1     57       0   \n",
       "1                        커피원두 100%  운조커피 010-4535-8819   0     67       1   \n",
       "\n",
       "  타입_블렌드 타입_싱글오리진  \n",
       "0      1        0  \n",
       "1      0        0  \n",
       "\n",
       "[2 rows x 28 columns]"
      ]
     },
     "execution_count": 184,
     "metadata": {},
     "output_type": "execute_result"
    }
   ],
   "source": [
    "features = pd.get_dummies(df, columns=['타입'], dtype=int)\n",
    "features.head(2)"
   ]
  },
  {
   "cell_type": "code",
   "execution_count": 185,
   "metadata": {},
   "outputs": [
    {
     "data": {
      "text/plain": [
       "Index(['id', '이름', '로스터리', '로스팅 포인트', '지속가능성', '컵 노트', '바디감', '신맛', '단맛', '쓴맛',\n",
       "       '커피 소개', '나라', '로스터리 소개', '로스터리 주소', '이름.1', '식품의 유형', '제조원 및 소재지',\n",
       "       '유통기한', '제조일자', '내용량', '보관 방법', '원재료 및 함량', '제품문의 관련 주소 및 전화번호', '카페인',\n",
       "       '로스터리ID', '타입_디카페인', '타입_블렌드', '타입_싱글오리진'],\n",
       "      dtype='object')"
      ]
     },
     "execution_count": 185,
     "metadata": {},
     "output_type": "execute_result"
    }
   ],
   "source": [
    "features.columns"
   ]
  },
  {
   "cell_type": "code",
   "execution_count": 186,
   "metadata": {},
   "outputs": [
    {
     "data": {
      "text/html": [
       "<div>\n",
       "<style scoped>\n",
       "    .dataframe tbody tr th:only-of-type {\n",
       "        vertical-align: middle;\n",
       "    }\n",
       "\n",
       "    .dataframe tbody tr th {\n",
       "        vertical-align: top;\n",
       "    }\n",
       "\n",
       "    .dataframe thead th {\n",
       "        text-align: right;\n",
       "    }\n",
       "</style>\n",
       "<table border=\"1\" class=\"dataframe\">\n",
       "  <thead>\n",
       "    <tr style=\"text-align: right;\">\n",
       "      <th></th>\n",
       "      <th>id</th>\n",
       "      <th>나라</th>\n",
       "      <th>로스팅 포인트</th>\n",
       "      <th>지속가능성</th>\n",
       "      <th>바디감</th>\n",
       "      <th>신맛</th>\n",
       "      <th>단맛</th>\n",
       "      <th>쓴맛</th>\n",
       "      <th>타입_디카페인</th>\n",
       "      <th>타입_블렌드</th>\n",
       "      <th>타입_싱글오리진</th>\n",
       "    </tr>\n",
       "  </thead>\n",
       "  <tbody>\n",
       "    <tr>\n",
       "      <th>0</th>\n",
       "      <td>43</td>\n",
       "      <td>[브라질, 과테말라]</td>\n",
       "      <td>미디엄다크</td>\n",
       "      <td>0</td>\n",
       "      <td>4</td>\n",
       "      <td>2</td>\n",
       "      <td>4</td>\n",
       "      <td>3</td>\n",
       "      <td>0</td>\n",
       "      <td>1</td>\n",
       "      <td>0</td>\n",
       "    </tr>\n",
       "    <tr>\n",
       "      <th>1</th>\n",
       "      <td>3896</td>\n",
       "      <td>[세라도]</td>\n",
       "      <td>미디엄다크</td>\n",
       "      <td>0</td>\n",
       "      <td>4</td>\n",
       "      <td>2</td>\n",
       "      <td>4</td>\n",
       "      <td>3</td>\n",
       "      <td>1</td>\n",
       "      <td>0</td>\n",
       "      <td>0</td>\n",
       "    </tr>\n",
       "  </tbody>\n",
       "</table>\n",
       "</div>"
      ],
      "text/plain": [
       "     id           나라 로스팅 포인트 지속가능성  바디감  신맛  단맛  쓴맛  타입_디카페인  타입_블렌드  타입_싱글오리진\n",
       "0    43  [브라질, 과테말라]   미디엄다크     0    4   2   4   3        0       1         0\n",
       "1  3896        [세라도]   미디엄다크     0    4   2   4   3        1       0         0"
      ]
     },
     "execution_count": 186,
     "metadata": {},
     "output_type": "execute_result"
    }
   ],
   "source": [
    "features = features[['id', '나라', '로스팅 포인트', '지속가능성', '바디감', '신맛', '단맛', '쓴맛', '타입_디카페인', '타입_블렌드', '타입_싱글오리진']]\n",
    "features.head(2)"
   ]
  },
  {
   "cell_type": "code",
   "execution_count": 187,
   "metadata": {},
   "outputs": [
    {
     "data": {
      "text/plain": [
       "array([0, '유기농', '공정무역', '직접무역'], dtype=object)"
      ]
     },
     "execution_count": 187,
     "metadata": {},
     "output_type": "execute_result"
    }
   ],
   "source": [
    "features['지속가능성'].unique()"
   ]
  },
  {
   "cell_type": "code",
   "execution_count": 188,
   "metadata": {},
   "outputs": [
    {
     "data": {
      "text/plain": [
       "array(['미디엄다크', '라이트미디엄', '다크', '미디엄', '라이트'], dtype=object)"
      ]
     },
     "execution_count": 188,
     "metadata": {},
     "output_type": "execute_result"
    }
   ],
   "source": [
    "features['로스팅 포인트'].unique()"
   ]
  },
  {
   "cell_type": "code",
   "execution_count": 189,
   "metadata": {},
   "outputs": [
    {
     "data": {
      "text/html": [
       "<div>\n",
       "<style scoped>\n",
       "    .dataframe tbody tr th:only-of-type {\n",
       "        vertical-align: middle;\n",
       "    }\n",
       "\n",
       "    .dataframe tbody tr th {\n",
       "        vertical-align: top;\n",
       "    }\n",
       "\n",
       "    .dataframe thead th {\n",
       "        text-align: right;\n",
       "    }\n",
       "</style>\n",
       "<table border=\"1\" class=\"dataframe\">\n",
       "  <thead>\n",
       "    <tr style=\"text-align: right;\">\n",
       "      <th></th>\n",
       "      <th>id</th>\n",
       "      <th>나라</th>\n",
       "      <th>바디감</th>\n",
       "      <th>신맛</th>\n",
       "      <th>단맛</th>\n",
       "      <th>쓴맛</th>\n",
       "      <th>타입_디카페인</th>\n",
       "      <th>타입_블렌드</th>\n",
       "      <th>타입_싱글오리진</th>\n",
       "      <th>지속가능성_0</th>\n",
       "      <th>지속가능성_공정무역</th>\n",
       "      <th>지속가능성_유기농</th>\n",
       "      <th>지속가능성_직접무역</th>\n",
       "      <th>로스팅 포인트_다크</th>\n",
       "      <th>로스팅 포인트_라이트</th>\n",
       "      <th>로스팅 포인트_라이트미디엄</th>\n",
       "      <th>로스팅 포인트_미디엄</th>\n",
       "      <th>로스팅 포인트_미디엄다크</th>\n",
       "    </tr>\n",
       "  </thead>\n",
       "  <tbody>\n",
       "    <tr>\n",
       "      <th>0</th>\n",
       "      <td>43</td>\n",
       "      <td>[브라질, 과테말라]</td>\n",
       "      <td>4</td>\n",
       "      <td>2</td>\n",
       "      <td>4</td>\n",
       "      <td>3</td>\n",
       "      <td>0</td>\n",
       "      <td>1</td>\n",
       "      <td>0</td>\n",
       "      <td>1</td>\n",
       "      <td>0</td>\n",
       "      <td>0</td>\n",
       "      <td>0</td>\n",
       "      <td>0</td>\n",
       "      <td>0</td>\n",
       "      <td>0</td>\n",
       "      <td>0</td>\n",
       "      <td>1</td>\n",
       "    </tr>\n",
       "    <tr>\n",
       "      <th>1</th>\n",
       "      <td>3896</td>\n",
       "      <td>[세라도]</td>\n",
       "      <td>4</td>\n",
       "      <td>2</td>\n",
       "      <td>4</td>\n",
       "      <td>3</td>\n",
       "      <td>1</td>\n",
       "      <td>0</td>\n",
       "      <td>0</td>\n",
       "      <td>1</td>\n",
       "      <td>0</td>\n",
       "      <td>0</td>\n",
       "      <td>0</td>\n",
       "      <td>0</td>\n",
       "      <td>0</td>\n",
       "      <td>0</td>\n",
       "      <td>0</td>\n",
       "      <td>1</td>\n",
       "    </tr>\n",
       "  </tbody>\n",
       "</table>\n",
       "</div>"
      ],
      "text/plain": [
       "     id           나라  바디감  신맛  단맛  쓴맛  타입_디카페인  타입_블렌드  타입_싱글오리진  지속가능성_0  \\\n",
       "0    43  [브라질, 과테말라]    4   2   4   3        0       1         0        1   \n",
       "1  3896        [세라도]    4   2   4   3        1       0         0        1   \n",
       "\n",
       "   지속가능성_공정무역  지속가능성_유기농  지속가능성_직접무역  로스팅 포인트_다크  로스팅 포인트_라이트  로스팅 포인트_라이트미디엄  \\\n",
       "0           0          0           0           0            0               0   \n",
       "1           0          0           0           0            0               0   \n",
       "\n",
       "   로스팅 포인트_미디엄  로스팅 포인트_미디엄다크  \n",
       "0            0              1  \n",
       "1            0              1  "
      ]
     },
     "execution_count": 189,
     "metadata": {},
     "output_type": "execute_result"
    }
   ],
   "source": [
    "features = pd.get_dummies(features, columns=['지속가능성', '로스팅 포인트'], dtype=int)\n",
    "features.head(2)"
   ]
  },
  {
   "cell_type": "code",
   "execution_count": 190,
   "metadata": {},
   "outputs": [
    {
     "data": {
      "text/html": [
       "<div>\n",
       "<style scoped>\n",
       "    .dataframe tbody tr th:only-of-type {\n",
       "        vertical-align: middle;\n",
       "    }\n",
       "\n",
       "    .dataframe tbody tr th {\n",
       "        vertical-align: top;\n",
       "    }\n",
       "\n",
       "    .dataframe thead th {\n",
       "        text-align: right;\n",
       "    }\n",
       "</style>\n",
       "<table border=\"1\" class=\"dataframe\">\n",
       "  <thead>\n",
       "    <tr style=\"text-align: right;\">\n",
       "      <th></th>\n",
       "      <th>id</th>\n",
       "      <th>꽃</th>\n",
       "      <th>과일</th>\n",
       "      <th>허브</th>\n",
       "      <th>달콤함</th>\n",
       "      <th>고소함</th>\n",
       "      <th>향료_풍미</th>\n",
       "      <th>초콜릿</th>\n",
       "    </tr>\n",
       "  </thead>\n",
       "  <tbody>\n",
       "    <tr>\n",
       "      <th>0</th>\n",
       "      <td>43</td>\n",
       "      <td>0</td>\n",
       "      <td>0</td>\n",
       "      <td>0</td>\n",
       "      <td>1</td>\n",
       "      <td>0</td>\n",
       "      <td>1</td>\n",
       "      <td>0</td>\n",
       "    </tr>\n",
       "    <tr>\n",
       "      <th>1</th>\n",
       "      <td>3896</td>\n",
       "      <td>0</td>\n",
       "      <td>0</td>\n",
       "      <td>0</td>\n",
       "      <td>0</td>\n",
       "      <td>0</td>\n",
       "      <td>0</td>\n",
       "      <td>0</td>\n",
       "    </tr>\n",
       "  </tbody>\n",
       "</table>\n",
       "</div>"
      ],
      "text/plain": [
       "     id  꽃  과일  허브  달콤함  고소함  향료_풍미  초콜릿\n",
       "0    43  0   0   0    1    0      1    0\n",
       "1  3896  0   0   0    0    0      0    0"
      ]
     },
     "execution_count": 190,
     "metadata": {},
     "output_type": "execute_result"
    }
   ],
   "source": [
    "notes = pd.read_csv('category.csv')\n",
    "notes = notes.loc[:, notes.columns!='컵 노트']\n",
    "notes.head(2)"
   ]
  },
  {
   "cell_type": "code",
   "execution_count": 191,
   "metadata": {},
   "outputs": [
    {
     "data": {
      "text/html": [
       "<div>\n",
       "<style scoped>\n",
       "    .dataframe tbody tr th:only-of-type {\n",
       "        vertical-align: middle;\n",
       "    }\n",
       "\n",
       "    .dataframe tbody tr th {\n",
       "        vertical-align: top;\n",
       "    }\n",
       "\n",
       "    .dataframe thead th {\n",
       "        text-align: right;\n",
       "    }\n",
       "</style>\n",
       "<table border=\"1\" class=\"dataframe\">\n",
       "  <thead>\n",
       "    <tr style=\"text-align: right;\">\n",
       "      <th></th>\n",
       "      <th>id</th>\n",
       "      <th>나라</th>\n",
       "      <th>바디감</th>\n",
       "      <th>신맛</th>\n",
       "      <th>단맛</th>\n",
       "      <th>쓴맛</th>\n",
       "      <th>타입_디카페인</th>\n",
       "      <th>타입_블렌드</th>\n",
       "      <th>타입_싱글오리진</th>\n",
       "      <th>지속가능성_0</th>\n",
       "      <th>...</th>\n",
       "      <th>로스팅 포인트_라이트미디엄</th>\n",
       "      <th>로스팅 포인트_미디엄</th>\n",
       "      <th>로스팅 포인트_미디엄다크</th>\n",
       "      <th>꽃</th>\n",
       "      <th>과일</th>\n",
       "      <th>허브</th>\n",
       "      <th>달콤함</th>\n",
       "      <th>고소함</th>\n",
       "      <th>향료_풍미</th>\n",
       "      <th>초콜릿</th>\n",
       "    </tr>\n",
       "  </thead>\n",
       "  <tbody>\n",
       "    <tr>\n",
       "      <th>0</th>\n",
       "      <td>43</td>\n",
       "      <td>[브라질, 과테말라]</td>\n",
       "      <td>4</td>\n",
       "      <td>2</td>\n",
       "      <td>4</td>\n",
       "      <td>3</td>\n",
       "      <td>0</td>\n",
       "      <td>1</td>\n",
       "      <td>0</td>\n",
       "      <td>1</td>\n",
       "      <td>...</td>\n",
       "      <td>0</td>\n",
       "      <td>0</td>\n",
       "      <td>1</td>\n",
       "      <td>0</td>\n",
       "      <td>0</td>\n",
       "      <td>0</td>\n",
       "      <td>1</td>\n",
       "      <td>0</td>\n",
       "      <td>1</td>\n",
       "      <td>0</td>\n",
       "    </tr>\n",
       "    <tr>\n",
       "      <th>1</th>\n",
       "      <td>3896</td>\n",
       "      <td>[세라도]</td>\n",
       "      <td>4</td>\n",
       "      <td>2</td>\n",
       "      <td>4</td>\n",
       "      <td>3</td>\n",
       "      <td>1</td>\n",
       "      <td>0</td>\n",
       "      <td>0</td>\n",
       "      <td>1</td>\n",
       "      <td>...</td>\n",
       "      <td>0</td>\n",
       "      <td>0</td>\n",
       "      <td>1</td>\n",
       "      <td>0</td>\n",
       "      <td>0</td>\n",
       "      <td>0</td>\n",
       "      <td>0</td>\n",
       "      <td>0</td>\n",
       "      <td>0</td>\n",
       "      <td>0</td>\n",
       "    </tr>\n",
       "  </tbody>\n",
       "</table>\n",
       "<p>2 rows × 25 columns</p>\n",
       "</div>"
      ],
      "text/plain": [
       "     id           나라  바디감  신맛  단맛  쓴맛  타입_디카페인  타입_블렌드  타입_싱글오리진  지속가능성_0  \\\n",
       "0    43  [브라질, 과테말라]    4   2   4   3        0       1         0        1   \n",
       "1  3896        [세라도]    4   2   4   3        1       0         0        1   \n",
       "\n",
       "   ...  로스팅 포인트_라이트미디엄  로스팅 포인트_미디엄  로스팅 포인트_미디엄다크  꽃  과일  허브  달콤함  고소함  \\\n",
       "0  ...               0            0              1  0   0   0    1    0   \n",
       "1  ...               0            0              1  0   0   0    0    0   \n",
       "\n",
       "   향료_풍미  초콜릿  \n",
       "0      1    0  \n",
       "1      0    0  \n",
       "\n",
       "[2 rows x 25 columns]"
      ]
     },
     "execution_count": 191,
     "metadata": {},
     "output_type": "execute_result"
    }
   ],
   "source": [
    "features = pd.merge(features, notes, on=\"id\")\n",
    "features.head(2)"
   ]
  },
  {
   "cell_type": "code",
   "execution_count": 192,
   "metadata": {},
   "outputs": [
    {
     "data": {
      "text/html": [
       "<div>\n",
       "<style scoped>\n",
       "    .dataframe tbody tr th:only-of-type {\n",
       "        vertical-align: middle;\n",
       "    }\n",
       "\n",
       "    .dataframe tbody tr th {\n",
       "        vertical-align: top;\n",
       "    }\n",
       "\n",
       "    .dataframe thead th {\n",
       "        text-align: right;\n",
       "    }\n",
       "</style>\n",
       "<table border=\"1\" class=\"dataframe\">\n",
       "  <thead>\n",
       "    <tr style=\"text-align: right;\">\n",
       "      <th></th>\n",
       "      <th>바디감</th>\n",
       "      <th>신맛</th>\n",
       "      <th>단맛</th>\n",
       "      <th>쓴맛</th>\n",
       "      <th>타입_디카페인</th>\n",
       "      <th>타입_블렌드</th>\n",
       "      <th>타입_싱글오리진</th>\n",
       "      <th>지속가능성_0</th>\n",
       "      <th>지속가능성_공정무역</th>\n",
       "      <th>지속가능성_유기농</th>\n",
       "      <th>...</th>\n",
       "      <th>로스팅 포인트_라이트미디엄</th>\n",
       "      <th>로스팅 포인트_미디엄</th>\n",
       "      <th>로스팅 포인트_미디엄다크</th>\n",
       "      <th>꽃</th>\n",
       "      <th>과일</th>\n",
       "      <th>허브</th>\n",
       "      <th>달콤함</th>\n",
       "      <th>고소함</th>\n",
       "      <th>향료_풍미</th>\n",
       "      <th>초콜릿</th>\n",
       "    </tr>\n",
       "    <tr>\n",
       "      <th>id</th>\n",
       "      <th></th>\n",
       "      <th></th>\n",
       "      <th></th>\n",
       "      <th></th>\n",
       "      <th></th>\n",
       "      <th></th>\n",
       "      <th></th>\n",
       "      <th></th>\n",
       "      <th></th>\n",
       "      <th></th>\n",
       "      <th></th>\n",
       "      <th></th>\n",
       "      <th></th>\n",
       "      <th></th>\n",
       "      <th></th>\n",
       "      <th></th>\n",
       "      <th></th>\n",
       "      <th></th>\n",
       "      <th></th>\n",
       "      <th></th>\n",
       "      <th></th>\n",
       "    </tr>\n",
       "  </thead>\n",
       "  <tbody>\n",
       "    <tr>\n",
       "      <th>43</th>\n",
       "      <td>4</td>\n",
       "      <td>2</td>\n",
       "      <td>4</td>\n",
       "      <td>3</td>\n",
       "      <td>0</td>\n",
       "      <td>1</td>\n",
       "      <td>0</td>\n",
       "      <td>1</td>\n",
       "      <td>0</td>\n",
       "      <td>0</td>\n",
       "      <td>...</td>\n",
       "      <td>0</td>\n",
       "      <td>0</td>\n",
       "      <td>1</td>\n",
       "      <td>0</td>\n",
       "      <td>0</td>\n",
       "      <td>0</td>\n",
       "      <td>1</td>\n",
       "      <td>0</td>\n",
       "      <td>1</td>\n",
       "      <td>0</td>\n",
       "    </tr>\n",
       "    <tr>\n",
       "      <th>3896</th>\n",
       "      <td>4</td>\n",
       "      <td>2</td>\n",
       "      <td>4</td>\n",
       "      <td>3</td>\n",
       "      <td>1</td>\n",
       "      <td>0</td>\n",
       "      <td>0</td>\n",
       "      <td>1</td>\n",
       "      <td>0</td>\n",
       "      <td>0</td>\n",
       "      <td>...</td>\n",
       "      <td>0</td>\n",
       "      <td>0</td>\n",
       "      <td>1</td>\n",
       "      <td>0</td>\n",
       "      <td>0</td>\n",
       "      <td>0</td>\n",
       "      <td>0</td>\n",
       "      <td>0</td>\n",
       "      <td>0</td>\n",
       "      <td>0</td>\n",
       "    </tr>\n",
       "  </tbody>\n",
       "</table>\n",
       "<p>2 rows × 23 columns</p>\n",
       "</div>"
      ],
      "text/plain": [
       "      바디감  신맛  단맛  쓴맛  타입_디카페인  타입_블렌드  타입_싱글오리진  지속가능성_0  지속가능성_공정무역  \\\n",
       "id                                                                      \n",
       "43      4   2   4   3        0       1         0        1           0   \n",
       "3896    4   2   4   3        1       0         0        1           0   \n",
       "\n",
       "      지속가능성_유기농  ...  로스팅 포인트_라이트미디엄  로스팅 포인트_미디엄  로스팅 포인트_미디엄다크  꽃  과일  허브  \\\n",
       "id               ...                                                          \n",
       "43            0  ...               0            0              1  0   0   0   \n",
       "3896          0  ...               0            0              1  0   0   0   \n",
       "\n",
       "      달콤함  고소함  향료_풍미  초콜릿  \n",
       "id                          \n",
       "43      1    0      1    0  \n",
       "3896    0    0      0    0  \n",
       "\n",
       "[2 rows x 23 columns]"
      ]
     },
     "execution_count": 192,
     "metadata": {},
     "output_type": "execute_result"
    }
   ],
   "source": [
    "features = features.loc[:, features.columns!='나라']\n",
    "features = features.set_index('id')\n",
    "features.head(2)"
   ]
  },
  {
   "cell_type": "code",
   "execution_count": 193,
   "metadata": {},
   "outputs": [
    {
     "data": {
      "text/html": [
       "<div>\n",
       "<style scoped>\n",
       "    .dataframe tbody tr th:only-of-type {\n",
       "        vertical-align: middle;\n",
       "    }\n",
       "\n",
       "    .dataframe tbody tr th {\n",
       "        vertical-align: top;\n",
       "    }\n",
       "\n",
       "    .dataframe thead th {\n",
       "        text-align: right;\n",
       "    }\n",
       "</style>\n",
       "<table border=\"1\" class=\"dataframe\">\n",
       "  <thead>\n",
       "    <tr style=\"text-align: right;\">\n",
       "      <th></th>\n",
       "      <th>바디감</th>\n",
       "      <th>신맛</th>\n",
       "      <th>단맛</th>\n",
       "      <th>쓴맛</th>\n",
       "      <th>타입_디카페인</th>\n",
       "      <th>타입_블렌드</th>\n",
       "      <th>타입_싱글오리진</th>\n",
       "      <th>지속가능성_0</th>\n",
       "      <th>지속가능성_공정무역</th>\n",
       "      <th>지속가능성_유기농</th>\n",
       "      <th>...</th>\n",
       "      <th>로스팅 포인트_라이트미디엄</th>\n",
       "      <th>로스팅 포인트_미디엄</th>\n",
       "      <th>로스팅 포인트_미디엄다크</th>\n",
       "      <th>꽃</th>\n",
       "      <th>과일</th>\n",
       "      <th>허브</th>\n",
       "      <th>달콤함</th>\n",
       "      <th>고소함</th>\n",
       "      <th>향료_풍미</th>\n",
       "      <th>초콜릿</th>\n",
       "    </tr>\n",
       "    <tr>\n",
       "      <th>id</th>\n",
       "      <th></th>\n",
       "      <th></th>\n",
       "      <th></th>\n",
       "      <th></th>\n",
       "      <th></th>\n",
       "      <th></th>\n",
       "      <th></th>\n",
       "      <th></th>\n",
       "      <th></th>\n",
       "      <th></th>\n",
       "      <th></th>\n",
       "      <th></th>\n",
       "      <th></th>\n",
       "      <th></th>\n",
       "      <th></th>\n",
       "      <th></th>\n",
       "      <th></th>\n",
       "      <th></th>\n",
       "      <th></th>\n",
       "      <th></th>\n",
       "      <th></th>\n",
       "    </tr>\n",
       "  </thead>\n",
       "  <tbody>\n",
       "    <tr>\n",
       "      <th>43</th>\n",
       "      <td>4</td>\n",
       "      <td>2</td>\n",
       "      <td>4</td>\n",
       "      <td>3</td>\n",
       "      <td>0</td>\n",
       "      <td>1</td>\n",
       "      <td>0</td>\n",
       "      <td>1</td>\n",
       "      <td>0</td>\n",
       "      <td>0</td>\n",
       "      <td>...</td>\n",
       "      <td>0</td>\n",
       "      <td>0</td>\n",
       "      <td>1</td>\n",
       "      <td>0</td>\n",
       "      <td>0</td>\n",
       "      <td>0</td>\n",
       "      <td>1</td>\n",
       "      <td>0</td>\n",
       "      <td>1</td>\n",
       "      <td>0</td>\n",
       "    </tr>\n",
       "    <tr>\n",
       "      <th>3896</th>\n",
       "      <td>4</td>\n",
       "      <td>2</td>\n",
       "      <td>4</td>\n",
       "      <td>3</td>\n",
       "      <td>1</td>\n",
       "      <td>0</td>\n",
       "      <td>0</td>\n",
       "      <td>1</td>\n",
       "      <td>0</td>\n",
       "      <td>0</td>\n",
       "      <td>...</td>\n",
       "      <td>0</td>\n",
       "      <td>0</td>\n",
       "      <td>1</td>\n",
       "      <td>0</td>\n",
       "      <td>0</td>\n",
       "      <td>0</td>\n",
       "      <td>0</td>\n",
       "      <td>0</td>\n",
       "      <td>0</td>\n",
       "      <td>0</td>\n",
       "    </tr>\n",
       "    <tr>\n",
       "      <th>3458</th>\n",
       "      <td>3</td>\n",
       "      <td>4</td>\n",
       "      <td>5</td>\n",
       "      <td>1</td>\n",
       "      <td>0</td>\n",
       "      <td>0</td>\n",
       "      <td>1</td>\n",
       "      <td>0</td>\n",
       "      <td>0</td>\n",
       "      <td>1</td>\n",
       "      <td>...</td>\n",
       "      <td>1</td>\n",
       "      <td>0</td>\n",
       "      <td>0</td>\n",
       "      <td>0</td>\n",
       "      <td>0</td>\n",
       "      <td>0</td>\n",
       "      <td>0</td>\n",
       "      <td>0</td>\n",
       "      <td>0</td>\n",
       "      <td>0</td>\n",
       "    </tr>\n",
       "    <tr>\n",
       "      <th>22</th>\n",
       "      <td>4</td>\n",
       "      <td>1</td>\n",
       "      <td>3</td>\n",
       "      <td>4</td>\n",
       "      <td>0</td>\n",
       "      <td>1</td>\n",
       "      <td>0</td>\n",
       "      <td>0</td>\n",
       "      <td>1</td>\n",
       "      <td>0</td>\n",
       "      <td>...</td>\n",
       "      <td>0</td>\n",
       "      <td>0</td>\n",
       "      <td>0</td>\n",
       "      <td>0</td>\n",
       "      <td>0</td>\n",
       "      <td>0</td>\n",
       "      <td>1</td>\n",
       "      <td>1</td>\n",
       "      <td>0</td>\n",
       "      <td>1</td>\n",
       "    </tr>\n",
       "    <tr>\n",
       "      <th>180</th>\n",
       "      <td>5</td>\n",
       "      <td>3</td>\n",
       "      <td>5</td>\n",
       "      <td>1</td>\n",
       "      <td>0</td>\n",
       "      <td>0</td>\n",
       "      <td>1</td>\n",
       "      <td>1</td>\n",
       "      <td>0</td>\n",
       "      <td>0</td>\n",
       "      <td>...</td>\n",
       "      <td>0</td>\n",
       "      <td>0</td>\n",
       "      <td>1</td>\n",
       "      <td>0</td>\n",
       "      <td>1</td>\n",
       "      <td>0</td>\n",
       "      <td>0</td>\n",
       "      <td>0</td>\n",
       "      <td>0</td>\n",
       "      <td>1</td>\n",
       "    </tr>\n",
       "  </tbody>\n",
       "</table>\n",
       "<p>5 rows × 23 columns</p>\n",
       "</div>"
      ],
      "text/plain": [
       "      바디감  신맛  단맛  쓴맛  타입_디카페인  타입_블렌드  타입_싱글오리진  지속가능성_0  지속가능성_공정무역  \\\n",
       "id                                                                      \n",
       "43      4   2   4   3        0       1         0        1           0   \n",
       "3896    4   2   4   3        1       0         0        1           0   \n",
       "3458    3   4   5   1        0       0         1        0           0   \n",
       "22      4   1   3   4        0       1         0        0           1   \n",
       "180     5   3   5   1        0       0         1        1           0   \n",
       "\n",
       "      지속가능성_유기농  ...  로스팅 포인트_라이트미디엄  로스팅 포인트_미디엄  로스팅 포인트_미디엄다크  꽃  과일  허브  \\\n",
       "id               ...                                                          \n",
       "43            0  ...               0            0              1  0   0   0   \n",
       "3896          0  ...               0            0              1  0   0   0   \n",
       "3458          1  ...               1            0              0  0   0   0   \n",
       "22            0  ...               0            0              0  0   0   0   \n",
       "180           0  ...               0            0              1  0   1   0   \n",
       "\n",
       "      달콤함  고소함  향료_풍미  초콜릿  \n",
       "id                          \n",
       "43      1    0      1    0  \n",
       "3896    0    0      0    0  \n",
       "3458    0    0      0    0  \n",
       "22      1    1      0    1  \n",
       "180     0    0      0    1  \n",
       "\n",
       "[5 rows x 23 columns]"
      ]
     },
     "execution_count": 193,
     "metadata": {},
     "output_type": "execute_result"
    }
   ],
   "source": [
    "features.to_csv('features.csv')\n",
    "\n",
    "test = pd.read_csv('features.csv', index_col='id')\n",
    "test.head()"
   ]
  },
  {
   "cell_type": "code",
   "execution_count": 204,
   "metadata": {},
   "outputs": [
    {
     "data": {
      "text/plain": [
       "Index(['바디감', '신맛', '단맛', '쓴맛', '타입_디카페인', '타입_블렌드', '타입_싱글오리진', '지속가능성_0',\n",
       "       '지속가능성_공정무역', '지속가능성_유기농', '지속가능성_직접무역', '로스팅 포인트_다크', '로스팅 포인트_라이트',\n",
       "       '로스팅 포인트_라이트미디엄', '로스팅 포인트_미디엄', '로스팅 포인트_미디엄다크', '꽃', '과일', '허브',\n",
       "       '달콤함', '고소함', '향료_풍미', '초콜릿'],\n",
       "      dtype='object')"
      ]
     },
     "execution_count": 204,
     "metadata": {},
     "output_type": "execute_result"
    }
   ],
   "source": [
    "test.columns"
   ]
  },
  {
   "cell_type": "markdown",
   "metadata": {},
   "source": [
    "***\n",
    "contetns based rec\n",
    "***"
   ]
  },
  {
   "cell_type": "code",
   "execution_count": 194,
   "metadata": {},
   "outputs": [],
   "source": [
    "test = test.loc[:, test.columns!='id']"
   ]
  },
  {
   "cell_type": "code",
   "execution_count": 195,
   "metadata": {},
   "outputs": [
    {
     "data": {
      "text/plain": [
       "(559, 23)"
      ]
     },
     "execution_count": 195,
     "metadata": {},
     "output_type": "execute_result"
    }
   ],
   "source": [
    "embeddings = test.values\n",
    "embeddings.shape"
   ]
  },
  {
   "cell_type": "code",
   "execution_count": 196,
   "metadata": {},
   "outputs": [
    {
     "name": "stdout",
     "output_type": "stream",
     "text": [
      "The scikit-learn version is 1.3.2.\n"
     ]
    }
   ],
   "source": [
    "import sklearn\n",
    "print('The scikit-learn version is {}.'.format(sklearn.__version__))"
   ]
  },
  {
   "cell_type": "code",
   "execution_count": 197,
   "metadata": {},
   "outputs": [
    {
     "data": {
      "text/plain": [
       "(559, 559)"
      ]
     },
     "execution_count": 197,
     "metadata": {},
     "output_type": "execute_result"
    }
   ],
   "source": [
    "from sklearn.metrics.pairwise import cosine_similarity\n",
    "cosine_similarity_matrix = cosine_similarity(embeddings, embeddings)\n",
    "cosine_similarity_matrix.shape"
   ]
  },
  {
   "cell_type": "code",
   "execution_count": 198,
   "metadata": {},
   "outputs": [
    {
     "data": {
      "text/plain": [
       "array([[1.        , 0.95938348],\n",
       "       [0.95938348, 1.        ]])"
      ]
     },
     "execution_count": 198,
     "metadata": {},
     "output_type": "execute_result"
    }
   ],
   "source": [
    "cosine_similarity_matrix[:2,:2]"
   ]
  },
  {
   "cell_type": "code",
   "execution_count": 200,
   "metadata": {},
   "outputs": [],
   "source": [
    "df_copy = df.copy()\n",
    "#df_copy = df_copy.set_index('id')"
   ]
  },
  {
   "cell_type": "code",
   "execution_count": 201,
   "metadata": {},
   "outputs": [],
   "source": [
    "def most_similar(idx, top_n=10):\n",
    "    df_copy['cosine_similarity'] = cosine_similarity_matrix[idx]\n",
    "    return df_copy.sort_values(by='cosine_similarity', ascending=False)[:top_n]"
   ]
  },
  {
   "cell_type": "code",
   "execution_count": 202,
   "metadata": {},
   "outputs": [
    {
     "data": {
      "text/html": [
       "<div>\n",
       "<style scoped>\n",
       "    .dataframe tbody tr th:only-of-type {\n",
       "        vertical-align: middle;\n",
       "    }\n",
       "\n",
       "    .dataframe tbody tr th {\n",
       "        vertical-align: top;\n",
       "    }\n",
       "\n",
       "    .dataframe thead th {\n",
       "        text-align: right;\n",
       "    }\n",
       "</style>\n",
       "<table border=\"1\" class=\"dataframe\">\n",
       "  <thead>\n",
       "    <tr style=\"text-align: right;\">\n",
       "      <th></th>\n",
       "      <th>id</th>\n",
       "      <th>이름</th>\n",
       "      <th>로스터리</th>\n",
       "      <th>타입</th>\n",
       "      <th>로스팅 포인트</th>\n",
       "      <th>지속가능성</th>\n",
       "      <th>컵 노트</th>\n",
       "      <th>바디감</th>\n",
       "      <th>신맛</th>\n",
       "      <th>단맛</th>\n",
       "      <th>...</th>\n",
       "      <th>제조원 및 소재지</th>\n",
       "      <th>유통기한</th>\n",
       "      <th>제조일자</th>\n",
       "      <th>내용량</th>\n",
       "      <th>보관 방법</th>\n",
       "      <th>원재료 및 함량</th>\n",
       "      <th>제품문의 관련 주소 및 전화번호</th>\n",
       "      <th>카페인</th>\n",
       "      <th>로스터리ID</th>\n",
       "      <th>cosine_similarity</th>\n",
       "    </tr>\n",
       "  </thead>\n",
       "  <tbody>\n",
       "    <tr>\n",
       "      <th>150</th>\n",
       "      <td>281</td>\n",
       "      <td>백야 블렌드</td>\n",
       "      <td>오프사이트</td>\n",
       "      <td>블렌드</td>\n",
       "      <td>미디엄다크</td>\n",
       "      <td>0</td>\n",
       "      <td>[캐슈넛, 견과류, 얼그레이, 감귤류, 달다]</td>\n",
       "      <td>3</td>\n",
       "      <td>4</td>\n",
       "      <td>4</td>\n",
       "      <td>...</td>\n",
       "      <td>경기도 파주시 조리읍 고봉로 929 2층</td>\n",
       "      <td>제조일로부터 1년</td>\n",
       "      <td>주문일로부터 3일 이내</td>\n",
       "      <td>200g / 1kg</td>\n",
       "      <td>햇빛이 들지 않는 상온에 밀폐 보관</td>\n",
       "      <td>원두 100%(에티오피아, 콜롬비아, 브라질)</td>\n",
       "      <td>오프사이트 0507-1399-2781</td>\n",
       "      <td>1</td>\n",
       "      <td>63</td>\n",
       "      <td>1.000000</td>\n",
       "    </tr>\n",
       "    <tr>\n",
       "      <th>459</th>\n",
       "      <td>134</td>\n",
       "      <td>상큼한초밥 블렌딩</td>\n",
       "      <td>원더월 커피 로스터스</td>\n",
       "      <td>블렌드</td>\n",
       "      <td>미디엄다크</td>\n",
       "      <td>0</td>\n",
       "      <td>[쌀밥, 땅콩, 아몬드, 허브, 감귤류]</td>\n",
       "      <td>3</td>\n",
       "      <td>3</td>\n",
       "      <td>3</td>\n",
       "      <td>...</td>\n",
       "      <td>원더월 커피로스터스, 서울시 동대문구 답십리로 80 1층</td>\n",
       "      <td>제조일로 2개월</td>\n",
       "      <td>제품 표시</td>\n",
       "      <td>1kg</td>\n",
       "      <td>실온 보관</td>\n",
       "      <td>아라비카 생두 100%</td>\n",
       "      <td>코케 고객센터 070-4647-1868</td>\n",
       "      <td>1</td>\n",
       "      <td>68</td>\n",
       "      <td>0.980316</td>\n",
       "    </tr>\n",
       "    <tr>\n",
       "      <th>266</th>\n",
       "      <td>146</td>\n",
       "      <td>안목블렌드</td>\n",
       "      <td>보사노바 커피로스터스</td>\n",
       "      <td>블렌드</td>\n",
       "      <td>미디엄다크</td>\n",
       "      <td>0</td>\n",
       "      <td>[감귤류, 살구, 피칸, 마카다미아, 아몬드]</td>\n",
       "      <td>4</td>\n",
       "      <td>4</td>\n",
       "      <td>5</td>\n",
       "      <td>...</td>\n",
       "      <td>보사노바로스팅팩토리, 강원도 강릉시 경강로2660번길 7</td>\n",
       "      <td>제조일로부터 12개월</td>\n",
       "      <td>별도표시</td>\n",
       "      <td>200g / 1kg</td>\n",
       "      <td>직사광선과 습기를 피하여 서늘한 곳에 실온 보관 하며, 개봉한 후에는 빨리 드십시오.</td>\n",
       "      <td>커피원두 100%</td>\n",
       "      <td>코케 고객센터 070-4647-1868</td>\n",
       "      <td>1</td>\n",
       "      <td>36</td>\n",
       "      <td>0.971004</td>\n",
       "    </tr>\n",
       "    <tr>\n",
       "      <th>500</th>\n",
       "      <td>60</td>\n",
       "      <td>메이데이</td>\n",
       "      <td>센터 커피</td>\n",
       "      <td>블렌드</td>\n",
       "      <td>미디엄다크</td>\n",
       "      <td>0</td>\n",
       "      <td>[과일, 쥬시, 카라멜]</td>\n",
       "      <td>3</td>\n",
       "      <td>4</td>\n",
       "      <td>5</td>\n",
       "      <td>...</td>\n",
       "      <td>(주)클라우드 핑크, 서울 성동구 서울숲2길 28-11</td>\n",
       "      <td>제조일로부터 1년</td>\n",
       "      <td>후면별도표기</td>\n",
       "      <td>210g / 500g</td>\n",
       "      <td>실온에서 직사광선을 피해 서늘한 곳에 보관하세요.</td>\n",
       "      <td>커피 100%(과테말라 40%, 에티오피아 30%, 콜롬비아 30%)</td>\n",
       "      <td>코케 고객센터 070-4647-1868</td>\n",
       "      <td>1</td>\n",
       "      <td>42</td>\n",
       "      <td>0.963624</td>\n",
       "    </tr>\n",
       "    <tr>\n",
       "      <th>84</th>\n",
       "      <td>1298</td>\n",
       "      <td>그린 블렌딩 커피</td>\n",
       "      <td>링크 커피 로스터스</td>\n",
       "      <td>블렌드</td>\n",
       "      <td>미디엄다크</td>\n",
       "      <td>0</td>\n",
       "      <td>[바닐라, 호두, 황설탕, 건포도]</td>\n",
       "      <td>4</td>\n",
       "      <td>3</td>\n",
       "      <td>4</td>\n",
       "      <td>...</td>\n",
       "      <td>주식회사 링크에프엔비 (전남 장성군 나노산단로 172 2동 1544-3162)</td>\n",
       "      <td>NaN</td>\n",
       "      <td>제품 상단 별도 표기</td>\n",
       "      <td>200g / 1kg</td>\n",
       "      <td>NaN</td>\n",
       "      <td>원두커피 100% (상세 함량 별도 표기)</td>\n",
       "      <td>코케 고객센터 070-4647-1868</td>\n",
       "      <td>1</td>\n",
       "      <td>30</td>\n",
       "      <td>0.961538</td>\n",
       "    </tr>\n",
       "  </tbody>\n",
       "</table>\n",
       "<p>5 rows × 27 columns</p>\n",
       "</div>"
      ],
      "text/plain": [
       "       id         이름         로스터리   타입 로스팅 포인트 지속가능성  \\\n",
       "150   281     백야 블렌드        오프사이트  블렌드   미디엄다크     0   \n",
       "459   134  상큼한초밥 블렌딩  원더월 커피 로스터스  블렌드   미디엄다크     0   \n",
       "266   146      안목블렌드  보사노바 커피로스터스  블렌드   미디엄다크     0   \n",
       "500    60       메이데이        센터 커피  블렌드   미디엄다크     0   \n",
       "84   1298  그린 블렌딩 커피   링크 커피 로스터스  블렌드   미디엄다크     0   \n",
       "\n",
       "                          컵 노트  바디감  신맛  단맛  ...  \\\n",
       "150  [캐슈넛, 견과류, 얼그레이, 감귤류, 달다]    3   4   4  ...   \n",
       "459     [쌀밥, 땅콩, 아몬드, 허브, 감귤류]    3   3   3  ...   \n",
       "266  [감귤류, 살구, 피칸, 마카다미아, 아몬드]    4   4   5  ...   \n",
       "500              [과일, 쥬시, 카라멜]    3   4   5  ...   \n",
       "84         [바닐라, 호두, 황설탕, 건포도]    4   3   4  ...   \n",
       "\n",
       "                                       제조원 및 소재지         유통기한          제조일자  \\\n",
       "150                       경기도 파주시 조리읍 고봉로 929 2층    제조일로부터 1년  주문일로부터 3일 이내   \n",
       "459              원더월 커피로스터스, 서울시 동대문구 답십리로 80 1층     제조일로 2개월         제품 표시   \n",
       "266              보사노바로스팅팩토리, 강원도 강릉시 경강로2660번길 7  제조일로부터 12개월          별도표시   \n",
       "500               (주)클라우드 핑크, 서울 성동구 서울숲2길 28-11    제조일로부터 1년        후면별도표기   \n",
       "84   주식회사 링크에프엔비 (전남 장성군 나노산단로 172 2동 1544-3162)          NaN   제품 상단 별도 표기   \n",
       "\n",
       "             내용량                                            보관 방법  \\\n",
       "150   200g / 1kg                              햇빛이 들지 않는 상온에 밀폐 보관   \n",
       "459          1kg                                            실온 보관   \n",
       "266   200g / 1kg  직사광선과 습기를 피하여 서늘한 곳에 실온 보관 하며, 개봉한 후에는 빨리 드십시오.   \n",
       "500  210g / 500g                      실온에서 직사광선을 피해 서늘한 곳에 보관하세요.   \n",
       "84    200g / 1kg                                              NaN   \n",
       "\n",
       "                                   원재료 및 함량      제품문의 관련 주소 및 전화번호 카페인 로스터리ID  \\\n",
       "150               원두 100%(에티오피아, 콜롬비아, 브라질)   오프사이트 0507-1399-2781   1     63   \n",
       "459                            아라비카 생두 100%  코케 고객센터 070-4647-1868   1     68   \n",
       "266                               커피원두 100%  코케 고객센터 070-4647-1868   1     36   \n",
       "500  커피 100%(과테말라 40%, 에티오피아 30%, 콜롬비아 30%)  코케 고객센터 070-4647-1868   1     42   \n",
       "84                  원두커피 100% (상세 함량 별도 표기)  코케 고객센터 070-4647-1868   1     30   \n",
       "\n",
       "    cosine_similarity  \n",
       "150          1.000000  \n",
       "459          0.980316  \n",
       "266          0.971004  \n",
       "500          0.963624  \n",
       "84           0.961538  \n",
       "\n",
       "[5 rows x 27 columns]"
      ]
     },
     "execution_count": 202,
     "metadata": {},
     "output_type": "execute_result"
    }
   ],
   "source": [
    "most_similar(150, top_n=5)"
   ]
  },
  {
   "cell_type": "code",
   "execution_count": null,
   "metadata": {},
   "outputs": [],
   "source": []
  }
 ],
 "metadata": {
  "kernelspec": {
   "display_name": "coffee",
   "language": "python",
   "name": "python3"
  },
  "language_info": {
   "codemirror_mode": {
    "name": "ipython",
    "version": 3
   },
   "file_extension": ".py",
   "mimetype": "text/x-python",
   "name": "python",
   "nbconvert_exporter": "python",
   "pygments_lexer": "ipython3",
   "version": "3.10.4"
  }
 },
 "nbformat": 4,
 "nbformat_minor": 2
}
