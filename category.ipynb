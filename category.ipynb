{
 "cells": [
  {
   "cell_type": "code",
   "execution_count": 20,
   "metadata": {},
   "outputs": [],
   "source": [
    "import pandas as pd\n",
    "from ast import literal_eval\n",
    "import numpy as np\n",
    "from collections import Counter"
   ]
  },
  {
   "cell_type": "code",
   "execution_count": 14,
   "metadata": {},
   "outputs": [],
   "source": [
    "df = pd.read_csv('wondoofin.csv')"
   ]
  },
  {
   "cell_type": "code",
   "execution_count": 15,
   "metadata": {},
   "outputs": [
    {
     "data": {
      "text/plain": [
       "Index(['id', '이름', '로스터리', '타입', '로스팅 포인트', '지속가능성', '컵 노트', '바디감', '신맛', '단맛',\n",
       "       '쓴맛', '커피 소개', '나라', '로스터리 소개', '로스터리 주소', '이름.1', '식품의 유형',\n",
       "       '제조원 및 소재지', '유통기한', '제조일자', '내용량', '보관 방법', '원재료 및 함량',\n",
       "       '제품문의 관련 주소 및 전화번호', '카페인', '로스터리ID'],\n",
       "      dtype='object')"
      ]
     },
     "execution_count": 15,
     "metadata": {},
     "output_type": "execute_result"
    }
   ],
   "source": [
    "df.columns"
   ]
  },
  {
   "cell_type": "markdown",
   "metadata": {},
   "source": [
    "***\n",
    "컵 노트 분류하기\n",
    "***"
   ]
  },
  {
   "cell_type": "code",
   "execution_count": 16,
   "metadata": {},
   "outputs": [
    {
     "name": "stdout",
     "output_type": "stream",
     "text": [
      "df에 포함되어 있는 컵노트 리스트 길이 :  123\n"
     ]
    }
   ],
   "source": [
    "for i in range(len(df)):\n",
    "    df.at[i, '컵 노트'] = literal_eval(df.at[i, '컵 노트'])\n",
    "list_cup = df[\"컵 노트\"].explode().unique() \n",
    "print('df에 포함되어 있는 컵노트 리스트 길이 : ', len(list_cup))"
   ]
  },
  {
   "cell_type": "code",
   "execution_count": 18,
   "metadata": {},
   "outputs": [],
   "source": [
    "temp = ['장미', '꽃', '자스민', '히비스커스', '플로럴',\n",
    "\n",
    "'귤', '배', '체리', '토마토', '사과', '베리류', '복숭아', '크랜베리', '건과일', '자두', '블루베리', '오렌지', '딸기', '포도', '레몬', '시트러스', '자몽', '블랙베리', '건자두', '무화과', '과일', '대추', '스톤프루츠', '블랙체리', '탠저린', '감귤류', '파파야', '열대과일','살구', '라임', '라즈베리', '리치', '건포도', '쥬시', '망고', '엘더베리', '와인', '과일잼',\n",
    "'묵직한 바디와 쌉쌀한 애프터', '적은 산미', '달콤한 산미', '산미와 단맛의 조화로움', \n",
    "\n",
    "'얼그레이', '홍차', '녹차', '블랙티', '허브', '레몬그라스',\n",
    "\n",
    "'달다', '크림브륄레', '케인슈가', '마시멜로', '꿀', '카라멜', '설탕', '황설탕', '메이플', '흑설탕', '스카치캔디', '브라우니', '군고구마', '군밤', '캔디', '땅콩카라멜', '견과류 단맛', '단호박', '버터스카치', '과일잼', '토피',\n",
    "'달콤한 산미', '산미와 단맛의 조화로움',\n",
    "\n",
    "'그레인', '캐슈넛',  '보리차', '시리얼',  '쌀과자', '밤', '보리', '쌀밥', '토스트', '구운 아몬드', '옥수수', '견과류', '땅콩', '크래커', '호두', '잣', '구운 땅콩', '아몬드', '헤이즐넛', '피스타치오', '곡물의 고소함','구운 견과류', '누룽지', '팝콘', '비스킷', '마카다미아', '피칸', '강냉이', '군고구마', '군밤',  '누텔라', '아몬드 초콜릿', '땅콩카라멜','견과류 단맛',\n",
    "\n",
    "'흑맥주', '버터', '몰트', '맥아', '시나몬', '감초', '시가', '스모키', '버번위스키', '향신료', '오크', '바닐라', '초콜릿 트러플',\n",
    "\n",
    "'다크 초콜릿', '초콜릿', '카카오닙스', '카카오',\n",
    "'밀크 초콜릿', '화이트 초콜릿', '누텔라', '아몬드 초콜릿', '초콜릿 트러플', '브라우니']"
   ]
  },
  {
   "cell_type": "code",
   "execution_count": 19,
   "metadata": {},
   "outputs": [
    {
     "data": {
      "text/plain": [
       "133"
      ]
     },
     "execution_count": 19,
     "metadata": {},
     "output_type": "execute_result"
    }
   ],
   "source": [
    "len(temp)"
   ]
  },
  {
   "cell_type": "code",
   "execution_count": 27,
   "metadata": {},
   "outputs": [
    {
     "name": "stdout",
     "output_type": "stream",
     "text": [
      "null을 제외하고 중복값을 제외한 clist의 길이 :  122\n"
     ]
    }
   ],
   "source": [
    "c = Counter(temp)\n",
    "clist = list(c.keys())\n",
    "print('null을 제외하고 중복값을 제외한 clist의 길이 : ', len(clist))"
   ]
  },
  {
   "cell_type": "markdown",
   "metadata": {},
   "source": [
    "***\n",
    "카테고리 정보 데이터 프레임 만들기\n",
    "***"
   ]
  },
  {
   "cell_type": "code",
   "execution_count": 31,
   "metadata": {},
   "outputs": [],
   "source": [
    "new_dict = {'CategoryIdx' : [0,1,2,3,4,5,6], \n",
    "            'Category' : ['꽃', '과일', '허브', '달콤함', '고소함', '향료_풍미', '초콜릿'], \n",
    "            'CupNotes' : [\n",
    "                # 꽃\n",
    "                ['장미', '꽃', '자스민', '히비스커스', '플로럴'], \n",
    "                # 과일\n",
    "                ['귤', '배', '체리', '토마토', '사과', '베리류', '복숭아', '크랜베리', '건과일', '자두', '블루베리', '오렌지', '딸기', '포도', '레몬', '시트러스', '자몽','블랙베리', '건자두', '무화과', '과일', '대추', '스톤프루츠', '블랙체리', '탠저린', '감귤류', '파파야', '열대과일','살구', '라임', '라즈베리', '리치', '건포도', '쥬시', '망고', '엘더베리', '와인', '과일잼', '묵직한 바디와 쌉쌀한 애프터', '적은 산미', '달콤한 산미', '산미와 단맛의 조화로움'], \n",
    "                # 허브\n",
    "                ['얼그레이', '홍차', '녹차', '블랙티', '허브', '레몬그라스'], \n",
    "                #달콤함\n",
    "                ['달다', '크림브륄레', '케인슈가', '마시멜로', '꿀', '카라멜', '설탕', '황설탕', '메이플', '흑설탕', '스카치캔디', '브라우니', '군고구마', '군밤', '캔디', '땅콩카라멜', '견과류 단맛', '단호박', '버터스카치', '과일잼', '토피', '달콤한 산미', '산미와 단맛의 조화로움'],\n",
    "                # 고소함\n",
    "                ['그레인', '캐슈넛',  '보리차', '시리얼',  '쌀과자', '밤', '보리', '쌀밥', '토스트', '구운 아몬드', '옥수수', '견과류', '땅콩', '크래커', '호두', '잣', '구운 땅콩', '아몬드', '헤이즐넛', '피스타치오', '곡물의 고소함','구운 견과류', '누룽지', '팝콘', '비스킷', '마카다미아', '피칸', '강냉이', '군고구마', '군밤',  '누텔라', '아몬드 초콜릿', '땅콩카라멜','견과류 단맛'],\n",
    "                # 향료_풍미\n",
    "                ['흑맥주', '버터', '몰트', '맥아', '시나몬', '감초', '시가', '스모키', '버번위스키', '향신료', '오크', '바닐라', '초콜릿 트러플'], \n",
    "                # 초콜릿\n",
    "                ['다크 초콜릿', '초콜릿', '카카오닙스', '카카오', '밀크 초콜릿', '화이트 초콜릿', '누텔라', '아몬드 초콜릿', '초콜릿 트러플', '브라우니']\n",
    "                ]\n",
    "            }\n"
   ]
  },
  {
   "cell_type": "code",
   "execution_count": 35,
   "metadata": {},
   "outputs": [],
   "source": [
    "cat_df = pd.DataFrame.from_dict(new_dict)"
   ]
  },
  {
   "cell_type": "code",
   "execution_count": 36,
   "metadata": {},
   "outputs": [
    {
     "data": {
      "text/html": [
       "<div>\n",
       "<style scoped>\n",
       "    .dataframe tbody tr th:only-of-type {\n",
       "        vertical-align: middle;\n",
       "    }\n",
       "\n",
       "    .dataframe tbody tr th {\n",
       "        vertical-align: top;\n",
       "    }\n",
       "\n",
       "    .dataframe thead th {\n",
       "        text-align: right;\n",
       "    }\n",
       "</style>\n",
       "<table border=\"1\" class=\"dataframe\">\n",
       "  <thead>\n",
       "    <tr style=\"text-align: right;\">\n",
       "      <th></th>\n",
       "      <th>CategoryIdx</th>\n",
       "      <th>Category</th>\n",
       "      <th>CupNotes</th>\n",
       "    </tr>\n",
       "  </thead>\n",
       "  <tbody>\n",
       "    <tr>\n",
       "      <th>0</th>\n",
       "      <td>0</td>\n",
       "      <td>꽃</td>\n",
       "      <td>[장미, 꽃, 자스민, 히비스커스, 플로럴]</td>\n",
       "    </tr>\n",
       "    <tr>\n",
       "      <th>1</th>\n",
       "      <td>1</td>\n",
       "      <td>과일</td>\n",
       "      <td>[귤, 배, 체리, 토마토, 사과, 베리류, 복숭아, 크랜베리, 건과일, 자두, 블...</td>\n",
       "    </tr>\n",
       "    <tr>\n",
       "      <th>2</th>\n",
       "      <td>2</td>\n",
       "      <td>허브</td>\n",
       "      <td>[얼그레이, 홍차, 녹차, 블랙티, 허브, 레몬그라스]</td>\n",
       "    </tr>\n",
       "    <tr>\n",
       "      <th>3</th>\n",
       "      <td>3</td>\n",
       "      <td>달콤함</td>\n",
       "      <td>[달다, 크림브륄레, 케인슈가, 마시멜로, 꿀, 카라멜, 설탕, 황설탕, 메이플, ...</td>\n",
       "    </tr>\n",
       "    <tr>\n",
       "      <th>4</th>\n",
       "      <td>4</td>\n",
       "      <td>고소함</td>\n",
       "      <td>[그레인, 캐슈넛, 보리차, 시리얼, 쌀과자, 밤, 보리, 쌀밥, 토스트, 구운 아...</td>\n",
       "    </tr>\n",
       "    <tr>\n",
       "      <th>5</th>\n",
       "      <td>5</td>\n",
       "      <td>향료_풍미</td>\n",
       "      <td>[흑맥주, 버터, 몰트, 맥아, 시나몬, 감초, 시가, 스모키, 버번위스키, 향신료...</td>\n",
       "    </tr>\n",
       "    <tr>\n",
       "      <th>6</th>\n",
       "      <td>6</td>\n",
       "      <td>초콜릿</td>\n",
       "      <td>[다크 초콜릿, 초콜릿, 카카오닙스, 카카오, 밀크 초콜릿, 화이트 초콜릿, 누텔라...</td>\n",
       "    </tr>\n",
       "  </tbody>\n",
       "</table>\n",
       "</div>"
      ],
      "text/plain": [
       "   CategoryIdx Category                                           CupNotes\n",
       "0            0        꽃                           [장미, 꽃, 자스민, 히비스커스, 플로럴]\n",
       "1            1       과일  [귤, 배, 체리, 토마토, 사과, 베리류, 복숭아, 크랜베리, 건과일, 자두, 블...\n",
       "2            2       허브                     [얼그레이, 홍차, 녹차, 블랙티, 허브, 레몬그라스]\n",
       "3            3      달콤함  [달다, 크림브륄레, 케인슈가, 마시멜로, 꿀, 카라멜, 설탕, 황설탕, 메이플, ...\n",
       "4            4      고소함  [그레인, 캐슈넛, 보리차, 시리얼, 쌀과자, 밤, 보리, 쌀밥, 토스트, 구운 아...\n",
       "5            5    향료_풍미  [흑맥주, 버터, 몰트, 맥아, 시나몬, 감초, 시가, 스모키, 버번위스키, 향신료...\n",
       "6            6      초콜릿  [다크 초콜릿, 초콜릿, 카카오닙스, 카카오, 밀크 초콜릿, 화이트 초콜릿, 누텔라..."
      ]
     },
     "execution_count": 36,
     "metadata": {},
     "output_type": "execute_result"
    }
   ],
   "source": [
    "cat_df"
   ]
  },
  {
   "cell_type": "code",
   "execution_count": 49,
   "metadata": {},
   "outputs": [
    {
     "name": "stdout",
     "output_type": "stream",
     "text": [
      "['장미', '꽃', '자스민', '히비스커스', '플로럴']\n",
      "['귤', '배', '체리', '토마토', '사과', '베리류', '복숭아', '크랜베리', '건과일', '자두', '블루베리', '오렌지', '딸기', '포도', '레몬', '시트러스', '자몽', '블랙베리', '건자두', '무화과', '과일', '대추', '스톤프루츠', '블랙체리', '탠저린', '감귤류', '파파야', '열대과일', '살구', '라임', '라즈베리', '리치', '건포도', '쥬시', '망고', '엘더베리', '와인', '과일잼', '묵직한 바디와 쌉쌀한 애프터', '적은 산미', '달콤한 산미', '산미와 단맛의 조화로움']\n",
      "['얼그레이', '홍차', '녹차', '블랙티', '허브', '레몬그라스']\n",
      "['달다', '크림브륄레', '케인슈가', '마시멜로', '꿀', '카라멜', '설탕', '황설탕', '메이플', '흑설탕', '스카치캔디', '브라우니', '군고구마', '군밤', '캔디', '땅콩카라멜', '견과류 단맛', '단호박', '버터스카치', '과일잼', '토피', '달콤한 산미', '산미와 단맛의 조화로움']\n",
      "['그레인', '캐슈넛', '보리차', '시리얼', '쌀과자', '밤', '보리', '쌀밥', '토스트', '구운 아몬드', '옥수수', '견과류', '땅콩', '크래커', '호두', '잣', '구운 땅콩', '아몬드', '헤이즐넛', '피스타치오', '곡물의 고소함', '구운 견과류', '누룽지', '팝콘', '비스킷', '마카다미아', '피칸', '강냉이', '군고구마', '군밤', '누텔라', '아몬드 초콜릿', '땅콩카라멜', '견과류 단맛']\n",
      "['흑맥주', '버터', '몰트', '맥아', '시나몬', '감초', '시가', '스모키', '버번위스키', '향신료', '오크', '바닐라', '초콜릿 트러플']\n",
      "['다크 초콜릿', '초콜릿', '카카오닙스', '카카오', '밀크 초콜릿', '화이트 초콜릿', '누텔라', '아몬드 초콜릿', '초콜릿 트러플', '브라우니']\n"
     ]
    }
   ],
   "source": [
    "list_name = cat_df['CupNotes'][i]\n"
   ]
  },
  {
   "cell_type": "markdown",
   "metadata": {},
   "source": [
    "***\n",
    "카테고리 데이터프레임에 기반하여 각 원두에 one-hot encoding 형식으로 카테고리 정보 넣기\n",
    "***"
   ]
  },
  {
   "cell_type": "code",
   "execution_count": 44,
   "metadata": {},
   "outputs": [
    {
     "data": {
      "text/html": [
       "<div>\n",
       "<style scoped>\n",
       "    .dataframe tbody tr th:only-of-type {\n",
       "        vertical-align: middle;\n",
       "    }\n",
       "\n",
       "    .dataframe tbody tr th {\n",
       "        vertical-align: top;\n",
       "    }\n",
       "\n",
       "    .dataframe thead th {\n",
       "        text-align: right;\n",
       "    }\n",
       "</style>\n",
       "<table border=\"1\" class=\"dataframe\">\n",
       "  <thead>\n",
       "    <tr style=\"text-align: right;\">\n",
       "      <th></th>\n",
       "      <th>id</th>\n",
       "      <th>컵 노트</th>\n",
       "      <th>꽃</th>\n",
       "      <th>과일</th>\n",
       "      <th>허브</th>\n",
       "      <th>달콤함</th>\n",
       "      <th>고소함</th>\n",
       "      <th>향료_풍미</th>\n",
       "      <th>초콜릿</th>\n",
       "    </tr>\n",
       "  </thead>\n",
       "  <tbody>\n",
       "    <tr>\n",
       "      <th>0</th>\n",
       "      <td>43</td>\n",
       "      <td>[토피, 맥아, 흑설탕]</td>\n",
       "      <td>0</td>\n",
       "      <td>0</td>\n",
       "      <td>0</td>\n",
       "      <td>0</td>\n",
       "      <td>0</td>\n",
       "      <td>0</td>\n",
       "      <td>0</td>\n",
       "    </tr>\n",
       "    <tr>\n",
       "      <th>1</th>\n",
       "      <td>3896</td>\n",
       "      <td>[null]</td>\n",
       "      <td>0</td>\n",
       "      <td>0</td>\n",
       "      <td>0</td>\n",
       "      <td>0</td>\n",
       "      <td>0</td>\n",
       "      <td>0</td>\n",
       "      <td>0</td>\n",
       "    </tr>\n",
       "  </tbody>\n",
       "</table>\n",
       "</div>"
      ],
      "text/plain": [
       "     id           컵 노트  꽃  과일  허브  달콤함  고소함  향료_풍미  초콜릿\n",
       "0    43  [토피, 맥아, 흑설탕]  0   0   0    0    0      0    0\n",
       "1  3896         [null]  0   0   0    0    0      0    0"
      ]
     },
     "execution_count": 44,
     "metadata": {},
     "output_type": "execute_result"
    }
   ],
   "source": [
    "new_df = df[['id', '컵 노트']]\n",
    "new_df.loc[:, ['꽃', '과일', '허브', '달콤함', '고소함', '향료_풍미', '초콜릿']] = 0\n",
    "\n",
    "new_df.head(2)"
   ]
  },
  {
   "cell_type": "code",
   "execution_count": 52,
   "metadata": {},
   "outputs": [],
   "source": [
    "# Define the categories\n",
    "categories = {\n",
    "    '꽃' : ['장미', '꽃', '자스민', '히비스커스', '플로럴'], \n",
    "    '과일' : ['귤', '배', '체리', '토마토', '사과', '베리류', '복숭아', '크랜베리', '건과일', '자두', '블루베리', '오렌지', '딸기', '포도', '레몬', '시트러스', '자몽','블랙베리', '건자두', '무화과', '과일', '대추', '스톤프루츠', '블랙체리', '탠저린', '감귤류', '파파야', '열대과일','살구', '라임', '라즈베리', '리치', '건포도', '쥬시', '망고', '엘더베리', '와인', '과일잼', '묵직한 바디와 쌉쌀한 애프터', '적은 산미', '달콤한 산미', '산미와 단맛의 조화로움'], \n",
    "    '허브' : ['얼그레이', '홍차', '녹차', '블랙티', '허브', '레몬그라스'], \n",
    "    '달콤함' : ['달다', '크림브륄레', '케인슈가', '마시멜로', '꿀', '카라멜', '설탕', '황설탕', '메이플', '흑설탕', '스카치캔디', '브라우니', '군고구마', '군밤', '캔디', '땅콩카라멜', '견과류 단맛', '단호박', '버터스카치', '과일잼', '토피', '달콤한 산미', '산미와 단맛의 조화로움'],\n",
    "    '고소함' : ['그레인', '캐슈넛',  '보리차', '시리얼',  '쌀과자', '밤', '보리', '쌀밥', '토스트', '구운 아몬드', '옥수수', '견과류', '땅콩', '크래커', '호두', '잣', '구운 땅콩', '아몬드', '헤이즐넛', '피스타치오', '곡물의 고소함','구운 견과류', '누룽지', '팝콘', '비스킷', '마카다미아', '피칸', '강냉이', '군고구마', '군밤',  '누텔라', '아몬드 초콜릿', '땅콩카라멜','견과류 단맛'],\n",
    "    '향료_풍미' : ['흑맥주', '버터', '몰트', '맥아', '시나몬', '감초', '시가', '스모키', '버번위스키', '향신료', '오크', '바닐라', '초콜릿 트러플'], \n",
    "    '초콜릿' : ['다크 초콜릿', '초콜릿', '카카오닙스', '카카오', '밀크 초콜릿', '화이트 초콜릿', '누텔라', '아몬드 초콜릿', '초콜릿 트러플', '브라우니']\n",
    "}\n",
    "\n",
    "# Function to one-hot encode based on a category\n",
    "def one_hot_encode_category(cup_note, category):\n",
    "    for note in cup_note:\n",
    "        if note in categories[category]:\n",
    "            return 1\n",
    "    return 0"
   ]
  },
  {
   "cell_type": "code",
   "execution_count": 53,
   "metadata": {},
   "outputs": [
    {
     "name": "stderr",
     "output_type": "stream",
     "text": [
      "C:\\Users\\Playdata\\AppData\\Local\\Temp\\ipykernel_8544\\2837867893.py:3: SettingWithCopyWarning: \n",
      "A value is trying to be set on a copy of a slice from a DataFrame.\n",
      "Try using .loc[row_indexer,col_indexer] = value instead\n",
      "\n",
      "See the caveats in the documentation: https://pandas.pydata.org/pandas-docs/stable/user_guide/indexing.html#returning-a-view-versus-a-copy\n",
      "  new_df[category] = test['컵 노트'].apply(one_hot_encode_category, category=category)\n"
     ]
    }
   ],
   "source": [
    "# Apply the functions to create the one-hot encoding columns\n",
    "test = df[:150]\n",
    "for category in categories:\n",
    "    new_df[category] = test['컵 노트'].apply(one_hot_encode_category, category=category)"
   ]
  },
  {
   "cell_type": "code",
   "execution_count": 57,
   "metadata": {},
   "outputs": [
    {
     "data": {
      "text/html": [
       "<div>\n",
       "<style scoped>\n",
       "    .dataframe tbody tr th:only-of-type {\n",
       "        vertical-align: middle;\n",
       "    }\n",
       "\n",
       "    .dataframe tbody tr th {\n",
       "        vertical-align: top;\n",
       "    }\n",
       "\n",
       "    .dataframe thead th {\n",
       "        text-align: right;\n",
       "    }\n",
       "</style>\n",
       "<table border=\"1\" class=\"dataframe\">\n",
       "  <thead>\n",
       "    <tr style=\"text-align: right;\">\n",
       "      <th></th>\n",
       "      <th>id</th>\n",
       "      <th>컵 노트</th>\n",
       "      <th>꽃</th>\n",
       "      <th>과일</th>\n",
       "      <th>허브</th>\n",
       "      <th>달콤함</th>\n",
       "      <th>고소함</th>\n",
       "      <th>향료_풍미</th>\n",
       "      <th>초콜릿</th>\n",
       "    </tr>\n",
       "  </thead>\n",
       "  <tbody>\n",
       "    <tr>\n",
       "      <th>0</th>\n",
       "      <td>43</td>\n",
       "      <td>[토피, 맥아, 흑설탕]</td>\n",
       "      <td>0.0</td>\n",
       "      <td>0.0</td>\n",
       "      <td>0.0</td>\n",
       "      <td>1.0</td>\n",
       "      <td>0.0</td>\n",
       "      <td>1.0</td>\n",
       "      <td>0.0</td>\n",
       "    </tr>\n",
       "    <tr>\n",
       "      <th>1</th>\n",
       "      <td>3896</td>\n",
       "      <td>[null]</td>\n",
       "      <td>0.0</td>\n",
       "      <td>0.0</td>\n",
       "      <td>0.0</td>\n",
       "      <td>0.0</td>\n",
       "      <td>0.0</td>\n",
       "      <td>0.0</td>\n",
       "      <td>0.0</td>\n",
       "    </tr>\n",
       "    <tr>\n",
       "      <th>2</th>\n",
       "      <td>3458</td>\n",
       "      <td>[null]</td>\n",
       "      <td>0.0</td>\n",
       "      <td>0.0</td>\n",
       "      <td>0.0</td>\n",
       "      <td>0.0</td>\n",
       "      <td>0.0</td>\n",
       "      <td>0.0</td>\n",
       "      <td>0.0</td>\n",
       "    </tr>\n",
       "    <tr>\n",
       "      <th>3</th>\n",
       "      <td>22</td>\n",
       "      <td>[다크 초콜릿, 마카다미아, 카라멜]</td>\n",
       "      <td>0.0</td>\n",
       "      <td>0.0</td>\n",
       "      <td>0.0</td>\n",
       "      <td>1.0</td>\n",
       "      <td>1.0</td>\n",
       "      <td>0.0</td>\n",
       "      <td>1.0</td>\n",
       "    </tr>\n",
       "    <tr>\n",
       "      <th>4</th>\n",
       "      <td>180</td>\n",
       "      <td>[초콜릿, 과일]</td>\n",
       "      <td>0.0</td>\n",
       "      <td>1.0</td>\n",
       "      <td>0.0</td>\n",
       "      <td>0.0</td>\n",
       "      <td>0.0</td>\n",
       "      <td>0.0</td>\n",
       "      <td>1.0</td>\n",
       "    </tr>\n",
       "  </tbody>\n",
       "</table>\n",
       "</div>"
      ],
      "text/plain": [
       "     id                  컵 노트    꽃   과일   허브  달콤함  고소함  향료_풍미  초콜릿\n",
       "0    43         [토피, 맥아, 흑설탕]  0.0  0.0  0.0  1.0  0.0    1.0  0.0\n",
       "1  3896                [null]  0.0  0.0  0.0  0.0  0.0    0.0  0.0\n",
       "2  3458                [null]  0.0  0.0  0.0  0.0  0.0    0.0  0.0\n",
       "3    22  [다크 초콜릿, 마카다미아, 카라멜]  0.0  0.0  0.0  1.0  1.0    0.0  1.0\n",
       "4   180             [초콜릿, 과일]  0.0  1.0  0.0  0.0  0.0    0.0  1.0"
      ]
     },
     "execution_count": 57,
     "metadata": {},
     "output_type": "execute_result"
    }
   ],
   "source": [
    "new_df.head()"
   ]
  },
  {
   "cell_type": "code",
   "execution_count": 58,
   "metadata": {},
   "outputs": [
    {
     "name": "stderr",
     "output_type": "stream",
     "text": [
      "C:\\Users\\Playdata\\AppData\\Local\\Temp\\ipykernel_8544\\225021036.py:2: SettingWithCopyWarning: \n",
      "A value is trying to be set on a copy of a slice from a DataFrame.\n",
      "Try using .loc[row_indexer,col_indexer] = value instead\n",
      "\n",
      "See the caveats in the documentation: https://pandas.pydata.org/pandas-docs/stable/user_guide/indexing.html#returning-a-view-versus-a-copy\n",
      "  new_df[category] = df['컵 노트'].apply(one_hot_encode_category, category=category)\n"
     ]
    }
   ],
   "source": [
    "for category in categories:\n",
    "    new_df[category] = df['컵 노트'].apply(one_hot_encode_category, category=category)"
   ]
  },
  {
   "cell_type": "code",
   "execution_count": 59,
   "metadata": {},
   "outputs": [
    {
     "data": {
      "text/html": [
       "<div>\n",
       "<style scoped>\n",
       "    .dataframe tbody tr th:only-of-type {\n",
       "        vertical-align: middle;\n",
       "    }\n",
       "\n",
       "    .dataframe tbody tr th {\n",
       "        vertical-align: top;\n",
       "    }\n",
       "\n",
       "    .dataframe thead th {\n",
       "        text-align: right;\n",
       "    }\n",
       "</style>\n",
       "<table border=\"1\" class=\"dataframe\">\n",
       "  <thead>\n",
       "    <tr style=\"text-align: right;\">\n",
       "      <th></th>\n",
       "      <th>id</th>\n",
       "      <th>컵 노트</th>\n",
       "      <th>꽃</th>\n",
       "      <th>과일</th>\n",
       "      <th>허브</th>\n",
       "      <th>달콤함</th>\n",
       "      <th>고소함</th>\n",
       "      <th>향료_풍미</th>\n",
       "      <th>초콜릿</th>\n",
       "    </tr>\n",
       "  </thead>\n",
       "  <tbody>\n",
       "    <tr>\n",
       "      <th>0</th>\n",
       "      <td>43</td>\n",
       "      <td>[토피, 맥아, 흑설탕]</td>\n",
       "      <td>0</td>\n",
       "      <td>0</td>\n",
       "      <td>0</td>\n",
       "      <td>1</td>\n",
       "      <td>0</td>\n",
       "      <td>1</td>\n",
       "      <td>0</td>\n",
       "    </tr>\n",
       "    <tr>\n",
       "      <th>1</th>\n",
       "      <td>3896</td>\n",
       "      <td>[null]</td>\n",
       "      <td>0</td>\n",
       "      <td>0</td>\n",
       "      <td>0</td>\n",
       "      <td>0</td>\n",
       "      <td>0</td>\n",
       "      <td>0</td>\n",
       "      <td>0</td>\n",
       "    </tr>\n",
       "    <tr>\n",
       "      <th>2</th>\n",
       "      <td>3458</td>\n",
       "      <td>[null]</td>\n",
       "      <td>0</td>\n",
       "      <td>0</td>\n",
       "      <td>0</td>\n",
       "      <td>0</td>\n",
       "      <td>0</td>\n",
       "      <td>0</td>\n",
       "      <td>0</td>\n",
       "    </tr>\n",
       "    <tr>\n",
       "      <th>3</th>\n",
       "      <td>22</td>\n",
       "      <td>[다크 초콜릿, 마카다미아, 카라멜]</td>\n",
       "      <td>0</td>\n",
       "      <td>0</td>\n",
       "      <td>0</td>\n",
       "      <td>1</td>\n",
       "      <td>1</td>\n",
       "      <td>0</td>\n",
       "      <td>1</td>\n",
       "    </tr>\n",
       "    <tr>\n",
       "      <th>4</th>\n",
       "      <td>180</td>\n",
       "      <td>[초콜릿, 과일]</td>\n",
       "      <td>0</td>\n",
       "      <td>1</td>\n",
       "      <td>0</td>\n",
       "      <td>0</td>\n",
       "      <td>0</td>\n",
       "      <td>0</td>\n",
       "      <td>1</td>\n",
       "    </tr>\n",
       "    <tr>\n",
       "      <th>...</th>\n",
       "      <td>...</td>\n",
       "      <td>...</td>\n",
       "      <td>...</td>\n",
       "      <td>...</td>\n",
       "      <td>...</td>\n",
       "      <td>...</td>\n",
       "      <td>...</td>\n",
       "      <td>...</td>\n",
       "      <td>...</td>\n",
       "    </tr>\n",
       "    <tr>\n",
       "      <th>554</th>\n",
       "      <td>3231</td>\n",
       "      <td>[null]</td>\n",
       "      <td>0</td>\n",
       "      <td>0</td>\n",
       "      <td>0</td>\n",
       "      <td>0</td>\n",
       "      <td>0</td>\n",
       "      <td>0</td>\n",
       "      <td>0</td>\n",
       "    </tr>\n",
       "    <tr>\n",
       "      <th>555</th>\n",
       "      <td>3526</td>\n",
       "      <td>[null]</td>\n",
       "      <td>0</td>\n",
       "      <td>0</td>\n",
       "      <td>0</td>\n",
       "      <td>0</td>\n",
       "      <td>0</td>\n",
       "      <td>0</td>\n",
       "      <td>0</td>\n",
       "    </tr>\n",
       "    <tr>\n",
       "      <th>556</th>\n",
       "      <td>3199</td>\n",
       "      <td>[null]</td>\n",
       "      <td>0</td>\n",
       "      <td>0</td>\n",
       "      <td>0</td>\n",
       "      <td>0</td>\n",
       "      <td>0</td>\n",
       "      <td>0</td>\n",
       "      <td>0</td>\n",
       "    </tr>\n",
       "    <tr>\n",
       "      <th>557</th>\n",
       "      <td>4839</td>\n",
       "      <td>[null]</td>\n",
       "      <td>0</td>\n",
       "      <td>0</td>\n",
       "      <td>0</td>\n",
       "      <td>0</td>\n",
       "      <td>0</td>\n",
       "      <td>0</td>\n",
       "      <td>0</td>\n",
       "    </tr>\n",
       "    <tr>\n",
       "      <th>558</th>\n",
       "      <td>2998</td>\n",
       "      <td>[null]</td>\n",
       "      <td>0</td>\n",
       "      <td>0</td>\n",
       "      <td>0</td>\n",
       "      <td>0</td>\n",
       "      <td>0</td>\n",
       "      <td>0</td>\n",
       "      <td>0</td>\n",
       "    </tr>\n",
       "  </tbody>\n",
       "</table>\n",
       "<p>559 rows × 9 columns</p>\n",
       "</div>"
      ],
      "text/plain": [
       "       id                  컵 노트  꽃  과일  허브  달콤함  고소함  향료_풍미  초콜릿\n",
       "0      43         [토피, 맥아, 흑설탕]  0   0   0    1    0      1    0\n",
       "1    3896                [null]  0   0   0    0    0      0    0\n",
       "2    3458                [null]  0   0   0    0    0      0    0\n",
       "3      22  [다크 초콜릿, 마카다미아, 카라멜]  0   0   0    1    1      0    1\n",
       "4     180             [초콜릿, 과일]  0   1   0    0    0      0    1\n",
       "..    ...                   ... ..  ..  ..  ...  ...    ...  ...\n",
       "554  3231                [null]  0   0   0    0    0      0    0\n",
       "555  3526                [null]  0   0   0    0    0      0    0\n",
       "556  3199                [null]  0   0   0    0    0      0    0\n",
       "557  4839                [null]  0   0   0    0    0      0    0\n",
       "558  2998                [null]  0   0   0    0    0      0    0\n",
       "\n",
       "[559 rows x 9 columns]"
      ]
     },
     "execution_count": 59,
     "metadata": {},
     "output_type": "execute_result"
    }
   ],
   "source": [
    "new_df"
   ]
  },
  {
   "cell_type": "code",
   "execution_count": 60,
   "metadata": {},
   "outputs": [
    {
     "data": {
      "text/html": [
       "<div>\n",
       "<style scoped>\n",
       "    .dataframe tbody tr th:only-of-type {\n",
       "        vertical-align: middle;\n",
       "    }\n",
       "\n",
       "    .dataframe tbody tr th {\n",
       "        vertical-align: top;\n",
       "    }\n",
       "\n",
       "    .dataframe thead th {\n",
       "        text-align: right;\n",
       "    }\n",
       "</style>\n",
       "<table border=\"1\" class=\"dataframe\">\n",
       "  <thead>\n",
       "    <tr style=\"text-align: right;\">\n",
       "      <th></th>\n",
       "      <th>id</th>\n",
       "      <th>컵 노트</th>\n",
       "      <th>꽃</th>\n",
       "      <th>과일</th>\n",
       "      <th>허브</th>\n",
       "      <th>달콤함</th>\n",
       "      <th>고소함</th>\n",
       "      <th>향료_풍미</th>\n",
       "      <th>초콜릿</th>\n",
       "    </tr>\n",
       "  </thead>\n",
       "  <tbody>\n",
       "    <tr>\n",
       "      <th>0</th>\n",
       "      <td>43</td>\n",
       "      <td>['토피', '맥아', '흑설탕']</td>\n",
       "      <td>0</td>\n",
       "      <td>0</td>\n",
       "      <td>0</td>\n",
       "      <td>1</td>\n",
       "      <td>0</td>\n",
       "      <td>1</td>\n",
       "      <td>0</td>\n",
       "    </tr>\n",
       "    <tr>\n",
       "      <th>1</th>\n",
       "      <td>3896</td>\n",
       "      <td>['null']</td>\n",
       "      <td>0</td>\n",
       "      <td>0</td>\n",
       "      <td>0</td>\n",
       "      <td>0</td>\n",
       "      <td>0</td>\n",
       "      <td>0</td>\n",
       "      <td>0</td>\n",
       "    </tr>\n",
       "    <tr>\n",
       "      <th>2</th>\n",
       "      <td>3458</td>\n",
       "      <td>['null']</td>\n",
       "      <td>0</td>\n",
       "      <td>0</td>\n",
       "      <td>0</td>\n",
       "      <td>0</td>\n",
       "      <td>0</td>\n",
       "      <td>0</td>\n",
       "      <td>0</td>\n",
       "    </tr>\n",
       "    <tr>\n",
       "      <th>3</th>\n",
       "      <td>22</td>\n",
       "      <td>['다크 초콜릿', '마카다미아', '카라멜']</td>\n",
       "      <td>0</td>\n",
       "      <td>0</td>\n",
       "      <td>0</td>\n",
       "      <td>1</td>\n",
       "      <td>1</td>\n",
       "      <td>0</td>\n",
       "      <td>1</td>\n",
       "    </tr>\n",
       "    <tr>\n",
       "      <th>4</th>\n",
       "      <td>180</td>\n",
       "      <td>['초콜릿', '과일']</td>\n",
       "      <td>0</td>\n",
       "      <td>1</td>\n",
       "      <td>0</td>\n",
       "      <td>0</td>\n",
       "      <td>0</td>\n",
       "      <td>0</td>\n",
       "      <td>1</td>\n",
       "    </tr>\n",
       "  </tbody>\n",
       "</table>\n",
       "</div>"
      ],
      "text/plain": [
       "     id                        컵 노트  꽃  과일  허브  달콤함  고소함  향료_풍미  초콜릿\n",
       "0    43         ['토피', '맥아', '흑설탕']  0   0   0    1    0      1    0\n",
       "1  3896                    ['null']  0   0   0    0    0      0    0\n",
       "2  3458                    ['null']  0   0   0    0    0      0    0\n",
       "3    22  ['다크 초콜릿', '마카다미아', '카라멜']  0   0   0    1    1      0    1\n",
       "4   180               ['초콜릿', '과일']  0   1   0    0    0      0    1"
      ]
     },
     "execution_count": 60,
     "metadata": {},
     "output_type": "execute_result"
    }
   ],
   "source": [
    "new_df.to_csv('category.csv', index=False)\n",
    "\n",
    "test = pd.read_csv('category.csv')\n",
    "test.head()"
   ]
  },
  {
   "cell_type": "code",
   "execution_count": null,
   "metadata": {},
   "outputs": [],
   "source": []
  }
 ],
 "metadata": {
  "kernelspec": {
   "display_name": "coffee",
   "language": "python",
   "name": "python3"
  },
  "language_info": {
   "codemirror_mode": {
    "name": "ipython",
    "version": 3
   },
   "file_extension": ".py",
   "mimetype": "text/x-python",
   "name": "python",
   "nbconvert_exporter": "python",
   "pygments_lexer": "ipython3",
   "version": "3.10.4"
  }
 },
 "nbformat": 4,
 "nbformat_minor": 2
}
