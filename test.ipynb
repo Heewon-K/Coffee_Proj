{
 "cells": [
  {
   "cell_type": "code",
   "execution_count": 7,
   "metadata": {},
   "outputs": [],
   "source": [
    "from bs4 import BeautifulSoup\n",
    "\n",
    "# Your HTML content\n",
    "html_content = \"\"\"\n",
    "<div class=\"flex justify-between w-full h-2.5 overflow-hidden rounded-full\">\n",
    "    <div class=\"w-full h-full border-white border-r last:border-none bg-koke-green bg-opacity-30\"></div>\n",
    "    <div class=\"w-full h-full border-white border-r last:border-none bg-koke-green bg-opacity-30\"></div>\n",
    "    <div class=\"w-full h-full border-white border-r last:border-none bg-koke-green bg-opacity-30\"></div>\n",
    "    <div class=\"w-full h-full border-white border-r last:border-none bg-koke-green\"></div>\n",
    "    <div class=\"w-full h-full border-white border-r last:border-none bg-koke-green bg-opacity-30\"></div>\n",
    "</div>\n",
    "\"\"\"\n",
    "\n",
    "# Parse the HTML content\n",
    "soup = BeautifulSoup(html_content, 'html.parser')\n",
    "\n",
    "# Find all div elements without the 'bg-opacity-30' class\n",
    "divs_without_opacity_30 = [div for div in soup.find_all('div', class_='bg-koke-green') if 'bg-opacity-30' not in div.get('class')]\n"
   ]
  },
  {
   "cell_type": "code",
   "execution_count": 8,
   "metadata": {},
   "outputs": [
    {
     "data": {
      "text/plain": [
       "[<div class=\"w-full h-full border-white border-r last:border-none bg-koke-green\"></div>]"
      ]
     },
     "execution_count": 8,
     "metadata": {},
     "output_type": "execute_result"
    }
   ],
   "source": [
    "divs_without_opacity_30"
   ]
  },
  {
   "cell_type": "code",
   "execution_count": 9,
   "metadata": {},
   "outputs": [],
   "source": [
    "\n",
    "# Total number of blocks\n",
    "total_blocks = 5\n",
    "\n",
    "# Initialize position (n) to None\n",
    "position = None\n"
   ]
  },
  {
   "cell_type": "code",
   "execution_count": 14,
   "metadata": {},
   "outputs": [
    {
     "name": "stdout",
     "output_type": "stream",
     "text": [
      "4\n"
     ]
    }
   ],
   "source": [
    "\n",
    "# Check if there are any elements without the 'bg-opacity-30' class\n",
    "if divs_without_opacity_30:\n",
    "    # Get the index of the first element (0-based) and add 1 to get the position (1-based)\n",
    "    position = divs_without_opacity_30[0].find_parent().find_all('div', class_='bg-koke-green').index(divs_without_opacity_30[0]) + 1\n",
    "\n",
    "print(position)\n",
    "# print(f\"The element without 'bg-opacity-30' class is at position {position}/{total_blocks}\")\n"
   ]
  },
  {
   "cell_type": "code",
   "execution_count": null,
   "metadata": {},
   "outputs": [],
   "source": []
  }
 ],
 "metadata": {
  "kernelspec": {
   "display_name": "coffee",
   "language": "python",
   "name": "python3"
  },
  "language_info": {
   "codemirror_mode": {
    "name": "ipython",
    "version": 3
   },
   "file_extension": ".py",
   "mimetype": "text/x-python",
   "name": "python",
   "nbconvert_exporter": "python",
   "pygments_lexer": "ipython3",
   "version": "3.10.4"
  }
 },
 "nbformat": 4,
 "nbformat_minor": 2
}
