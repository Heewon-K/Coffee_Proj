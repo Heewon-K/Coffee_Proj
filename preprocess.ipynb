{
 "cells": [
  {
   "cell_type": "code",
   "execution_count": 2,
   "metadata": {},
   "outputs": [],
   "source": [
    "import pandas as pd\n",
    "import numpy as np"
   ]
  },
  {
   "cell_type": "code",
   "execution_count": 3,
   "metadata": {},
   "outputs": [],
   "source": [
    "data  = pd.read_csv('feature.csv')\n",
    "data = data.rename(columns={\"Unnamed: 0\": \"ID\"})"
   ]
  },
  {
   "cell_type": "code",
   "execution_count": 4,
   "metadata": {},
   "outputs": [
    {
     "data": {
      "text/html": [
       "<div>\n",
       "<style scoped>\n",
       "    .dataframe tbody tr th:only-of-type {\n",
       "        vertical-align: middle;\n",
       "    }\n",
       "\n",
       "    .dataframe tbody tr th {\n",
       "        vertical-align: top;\n",
       "    }\n",
       "\n",
       "    .dataframe thead th {\n",
       "        text-align: right;\n",
       "    }\n",
       "</style>\n",
       "<table border=\"1\" class=\"dataframe\">\n",
       "  <thead>\n",
       "    <tr style=\"text-align: right;\">\n",
       "      <th></th>\n",
       "      <th>ID</th>\n",
       "      <th>coffee_name</th>\n",
       "      <th>타입</th>\n",
       "      <th>로스팅 포인트</th>\n",
       "      <th>지속가능성</th>\n",
       "      <th>컵 노트</th>\n",
       "      <th>바디감</th>\n",
       "      <th>신맛</th>\n",
       "      <th>단맛</th>\n",
       "      <th>쓴맛</th>\n",
       "    </tr>\n",
       "  </thead>\n",
       "  <tbody>\n",
       "    <tr>\n",
       "      <th>0</th>\n",
       "      <td>1084</td>\n",
       "      <td>에티오피아 G2 시다모 SW 디카프</td>\n",
       "      <td>디카페인</td>\n",
       "      <td>미디엄</td>\n",
       "      <td>NaN</td>\n",
       "      <td>오렌지, 다크 초콜릿</td>\n",
       "      <td>2</td>\n",
       "      <td>3</td>\n",
       "      <td>3</td>\n",
       "      <td>2</td>\n",
       "    </tr>\n",
       "    <tr>\n",
       "      <th>1</th>\n",
       "      <td>4699</td>\n",
       "      <td>마일드 블렌딩</td>\n",
       "      <td>블렌드</td>\n",
       "      <td>미디엄다크</td>\n",
       "      <td>NaN</td>\n",
       "      <td>-</td>\n",
       "      <td>3</td>\n",
       "      <td>2</td>\n",
       "      <td>3</td>\n",
       "      <td>3</td>\n",
       "    </tr>\n",
       "    <tr>\n",
       "      <th>2</th>\n",
       "      <td>1727</td>\n",
       "      <td>Blend Dark</td>\n",
       "      <td>블렌드</td>\n",
       "      <td>다크</td>\n",
       "      <td>NaN</td>\n",
       "      <td>-</td>\n",
       "      <td>4</td>\n",
       "      <td>1</td>\n",
       "      <td>3</td>\n",
       "      <td>5</td>\n",
       "    </tr>\n",
       "    <tr>\n",
       "      <th>3</th>\n",
       "      <td>3072</td>\n",
       "      <td>샹젤리제 블렌딩</td>\n",
       "      <td>블렌드</td>\n",
       "      <td>라이트미디엄</td>\n",
       "      <td>NaN</td>\n",
       "      <td>-</td>\n",
       "      <td>2</td>\n",
       "      <td>4</td>\n",
       "      <td>5</td>\n",
       "      <td>2</td>\n",
       "    </tr>\n",
       "    <tr>\n",
       "      <th>4</th>\n",
       "      <td>3217</td>\n",
       "      <td>Hammock (해먹)</td>\n",
       "      <td>블렌드</td>\n",
       "      <td>미디엄</td>\n",
       "      <td>NaN</td>\n",
       "      <td>-</td>\n",
       "      <td>4</td>\n",
       "      <td>1</td>\n",
       "      <td>4</td>\n",
       "      <td>2</td>\n",
       "    </tr>\n",
       "  </tbody>\n",
       "</table>\n",
       "</div>"
      ],
      "text/plain": [
       "     ID          coffee_name    타입 로스팅 포인트 지속가능성         컵 노트  바디감  신맛  단맛  쓴맛\n",
       "0  1084  에티오피아 G2 시다모 SW 디카프  디카페인     미디엄   NaN  오렌지, 다크 초콜릿    2   3   3   2\n",
       "1  4699              마일드 블렌딩   블렌드   미디엄다크   NaN            -    3   2   3   3\n",
       "2  1727           Blend Dark   블렌드      다크   NaN            -    4   1   3   5\n",
       "3  3072             샹젤리제 블렌딩   블렌드  라이트미디엄   NaN            -    2   4   5   2\n",
       "4  3217         Hammock (해먹)   블렌드     미디엄   NaN            -    4   1   4   2"
      ]
     },
     "execution_count": 4,
     "metadata": {},
     "output_type": "execute_result"
    }
   ],
   "source": [
    "data.head()"
   ]
  },
  {
   "cell_type": "code",
   "execution_count": 5,
   "metadata": {},
   "outputs": [
    {
     "name": "stdout",
     "output_type": "stream",
     "text": [
      "<class 'pandas.core.frame.DataFrame'>\n",
      "RangeIndex: 559 entries, 0 to 558\n",
      "Data columns (total 10 columns):\n",
      " #   Column       Non-Null Count  Dtype \n",
      "---  ------       --------------  ----- \n",
      " 0   ID           559 non-null    int64 \n",
      " 1   coffee_name  559 non-null    object\n",
      " 2   타입           559 non-null    object\n",
      " 3   로스팅 포인트      559 non-null    object\n",
      " 4   지속가능성        113 non-null    object\n",
      " 5   컵 노트         559 non-null    object\n",
      " 6   바디감          559 non-null    int64 \n",
      " 7   신맛           559 non-null    int64 \n",
      " 8   단맛           559 non-null    int64 \n",
      " 9   쓴맛           559 non-null    int64 \n",
      "dtypes: int64(5), object(5)\n",
      "memory usage: 43.8+ KB\n"
     ]
    }
   ],
   "source": [
    "data.info()\n",
    "\n",
    "# 지속가능성 : (559-113) / 559 is null\n",
    "# 컵 노트 : '-' 인 값도 null -> 갯수 확인 필요\n"
   ]
  },
  {
   "cell_type": "code",
   "execution_count": 6,
   "metadata": {},
   "outputs": [
    {
     "data": {
      "text/plain": [
       "Counter({nan: 446, '직접무역': 53, '공정무역': 45, '유기농': 15})"
      ]
     },
     "execution_count": 6,
     "metadata": {},
     "output_type": "execute_result"
    }
   ],
   "source": [
    "from collections import Counter\n",
    "Counter(data['지속가능성'])\n",
    "# \n",
    "# NaN : 446\n",
    "# 직접무역 : 53\n",
    "# 공정무역 : 45\n",
    "# 유기농 : 15\n",
    "# "
   ]
  },
  {
   "cell_type": "code",
   "execution_count": 7,
   "metadata": {},
   "outputs": [],
   "source": [
    "####### change 컵 노트 '-' to nan #######\n",
    "data['컵 노트'].replace('-', np.NaN, inplace=True)\n",
    "####### change 컵 노트 from string to list #######\n",
    "data['컵 노트'] = data['컵 노트'].str.split(',')"
   ]
  },
  {
   "cell_type": "code",
   "execution_count": 8,
   "metadata": {},
   "outputs": [
    {
     "data": {
      "text/html": [
       "<div>\n",
       "<style scoped>\n",
       "    .dataframe tbody tr th:only-of-type {\n",
       "        vertical-align: middle;\n",
       "    }\n",
       "\n",
       "    .dataframe tbody tr th {\n",
       "        vertical-align: top;\n",
       "    }\n",
       "\n",
       "    .dataframe thead th {\n",
       "        text-align: right;\n",
       "    }\n",
       "</style>\n",
       "<table border=\"1\" class=\"dataframe\">\n",
       "  <thead>\n",
       "    <tr style=\"text-align: right;\">\n",
       "      <th></th>\n",
       "      <th>ID</th>\n",
       "      <th>coffee_name</th>\n",
       "      <th>타입</th>\n",
       "      <th>로스팅 포인트</th>\n",
       "      <th>지속가능성</th>\n",
       "      <th>컵 노트</th>\n",
       "      <th>바디감</th>\n",
       "      <th>신맛</th>\n",
       "      <th>단맛</th>\n",
       "      <th>쓴맛</th>\n",
       "    </tr>\n",
       "  </thead>\n",
       "  <tbody>\n",
       "    <tr>\n",
       "      <th>0</th>\n",
       "      <td>1084</td>\n",
       "      <td>에티오피아 G2 시다모 SW 디카프</td>\n",
       "      <td>디카페인</td>\n",
       "      <td>미디엄</td>\n",
       "      <td>NaN</td>\n",
       "      <td>[오렌지,  다크 초콜릿]</td>\n",
       "      <td>2</td>\n",
       "      <td>3</td>\n",
       "      <td>3</td>\n",
       "      <td>2</td>\n",
       "    </tr>\n",
       "    <tr>\n",
       "      <th>1</th>\n",
       "      <td>4699</td>\n",
       "      <td>마일드 블렌딩</td>\n",
       "      <td>블렌드</td>\n",
       "      <td>미디엄다크</td>\n",
       "      <td>NaN</td>\n",
       "      <td>NaN</td>\n",
       "      <td>3</td>\n",
       "      <td>2</td>\n",
       "      <td>3</td>\n",
       "      <td>3</td>\n",
       "    </tr>\n",
       "    <tr>\n",
       "      <th>2</th>\n",
       "      <td>1727</td>\n",
       "      <td>Blend Dark</td>\n",
       "      <td>블렌드</td>\n",
       "      <td>다크</td>\n",
       "      <td>NaN</td>\n",
       "      <td>NaN</td>\n",
       "      <td>4</td>\n",
       "      <td>1</td>\n",
       "      <td>3</td>\n",
       "      <td>5</td>\n",
       "    </tr>\n",
       "    <tr>\n",
       "      <th>3</th>\n",
       "      <td>3072</td>\n",
       "      <td>샹젤리제 블렌딩</td>\n",
       "      <td>블렌드</td>\n",
       "      <td>라이트미디엄</td>\n",
       "      <td>NaN</td>\n",
       "      <td>NaN</td>\n",
       "      <td>2</td>\n",
       "      <td>4</td>\n",
       "      <td>5</td>\n",
       "      <td>2</td>\n",
       "    </tr>\n",
       "    <tr>\n",
       "      <th>4</th>\n",
       "      <td>3217</td>\n",
       "      <td>Hammock (해먹)</td>\n",
       "      <td>블렌드</td>\n",
       "      <td>미디엄</td>\n",
       "      <td>NaN</td>\n",
       "      <td>NaN</td>\n",
       "      <td>4</td>\n",
       "      <td>1</td>\n",
       "      <td>4</td>\n",
       "      <td>2</td>\n",
       "    </tr>\n",
       "  </tbody>\n",
       "</table>\n",
       "</div>"
      ],
      "text/plain": [
       "     ID          coffee_name    타입 로스팅 포인트 지속가능성            컵 노트  바디감  신맛  단맛  \\\n",
       "0  1084  에티오피아 G2 시다모 SW 디카프  디카페인     미디엄   NaN  [오렌지,  다크 초콜릿]    2   3   3   \n",
       "1  4699              마일드 블렌딩   블렌드   미디엄다크   NaN             NaN    3   2   3   \n",
       "2  1727           Blend Dark   블렌드      다크   NaN             NaN    4   1   3   \n",
       "3  3072             샹젤리제 블렌딩   블렌드  라이트미디엄   NaN             NaN    2   4   5   \n",
       "4  3217         Hammock (해먹)   블렌드     미디엄   NaN             NaN    4   1   4   \n",
       "\n",
       "   쓴맛  \n",
       "0   2  \n",
       "1   3  \n",
       "2   5  \n",
       "3   2  \n",
       "4   2  "
      ]
     },
     "execution_count": 8,
     "metadata": {},
     "output_type": "execute_result"
    }
   ],
   "source": [
    "data.head()"
   ]
  },
  {
   "cell_type": "code",
   "execution_count": 9,
   "metadata": {},
   "outputs": [
    {
     "name": "stdout",
     "output_type": "stream",
     "text": [
      "<class 'pandas.core.frame.DataFrame'>\n",
      "RangeIndex: 559 entries, 0 to 558\n",
      "Data columns (total 10 columns):\n",
      " #   Column       Non-Null Count  Dtype \n",
      "---  ------       --------------  ----- \n",
      " 0   ID           559 non-null    int64 \n",
      " 1   coffee_name  559 non-null    object\n",
      " 2   타입           559 non-null    object\n",
      " 3   로스팅 포인트      559 non-null    object\n",
      " 4   지속가능성        113 non-null    object\n",
      " 5   컵 노트         178 non-null    object\n",
      " 6   바디감          559 non-null    int64 \n",
      " 7   신맛           559 non-null    int64 \n",
      " 8   단맛           559 non-null    int64 \n",
      " 9   쓴맛           559 non-null    int64 \n",
      "dtypes: int64(5), object(5)\n",
      "memory usage: 43.8+ KB\n"
     ]
    }
   ],
   "source": [
    "data.info()"
   ]
  },
  {
   "cell_type": "code",
   "execution_count": 14,
   "metadata": {},
   "outputs": [],
   "source": [
    "data.to_csv('feaures_fin.csv', index=False)"
   ]
  },
  {
   "cell_type": "code",
   "execution_count": 15,
   "metadata": {},
   "outputs": [
    {
     "data": {
      "text/html": [
       "<div>\n",
       "<style scoped>\n",
       "    .dataframe tbody tr th:only-of-type {\n",
       "        vertical-align: middle;\n",
       "    }\n",
       "\n",
       "    .dataframe tbody tr th {\n",
       "        vertical-align: top;\n",
       "    }\n",
       "\n",
       "    .dataframe thead th {\n",
       "        text-align: right;\n",
       "    }\n",
       "</style>\n",
       "<table border=\"1\" class=\"dataframe\">\n",
       "  <thead>\n",
       "    <tr style=\"text-align: right;\">\n",
       "      <th></th>\n",
       "      <th>ID</th>\n",
       "      <th>coffee_name</th>\n",
       "      <th>타입</th>\n",
       "      <th>로스팅 포인트</th>\n",
       "      <th>지속가능성</th>\n",
       "      <th>컵 노트</th>\n",
       "      <th>바디감</th>\n",
       "      <th>신맛</th>\n",
       "      <th>단맛</th>\n",
       "      <th>쓴맛</th>\n",
       "    </tr>\n",
       "  </thead>\n",
       "  <tbody>\n",
       "    <tr>\n",
       "      <th>0</th>\n",
       "      <td>1084</td>\n",
       "      <td>에티오피아 G2 시다모 SW 디카프</td>\n",
       "      <td>디카페인</td>\n",
       "      <td>미디엄</td>\n",
       "      <td>NaN</td>\n",
       "      <td>['오렌지', ' 다크 초콜릿']</td>\n",
       "      <td>2</td>\n",
       "      <td>3</td>\n",
       "      <td>3</td>\n",
       "      <td>2</td>\n",
       "    </tr>\n",
       "    <tr>\n",
       "      <th>1</th>\n",
       "      <td>4699</td>\n",
       "      <td>마일드 블렌딩</td>\n",
       "      <td>블렌드</td>\n",
       "      <td>미디엄다크</td>\n",
       "      <td>NaN</td>\n",
       "      <td>NaN</td>\n",
       "      <td>3</td>\n",
       "      <td>2</td>\n",
       "      <td>3</td>\n",
       "      <td>3</td>\n",
       "    </tr>\n",
       "    <tr>\n",
       "      <th>2</th>\n",
       "      <td>1727</td>\n",
       "      <td>Blend Dark</td>\n",
       "      <td>블렌드</td>\n",
       "      <td>다크</td>\n",
       "      <td>NaN</td>\n",
       "      <td>NaN</td>\n",
       "      <td>4</td>\n",
       "      <td>1</td>\n",
       "      <td>3</td>\n",
       "      <td>5</td>\n",
       "    </tr>\n",
       "    <tr>\n",
       "      <th>3</th>\n",
       "      <td>3072</td>\n",
       "      <td>샹젤리제 블렌딩</td>\n",
       "      <td>블렌드</td>\n",
       "      <td>라이트미디엄</td>\n",
       "      <td>NaN</td>\n",
       "      <td>NaN</td>\n",
       "      <td>2</td>\n",
       "      <td>4</td>\n",
       "      <td>5</td>\n",
       "      <td>2</td>\n",
       "    </tr>\n",
       "    <tr>\n",
       "      <th>4</th>\n",
       "      <td>3217</td>\n",
       "      <td>Hammock (해먹)</td>\n",
       "      <td>블렌드</td>\n",
       "      <td>미디엄</td>\n",
       "      <td>NaN</td>\n",
       "      <td>NaN</td>\n",
       "      <td>4</td>\n",
       "      <td>1</td>\n",
       "      <td>4</td>\n",
       "      <td>2</td>\n",
       "    </tr>\n",
       "  </tbody>\n",
       "</table>\n",
       "</div>"
      ],
      "text/plain": [
       "     ID          coffee_name    타입 로스팅 포인트 지속가능성                컵 노트  바디감  신맛  \\\n",
       "0  1084  에티오피아 G2 시다모 SW 디카프  디카페인     미디엄   NaN  ['오렌지', ' 다크 초콜릿']    2   3   \n",
       "1  4699              마일드 블렌딩   블렌드   미디엄다크   NaN                 NaN    3   2   \n",
       "2  1727           Blend Dark   블렌드      다크   NaN                 NaN    4   1   \n",
       "3  3072             샹젤리제 블렌딩   블렌드  라이트미디엄   NaN                 NaN    2   4   \n",
       "4  3217         Hammock (해먹)   블렌드     미디엄   NaN                 NaN    4   1   \n",
       "\n",
       "   단맛  쓴맛  \n",
       "0   3   2  \n",
       "1   3   3  \n",
       "2   3   5  \n",
       "3   5   2  \n",
       "4   4   2  "
      ]
     },
     "execution_count": 15,
     "metadata": {},
     "output_type": "execute_result"
    }
   ],
   "source": [
    "df = pd.read_csv('feaures_fin.csv')\n",
    "df.head()"
   ]
  },
  {
   "cell_type": "markdown",
   "metadata": {},
   "source": [
    "***"
   ]
  },
  {
   "cell_type": "code",
   "execution_count": 135,
   "metadata": {},
   "outputs": [],
   "source": [
    "a = {999 : {'country' : '에티오피아 어쩌고, 서울 바보'}, 888 : {'country':'서울 어쩌고, 에티오피아 바보'}}\n",
    "df = pd.DataFrame(a)\n",
    "df = df.T\n",
    "\n",
    "df['country'] = df['country'].str.split(',')"
   ]
  },
  {
   "cell_type": "code",
   "execution_count": 136,
   "metadata": {},
   "outputs": [
    {
     "data": {
      "text/plain": [
       "['에티오피아 어쩌고', ' 서울 바보']"
      ]
     },
     "execution_count": 136,
     "metadata": {},
     "output_type": "execute_result"
    }
   ],
   "source": [
    "df['country'][999]"
   ]
  },
  {
   "cell_type": "code",
   "execution_count": 137,
   "metadata": {},
   "outputs": [
    {
     "data": {
      "text/html": [
       "<div>\n",
       "<style scoped>\n",
       "    .dataframe tbody tr th:only-of-type {\n",
       "        vertical-align: middle;\n",
       "    }\n",
       "\n",
       "    .dataframe tbody tr th {\n",
       "        vertical-align: top;\n",
       "    }\n",
       "\n",
       "    .dataframe thead th {\n",
       "        text-align: right;\n",
       "    }\n",
       "</style>\n",
       "<table border=\"1\" class=\"dataframe\">\n",
       "  <thead>\n",
       "    <tr style=\"text-align: right;\">\n",
       "      <th></th>\n",
       "      <th>country</th>\n",
       "    </tr>\n",
       "  </thead>\n",
       "  <tbody>\n",
       "    <tr>\n",
       "      <th>999</th>\n",
       "      <td>[에티오피아 어쩌고,  서울 바보]</td>\n",
       "    </tr>\n",
       "    <tr>\n",
       "      <th>888</th>\n",
       "      <td>[서울 어쩌고,  에티오피아 바보]</td>\n",
       "    </tr>\n",
       "  </tbody>\n",
       "</table>\n",
       "</div>"
      ],
      "text/plain": [
       "                 country\n",
       "999  [에티오피아 어쩌고,  서울 바보]\n",
       "888  [서울 어쩌고,  에티오피아 바보]"
      ]
     },
     "execution_count": 137,
     "metadata": {},
     "output_type": "execute_result"
    }
   ],
   "source": [
    "df"
   ]
  },
  {
   "cell_type": "code",
   "execution_count": 138,
   "metadata": {},
   "outputs": [],
   "source": [
    "# 칼럼 내 스트링을 리스트로 치환\n",
    "country_list = ['서울', '에티오피아']"
   ]
  },
  {
   "cell_type": "code",
   "execution_count": 139,
   "metadata": {},
   "outputs": [
    {
     "data": {
      "text/html": [
       "<div>\n",
       "<style scoped>\n",
       "    .dataframe tbody tr th:only-of-type {\n",
       "        vertical-align: middle;\n",
       "    }\n",
       "\n",
       "    .dataframe tbody tr th {\n",
       "        vertical-align: top;\n",
       "    }\n",
       "\n",
       "    .dataframe thead th {\n",
       "        text-align: right;\n",
       "    }\n",
       "</style>\n",
       "<table border=\"1\" class=\"dataframe\">\n",
       "  <thead>\n",
       "    <tr style=\"text-align: right;\">\n",
       "      <th></th>\n",
       "      <th>country</th>\n",
       "    </tr>\n",
       "  </thead>\n",
       "  <tbody>\n",
       "    <tr>\n",
       "      <th>999</th>\n",
       "      <td>[에티오피아 어쩌고,  서울 바보]</td>\n",
       "    </tr>\n",
       "    <tr>\n",
       "      <th>888</th>\n",
       "      <td>[서울 어쩌고,  에티오피아 바보]</td>\n",
       "    </tr>\n",
       "  </tbody>\n",
       "</table>\n",
       "</div>"
      ],
      "text/plain": [
       "                 country\n",
       "999  [에티오피아 어쩌고,  서울 바보]\n",
       "888  [서울 어쩌고,  에티오피아 바보]"
      ]
     },
     "execution_count": 139,
     "metadata": {},
     "output_type": "execute_result"
    }
   ],
   "source": [
    "df"
   ]
  },
  {
   "cell_type": "code",
   "execution_count": 140,
   "metadata": {},
   "outputs": [
    {
     "name": "stdout",
     "output_type": "stream",
     "text": [
      "         country\n",
      "999  [에티오피아, 서울]\n",
      "888  [서울, 에티오피아]\n"
     ]
    }
   ],
   "source": [
    "def replace_country_names(countries):\n",
    "    updated_countries = [next((country for country in country_list if country in entry), entry) for entry in countries]\n",
    "    return updated_countries\n",
    "\n",
    "# Apply the function to the 'country' column\n",
    "df['country'] = df['country'].apply(replace_country_names)\n",
    "\n",
    "# Print the updated DataFrame\n",
    "print(df)"
   ]
  },
  {
   "cell_type": "code",
   "execution_count": 141,
   "metadata": {},
   "outputs": [
    {
     "ename": "KeyError",
     "evalue": "'id'",
     "output_type": "error",
     "traceback": [
      "\u001b[1;31m---------------------------------------------------------------------------\u001b[0m",
      "\u001b[1;31mKeyError\u001b[0m                                  Traceback (most recent call last)",
      "File \u001b[1;32mc:\\venvs\\coffee\\lib\\site-packages\\pandas\\core\\indexes\\base.py:3790\u001b[0m, in \u001b[0;36mIndex.get_loc\u001b[1;34m(self, key)\u001b[0m\n\u001b[0;32m   3789\u001b[0m \u001b[39mtry\u001b[39;00m:\n\u001b[1;32m-> 3790\u001b[0m     \u001b[39mreturn\u001b[39;00m \u001b[39mself\u001b[39;49m\u001b[39m.\u001b[39;49m_engine\u001b[39m.\u001b[39;49mget_loc(casted_key)\n\u001b[0;32m   3791\u001b[0m \u001b[39mexcept\u001b[39;00m \u001b[39mKeyError\u001b[39;00m \u001b[39mas\u001b[39;00m err:\n",
      "File \u001b[1;32mindex.pyx:152\u001b[0m, in \u001b[0;36mpandas._libs.index.IndexEngine.get_loc\u001b[1;34m()\u001b[0m\n",
      "File \u001b[1;32mindex.pyx:181\u001b[0m, in \u001b[0;36mpandas._libs.index.IndexEngine.get_loc\u001b[1;34m()\u001b[0m\n",
      "File \u001b[1;32mpandas\\_libs\\hashtable_class_helper.pxi:7080\u001b[0m, in \u001b[0;36mpandas._libs.hashtable.PyObjectHashTable.get_item\u001b[1;34m()\u001b[0m\n",
      "File \u001b[1;32mpandas\\_libs\\hashtable_class_helper.pxi:7088\u001b[0m, in \u001b[0;36mpandas._libs.hashtable.PyObjectHashTable.get_item\u001b[1;34m()\u001b[0m\n",
      "\u001b[1;31mKeyError\u001b[0m: 'id'",
      "\nThe above exception was the direct cause of the following exception:\n",
      "\u001b[1;31mKeyError\u001b[0m                                  Traceback (most recent call last)",
      "\u001b[1;32mc:\\Users\\Playdata\\Documents\\coffee_Proj\\preprocess.ipynb 셀 15\u001b[0m line \u001b[0;36m2\n\u001b[0;32m      <a href='vscode-notebook-cell:/c%3A/Users/Playdata/Documents/coffee_Proj/preprocess.ipynb#X22sZmlsZQ%3D%3D?line=0'>1</a>\u001b[0m \u001b[39m# 국가 지역 : 548개\u001b[39;00m\n\u001b[1;32m----> <a href='vscode-notebook-cell:/c%3A/Users/Playdata/Documents/coffee_Proj/preprocess.ipynb#X22sZmlsZQ%3D%3D?line=1'>2</a>\u001b[0m \u001b[39mfor\u001b[39;00m \u001b[39mid\u001b[39m \u001b[39min\u001b[39;00m df[\u001b[39m'\u001b[39;49m\u001b[39mid\u001b[39;49m\u001b[39m'\u001b[39;49m]: \u001b[39m# index\u001b[39;00m\n\u001b[0;32m      <a href='vscode-notebook-cell:/c%3A/Users/Playdata/Documents/coffee_Proj/preprocess.ipynb#X22sZmlsZQ%3D%3D?line=2'>3</a>\u001b[0m     \u001b[39mfor\u001b[39;00m country \u001b[39min\u001b[39;00m country_list:\n\u001b[0;32m      <a href='vscode-notebook-cell:/c%3A/Users/Playdata/Documents/coffee_Proj/preprocess.ipynb#X22sZmlsZQ%3D%3D?line=3'>4</a>\u001b[0m         \u001b[39mfor\u001b[39;00m k \u001b[39min\u001b[39;00m \u001b[39mrange\u001b[39m(\u001b[39mlen\u001b[39m(df[\u001b[39m'\u001b[39m\u001b[39mcountry\u001b[39m\u001b[39m'\u001b[39m][\u001b[39mid\u001b[39m])):\n",
      "File \u001b[1;32mc:\\venvs\\coffee\\lib\\site-packages\\pandas\\core\\frame.py:3896\u001b[0m, in \u001b[0;36mDataFrame.__getitem__\u001b[1;34m(self, key)\u001b[0m\n\u001b[0;32m   3894\u001b[0m \u001b[39mif\u001b[39;00m \u001b[39mself\u001b[39m\u001b[39m.\u001b[39mcolumns\u001b[39m.\u001b[39mnlevels \u001b[39m>\u001b[39m \u001b[39m1\u001b[39m:\n\u001b[0;32m   3895\u001b[0m     \u001b[39mreturn\u001b[39;00m \u001b[39mself\u001b[39m\u001b[39m.\u001b[39m_getitem_multilevel(key)\n\u001b[1;32m-> 3896\u001b[0m indexer \u001b[39m=\u001b[39m \u001b[39mself\u001b[39;49m\u001b[39m.\u001b[39;49mcolumns\u001b[39m.\u001b[39;49mget_loc(key)\n\u001b[0;32m   3897\u001b[0m \u001b[39mif\u001b[39;00m is_integer(indexer):\n\u001b[0;32m   3898\u001b[0m     indexer \u001b[39m=\u001b[39m [indexer]\n",
      "File \u001b[1;32mc:\\venvs\\coffee\\lib\\site-packages\\pandas\\core\\indexes\\base.py:3797\u001b[0m, in \u001b[0;36mIndex.get_loc\u001b[1;34m(self, key)\u001b[0m\n\u001b[0;32m   3792\u001b[0m     \u001b[39mif\u001b[39;00m \u001b[39misinstance\u001b[39m(casted_key, \u001b[39mslice\u001b[39m) \u001b[39mor\u001b[39;00m (\n\u001b[0;32m   3793\u001b[0m         \u001b[39misinstance\u001b[39m(casted_key, abc\u001b[39m.\u001b[39mIterable)\n\u001b[0;32m   3794\u001b[0m         \u001b[39mand\u001b[39;00m \u001b[39many\u001b[39m(\u001b[39misinstance\u001b[39m(x, \u001b[39mslice\u001b[39m) \u001b[39mfor\u001b[39;00m x \u001b[39min\u001b[39;00m casted_key)\n\u001b[0;32m   3795\u001b[0m     ):\n\u001b[0;32m   3796\u001b[0m         \u001b[39mraise\u001b[39;00m InvalidIndexError(key)\n\u001b[1;32m-> 3797\u001b[0m     \u001b[39mraise\u001b[39;00m \u001b[39mKeyError\u001b[39;00m(key) \u001b[39mfrom\u001b[39;00m \u001b[39merr\u001b[39;00m\n\u001b[0;32m   3798\u001b[0m \u001b[39mexcept\u001b[39;00m \u001b[39mTypeError\u001b[39;00m:\n\u001b[0;32m   3799\u001b[0m     \u001b[39m# If we have a listlike key, _check_indexing_error will raise\u001b[39;00m\n\u001b[0;32m   3800\u001b[0m     \u001b[39m#  InvalidIndexError. Otherwise we fall through and re-raise\u001b[39;00m\n\u001b[0;32m   3801\u001b[0m     \u001b[39m#  the TypeError.\u001b[39;00m\n\u001b[0;32m   3802\u001b[0m     \u001b[39mself\u001b[39m\u001b[39m.\u001b[39m_check_indexing_error(key)\n",
      "\u001b[1;31mKeyError\u001b[0m: 'id'"
     ]
    }
   ],
   "source": [
    "# 국가 지역 : 548개\n",
    "for id in df['id']: # index\n",
    "    for country in country_list:\n",
    "        for k in range(len(df['country'][id])):\n",
    "            if country in df['country'][id][k]:\n",
    "                df['country'][id][k] = country"
   ]
  },
  {
   "cell_type": "code",
   "execution_count": null,
   "metadata": {},
   "outputs": [],
   "source": []
  }
 ],
 "metadata": {
  "kernelspec": {
   "display_name": "coffee",
   "language": "python",
   "name": "python3"
  },
  "language_info": {
   "codemirror_mode": {
    "name": "ipython",
    "version": 3
   },
   "file_extension": ".py",
   "mimetype": "text/x-python",
   "name": "python",
   "nbconvert_exporter": "python",
   "pygments_lexer": "ipython3",
   "version": "3.10.4"
  }
 },
 "nbformat": 4,
 "nbformat_minor": 2
}
