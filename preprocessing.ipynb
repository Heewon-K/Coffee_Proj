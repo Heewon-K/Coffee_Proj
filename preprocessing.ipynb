{
 "cells": [
  {
   "cell_type": "code",
   "execution_count": 2,
   "metadata": {},
   "outputs": [],
   "source": [
    "import pandas as pd\n",
    "import numpy as np\n",
    "from ast import literal_eval"
   ]
  },
  {
   "cell_type": "code",
   "execution_count": 3,
   "metadata": {},
   "outputs": [],
   "source": [
    "df = pd.read_csv('wondoofin.csv')\n",
    "cat_df = pd.read_csv('category.csv')"
   ]
  },
  {
   "cell_type": "code",
   "execution_count": 3,
   "metadata": {},
   "outputs": [
    {
     "name": "stdout",
     "output_type": "stream",
     "text": [
      "<class 'pandas.core.frame.DataFrame'>\n",
      "RangeIndex: 559 entries, 0 to 558\n",
      "Data columns (total 26 columns):\n",
      " #   Column             Non-Null Count  Dtype \n",
      "---  ------             --------------  ----- \n",
      " 0   id                 559 non-null    int64 \n",
      " 1   이름                 559 non-null    object\n",
      " 2   로스터리               559 non-null    object\n",
      " 3   타입                 559 non-null    object\n",
      " 4   로스팅 포인트            559 non-null    object\n",
      " 5   지속가능성              113 non-null    object\n",
      " 6   컵 노트               559 non-null    object\n",
      " 7   바디감                559 non-null    int64 \n",
      " 8   신맛                 559 non-null    int64 \n",
      " 9   단맛                 559 non-null    int64 \n",
      " 10  쓴맛                 559 non-null    int64 \n",
      " 11  커피 소개              559 non-null    object\n",
      " 12  나라                 543 non-null    object\n",
      " 13  로스터리 소개            559 non-null    object\n",
      " 14  로스터리 주소            550 non-null    object\n",
      " 15  이름.1               559 non-null    object\n",
      " 16  식품의 유형             554 non-null    object\n",
      " 17  제조원 및 소재지          557 non-null    object\n",
      " 18  유통기한               557 non-null    object\n",
      " 19  제조일자               559 non-null    object\n",
      " 20  내용량                559 non-null    object\n",
      " 21  보관 방법              545 non-null    object\n",
      " 22  원재료 및 함량           559 non-null    object\n",
      " 23  제품문의 관련 주소 및 전화번호  559 non-null    object\n",
      " 24  카페인                559 non-null    int64 \n",
      " 25  로스터리ID             559 non-null    int64 \n",
      "dtypes: int64(7), object(19)\n",
      "memory usage: 113.7+ KB\n"
     ]
    }
   ],
   "source": [
    "df.info()"
   ]
  },
  {
   "cell_type": "code",
   "execution_count": 7,
   "metadata": {},
   "outputs": [
    {
     "data": {
      "text/plain": [
       "Index(['id', '이름', '로스터리', '타입', '로스팅 포인트', '지속가능성', '컵 노트', '바디감', '신맛', '단맛',\n",
       "       '쓴맛', '커피 소개', '나라', '로스터리 소개', '로스터리 주소', '이름.1', '식품의 유형',\n",
       "       '제조원 및 소재지', '유통기한', '제조일자', '내용량', '보관 방법', '원재료 및 함량',\n",
       "       '제품문의 관련 주소 및 전화번호', '카페인', '로스터리ID'],\n",
       "      dtype='object')"
      ]
     },
     "execution_count": 7,
     "metadata": {},
     "output_type": "execute_result"
    }
   ],
   "source": [
    "df.columns"
   ]
  },
  {
   "cell_type": "code",
   "execution_count": 6,
   "metadata": {},
   "outputs": [
    {
     "data": {
      "text/plain": [
       "(559, 26)"
      ]
     },
     "execution_count": 6,
     "metadata": {},
     "output_type": "execute_result"
    }
   ],
   "source": [
    "df.shape"
   ]
  },
  {
   "cell_type": "markdown",
   "metadata": {},
   "source": [
    "***\n",
    "null 값 처리\n",
    "- 지속가능성 : 113\n",
    "- 나라 : 543\n",
    "***\n",
    "- 로스터리 주소 : 550\n",
    "- 제조원 및 소재지 : 557/559\n",
    "- 유통기한 : 557\n",
    "- 보관 방법 : 545\n",
    "- 식품의 유형 : 554\n",
    "***"
   ]
  },
  {
   "cell_type": "code",
   "execution_count": 5,
   "metadata": {},
   "outputs": [
    {
     "data": {
      "text/plain": [
       "['토피', '맥아', '흑설탕']"
      ]
     },
     "execution_count": 5,
     "metadata": {},
     "output_type": "execute_result"
    }
   ],
   "source": [
    "# 리스트 처리\n",
    "df['컵 노트'] = df['컵 노트'].apply(literal_eval)\n",
    "df['컵 노트'][0]"
   ]
  },
  {
   "cell_type": "markdown",
   "metadata": {},
   "source": [
    "***"
   ]
  },
  {
   "cell_type": "markdown",
   "metadata": {},
   "source": [
    "***\n",
    "추천과는 상관없는 칼럼들\n",
    "1. 주소\n",
    "***"
   ]
  },
  {
   "cell_type": "code",
   "execution_count": 9,
   "metadata": {},
   "outputs": [
    {
     "name": "stdout",
     "output_type": "stream",
     "text": [
      "[4701, 4692, 4613, 4614, 4695, 4694, 4612, 4611, 4693]\n"
     ]
    }
   ],
   "source": [
    "print(df.loc[df['로스터리 주소'].isna(), 'id'].tolist())"
   ]
  },
  {
   "cell_type": "code",
   "execution_count": 10,
   "metadata": {},
   "outputs": [],
   "source": [
    "df.loc[df['로스터리 주소'].isna(), '로스터리 주소'] = 0"
   ]
  },
  {
   "cell_type": "code",
   "execution_count": 11,
   "metadata": {},
   "outputs": [
    {
     "name": "stdout",
     "output_type": "stream",
     "text": [
      "[274, 272]\n"
     ]
    }
   ],
   "source": [
    "print(df.loc[df['제조원 및 소재지'].isna(), 'id'].tolist())"
   ]
  },
  {
   "cell_type": "code",
   "execution_count": 12,
   "metadata": {},
   "outputs": [
    {
     "name": "stdout",
     "output_type": "stream",
     "text": [
      "로스터리 :  17    커피네츄럴스페셜티\n",
      "Name: 로스터리, dtype: object\n",
      "로스토리 주소 :  17    0\n",
      "Name: 로스터리 주소, dtype: object\n",
      "제조원 :  17    경기도 고양시 덕양구 행신동 741-17 1층\n",
      "Name: 제조원 및 소재지, dtype: object\n"
     ]
    }
   ],
   "source": [
    "print('로스터리 : ', df.loc[df['id'] == 4701, '로스터리'])\n",
    "print('로스토리 주소 : ', df.loc[df['id'] == 4701, '로스터리 주소'])\n",
    "print('제조원 : ', df.loc[df['id'] == 4701, '제조원 및 소재지'])"
   ]
  },
  {
   "cell_type": "markdown",
   "metadata": {},
   "source": [
    "***\n",
    "df의 로스터리 null 정보 확인\n",
    "***"
   ]
  },
  {
   "cell_type": "code",
   "execution_count": 53,
   "metadata": {},
   "outputs": [
    {
     "data": {
      "text/html": [
       "<div>\n",
       "<style scoped>\n",
       "    .dataframe tbody tr th:only-of-type {\n",
       "        vertical-align: middle;\n",
       "    }\n",
       "\n",
       "    .dataframe tbody tr th {\n",
       "        vertical-align: top;\n",
       "    }\n",
       "\n",
       "    .dataframe thead th {\n",
       "        text-align: right;\n",
       "    }\n",
       "</style>\n",
       "<table border=\"1\" class=\"dataframe\">\n",
       "  <thead>\n",
       "    <tr style=\"text-align: right;\">\n",
       "      <th></th>\n",
       "      <th>로스터리ID</th>\n",
       "      <th>로스터리</th>\n",
       "      <th>로스터리 주소</th>\n",
       "      <th>제조원 및 소재지</th>\n",
       "    </tr>\n",
       "  </thead>\n",
       "  <tbody>\n",
       "    <tr>\n",
       "      <th>0</th>\n",
       "      <td>57</td>\n",
       "      <td>언더프레셔</td>\n",
       "      <td>서울 강남구 영동대로106길 37 1층</td>\n",
       "      <td>(주)핸디엄, 경기도 여주시 세종대왕면 상동길 68</td>\n",
       "    </tr>\n",
       "    <tr>\n",
       "      <th>1</th>\n",
       "      <td>67</td>\n",
       "      <td>운조커피</td>\n",
       "      <td>경기도 화성시 동탄지성로 306번길 68</td>\n",
       "      <td>경기도 화성시 동탄지성로 306번길 68</td>\n",
       "    </tr>\n",
       "    <tr>\n",
       "      <th>2</th>\n",
       "      <td>77</td>\n",
       "      <td>제이엠디커피팩토리</td>\n",
       "      <td>경기 고양시 일산동구 장대길 75-53 나동 1층 JMD Coffee Factory</td>\n",
       "      <td>경기 고양시 일산동구 장대길 75-53 나동 1층 JMD Coffee Factory</td>\n",
       "    </tr>\n",
       "    <tr>\n",
       "      <th>3</th>\n",
       "      <td>11</td>\n",
       "      <td>뉴웨이브 커피로스터스</td>\n",
       "      <td>서울특별시 양천구 오목로56길 2,1층</td>\n",
       "      <td>뉴웨이브커피로스터스, 서울시 양천구 오목로 56길 2, 영원빌딩 103호</td>\n",
       "    </tr>\n",
       "    <tr>\n",
       "      <th>4</th>\n",
       "      <td>34</td>\n",
       "      <td>베르크 로스터스</td>\n",
       "      <td>부산 부산진구 전포동 356-6 지하1층</td>\n",
       "      <td>베르크로스터스, 부산광역시 사상구 학감대로222번길 83, 2층</td>\n",
       "    </tr>\n",
       "  </tbody>\n",
       "</table>\n",
       "</div>"
      ],
      "text/plain": [
       "   로스터리ID         로스터리                                         로스터리 주소  \\\n",
       "0      57        언더프레셔                           서울 강남구 영동대로106길 37 1층   \n",
       "1      67         운조커피                          경기도 화성시 동탄지성로 306번길 68   \n",
       "2      77    제이엠디커피팩토리  경기 고양시 일산동구 장대길 75-53 나동 1층 JMD Coffee Factory   \n",
       "3      11  뉴웨이브 커피로스터스                           서울특별시 양천구 오목로56길 2,1층   \n",
       "4      34     베르크 로스터스                          부산 부산진구 전포동 356-6 지하1층   \n",
       "\n",
       "                                        제조원 및 소재지  \n",
       "0                    (주)핸디엄, 경기도 여주시 세종대왕면 상동길 68  \n",
       "1                          경기도 화성시 동탄지성로 306번길 68  \n",
       "2  경기 고양시 일산동구 장대길 75-53 나동 1층 JMD Coffee Factory  \n",
       "3        뉴웨이브커피로스터스, 서울시 양천구 오목로 56길 2, 영원빌딩 103호  \n",
       "4             베르크로스터스, 부산광역시 사상구 학감대로222번길 83, 2층  "
      ]
     },
     "execution_count": 53,
     "metadata": {},
     "output_type": "execute_result"
    }
   ],
   "source": [
    "addrdf = df[['로스터리ID', '로스터리', '로스터리 주소', '제조원 및 소재지']]\n",
    "addrdf.head()"
   ]
  },
  {
   "cell_type": "code",
   "execution_count": 54,
   "metadata": {},
   "outputs": [
    {
     "data": {
      "text/html": [
       "<div>\n",
       "<style scoped>\n",
       "    .dataframe tbody tr th:only-of-type {\n",
       "        vertical-align: middle;\n",
       "    }\n",
       "\n",
       "    .dataframe tbody tr th {\n",
       "        vertical-align: top;\n",
       "    }\n",
       "\n",
       "    .dataframe thead th {\n",
       "        text-align: right;\n",
       "    }\n",
       "</style>\n",
       "<table border=\"1\" class=\"dataframe\">\n",
       "  <thead>\n",
       "    <tr style=\"text-align: right;\">\n",
       "      <th></th>\n",
       "      <th>로스터리ID</th>\n",
       "      <th>로스터리</th>\n",
       "      <th>로스터리 주소</th>\n",
       "      <th>제조원 및 소재지</th>\n",
       "    </tr>\n",
       "  </thead>\n",
       "  <tbody>\n",
       "  </tbody>\n",
       "</table>\n",
       "</div>"
      ],
      "text/plain": [
       "Empty DataFrame\n",
       "Columns: [로스터리ID, 로스터리, 로스터리 주소, 제조원 및 소재지]\n",
       "Index: []"
      ]
     },
     "execution_count": 54,
     "metadata": {},
     "output_type": "execute_result"
    }
   ],
   "source": [
    "result = addrdf[addrdf['로스터리 주소']==0]\n",
    "result"
   ]
  },
  {
   "cell_type": "code",
   "execution_count": 56,
   "metadata": {},
   "outputs": [
    {
     "data": {
      "text/html": [
       "<div>\n",
       "<style scoped>\n",
       "    .dataframe tbody tr th:only-of-type {\n",
       "        vertical-align: middle;\n",
       "    }\n",
       "\n",
       "    .dataframe tbody tr th {\n",
       "        vertical-align: top;\n",
       "    }\n",
       "\n",
       "    .dataframe thead th {\n",
       "        text-align: right;\n",
       "    }\n",
       "</style>\n",
       "<table border=\"1\" class=\"dataframe\">\n",
       "  <thead>\n",
       "    <tr style=\"text-align: right;\">\n",
       "      <th></th>\n",
       "      <th>로스터리ID</th>\n",
       "      <th>로스터리</th>\n",
       "      <th>로스터리 주소</th>\n",
       "      <th>제조원 및 소재지</th>\n",
       "    </tr>\n",
       "  </thead>\n",
       "  <tbody>\n",
       "    <tr>\n",
       "      <th>413</th>\n",
       "      <td>42</td>\n",
       "      <td>센터 커피</td>\n",
       "      <td>서울특별시 성동구 서울숲 2길 28-11</td>\n",
       "      <td>0</td>\n",
       "    </tr>\n",
       "    <tr>\n",
       "      <th>529</th>\n",
       "      <td>42</td>\n",
       "      <td>센터 커피</td>\n",
       "      <td>서울특별시 성동구 서울숲 2길 28-11</td>\n",
       "      <td>0</td>\n",
       "    </tr>\n",
       "  </tbody>\n",
       "</table>\n",
       "</div>"
      ],
      "text/plain": [
       "     로스터리ID   로스터리                 로스터리 주소 제조원 및 소재지\n",
       "413      42  센터 커피  서울특별시 성동구 서울숲 2길 28-11         0\n",
       "529      42  센터 커피  서울특별시 성동구 서울숲 2길 28-11         0"
      ]
     },
     "execution_count": 56,
     "metadata": {},
     "output_type": "execute_result"
    }
   ],
   "source": [
    "# result2 = addrdf[addrdf['제조원 및 소재지'].isna()]\n",
    "result2 = addrdf[addrdf['제조원 및 소재지']==0]\n",
    "result2"
   ]
  },
  {
   "cell_type": "code",
   "execution_count": 22,
   "metadata": {},
   "outputs": [
    {
     "data": {
      "text/html": [
       "<div>\n",
       "<style scoped>\n",
       "    .dataframe tbody tr th:only-of-type {\n",
       "        vertical-align: middle;\n",
       "    }\n",
       "\n",
       "    .dataframe tbody tr th {\n",
       "        vertical-align: top;\n",
       "    }\n",
       "\n",
       "    .dataframe thead th {\n",
       "        text-align: right;\n",
       "    }\n",
       "</style>\n",
       "<table border=\"1\" class=\"dataframe\">\n",
       "  <thead>\n",
       "    <tr style=\"text-align: right;\">\n",
       "      <th></th>\n",
       "      <th>로스터리ID</th>\n",
       "      <th>로스터리</th>\n",
       "      <th>로스터리 주소</th>\n",
       "      <th>제조원 및 소재지</th>\n",
       "    </tr>\n",
       "  </thead>\n",
       "  <tbody>\n",
       "    <tr>\n",
       "      <th>0</th>\n",
       "      <td>57</td>\n",
       "      <td>언더프레셔</td>\n",
       "      <td>서울 강남구 영동대로106길 37 1층</td>\n",
       "      <td>(주)핸디엄, 경기도 여주시 세종대왕면 상동길 68</td>\n",
       "    </tr>\n",
       "    <tr>\n",
       "      <th>3</th>\n",
       "      <td>11</td>\n",
       "      <td>뉴웨이브 커피로스터스</td>\n",
       "      <td>서울특별시 양천구 오목로56길 2,1층</td>\n",
       "      <td>뉴웨이브커피로스터스, 서울시 양천구 오목로 56길 2, 영원빌딩 103호</td>\n",
       "    </tr>\n",
       "    <tr>\n",
       "      <th>4</th>\n",
       "      <td>34</td>\n",
       "      <td>베르크 로스터스</td>\n",
       "      <td>부산 부산진구 전포동 356-6 지하1층</td>\n",
       "      <td>베르크로스터스, 부산광역시 사상구 학감대로222번길 83, 2층</td>\n",
       "    </tr>\n",
       "    <tr>\n",
       "      <th>6</th>\n",
       "      <td>18</td>\n",
       "      <td>라메르판지 비앤알</td>\n",
       "      <td>울산 북구 판지1길 30</td>\n",
       "      <td>라메르판지 비앤알 / 울산광역시 북구 판지1길 30 (지상2~3층 구유동)</td>\n",
       "    </tr>\n",
       "    <tr>\n",
       "      <th>7</th>\n",
       "      <td>98</td>\n",
       "      <td>토치커피</td>\n",
       "      <td>서울시 강남구 봉은사로 68길 41</td>\n",
       "      <td>서울시 강남구 봉은사로 68길 41, 1층</td>\n",
       "    </tr>\n",
       "    <tr>\n",
       "      <th>...</th>\n",
       "      <td>...</td>\n",
       "      <td>...</td>\n",
       "      <td>...</td>\n",
       "      <td>...</td>\n",
       "    </tr>\n",
       "    <tr>\n",
       "      <th>541</th>\n",
       "      <td>93</td>\n",
       "      <td>컨트리사이드</td>\n",
       "      <td>경기도 고양시 덕양구 행당로 1 4층 401호</td>\n",
       "      <td>경기도 고양시 덕양구 행당로1 4층 401호</td>\n",
       "    </tr>\n",
       "    <tr>\n",
       "      <th>543</th>\n",
       "      <td>48</td>\n",
       "      <td>식물학 커피로스터스</td>\n",
       "      <td>서울시 강남구 강남대로154길 33</td>\n",
       "      <td>식물학커피로스터스, 서울특별시 용산구 서빙고로67길 21 2층</td>\n",
       "    </tr>\n",
       "    <tr>\n",
       "      <th>544</th>\n",
       "      <td>49</td>\n",
       "      <td>싸인포스트커피</td>\n",
       "      <td>서울시 동작구 솔밭로 97-6</td>\n",
       "      <td>싸인포스트커피, 서울시 동작구 솔밭로 97-6</td>\n",
       "    </tr>\n",
       "    <tr>\n",
       "      <th>553</th>\n",
       "      <td>61</td>\n",
       "      <td>오드이븐</td>\n",
       "      <td>부산 중구 중구로29번길 7 1층 오드이븐</td>\n",
       "      <td>부산광역시 중구 중구로 29번길 7 오드이븐</td>\n",
       "    </tr>\n",
       "    <tr>\n",
       "      <th>558</th>\n",
       "      <td>36</td>\n",
       "      <td>보사노바 커피로스터스</td>\n",
       "      <td>강원 강릉시 창해로14번길 28</td>\n",
       "      <td>보사노바로스팅팩토리, 강원도 강릉시 경강로2660번길 7</td>\n",
       "    </tr>\n",
       "  </tbody>\n",
       "</table>\n",
       "<p>318 rows × 4 columns</p>\n",
       "</div>"
      ],
      "text/plain": [
       "     로스터리ID         로스터리                    로스터리 주소  \\\n",
       "0        57        언더프레셔      서울 강남구 영동대로106길 37 1층   \n",
       "3        11  뉴웨이브 커피로스터스      서울특별시 양천구 오목로56길 2,1층   \n",
       "4        34     베르크 로스터스     부산 부산진구 전포동 356-6 지하1층   \n",
       "6        18    라메르판지 비앤알              울산 북구 판지1길 30   \n",
       "7        98         토치커피        서울시 강남구 봉은사로 68길 41   \n",
       "..      ...          ...                        ...   \n",
       "541      93       컨트리사이드  경기도 고양시 덕양구 행당로 1 4층 401호   \n",
       "543      48   식물학 커피로스터스        서울시 강남구 강남대로154길 33   \n",
       "544      49      싸인포스트커피           서울시 동작구 솔밭로 97-6   \n",
       "553      61         오드이븐    부산 중구 중구로29번길 7 1층 오드이븐   \n",
       "558      36  보사노바 커피로스터스          강원 강릉시 창해로14번길 28   \n",
       "\n",
       "                                     제조원 및 소재지  \n",
       "0                 (주)핸디엄, 경기도 여주시 세종대왕면 상동길 68  \n",
       "3     뉴웨이브커피로스터스, 서울시 양천구 오목로 56길 2, 영원빌딩 103호  \n",
       "4          베르크로스터스, 부산광역시 사상구 학감대로222번길 83, 2층  \n",
       "6    라메르판지 비앤알 / 울산광역시 북구 판지1길 30 (지상2~3층 구유동)  \n",
       "7                      서울시 강남구 봉은사로 68길 41, 1층  \n",
       "..                                         ...  \n",
       "541                   경기도 고양시 덕양구 행당로1 4층 401호  \n",
       "543         식물학커피로스터스, 서울특별시 용산구 서빙고로67길 21 2층  \n",
       "544                  싸인포스트커피, 서울시 동작구 솔밭로 97-6  \n",
       "553                   부산광역시 중구 중구로 29번길 7 오드이븐  \n",
       "558            보사노바로스팅팩토리, 강원도 강릉시 경강로2660번길 7  \n",
       "\n",
       "[318 rows x 4 columns]"
      ]
     },
     "execution_count": 22,
     "metadata": {},
     "output_type": "execute_result"
    }
   ],
   "source": [
    "result3 = addrdf[addrdf['제조원 및 소재지'] != addrdf['로스터리 주소']]\n",
    "result3"
   ]
  },
  {
   "cell_type": "markdown",
   "metadata": {},
   "source": [
    "<로스터리 주소와 제조원이 항상 일치하지는 않는다.> <br>\n",
    "로스터리 주소 : 커피네츄럴스페셜티, 헤베커피 <br>\n",
    "제조원은 그냥 0으로 둬야할 것 같다."
   ]
  },
  {
   "cell_type": "code",
   "execution_count": 46,
   "metadata": {},
   "outputs": [],
   "source": [
    "df.loc[df['로스터리'] == '커피네츄럴스페셜티', '로스터리 주소'] = df['제조원 및 소재지'][df['로스터리'] == '커피네츄럴스페셜티'].values[0]\n",
    "df.loc[df['로스터리'] == '헤베커피', '로스터리 주소'] = df['제조원 및 소재지'][df['로스터리'] == '헤베커피'].values[0]"
   ]
  },
  {
   "cell_type": "code",
   "execution_count": 35,
   "metadata": {},
   "outputs": [
    {
     "data": {
      "text/plain": [
       "'경기도 고양시 덕양구 행신동 741-17 1층'"
      ]
     },
     "execution_count": 35,
     "metadata": {},
     "output_type": "execute_result"
    }
   ],
   "source": [
    "df['제조원 및 소재지'][df['로스터리'] == '커피네츄럴스페셜티'].values[0]"
   ]
  },
  {
   "cell_type": "code",
   "execution_count": 52,
   "metadata": {},
   "outputs": [],
   "source": [
    "df.loc[df['제조원 및 소재지'].isna(), '제조원 및 소재지'] = 0"
   ]
  },
  {
   "cell_type": "markdown",
   "metadata": {},
   "source": [
    "***\n",
    "위 확인 블락을 다시 돌려 주소null값이 없고 제조원 null값이 0으로 바뀌었는지 확인!\n",
    "***"
   ]
  },
  {
   "cell_type": "markdown",
   "metadata": {},
   "source": [
    "***\n",
    "식품의 유형, 유통기한, 보관 방법\n",
    "***"
   ]
  },
  {
   "cell_type": "code",
   "execution_count": null,
   "metadata": {},
   "outputs": [],
   "source": []
  }
 ],
 "metadata": {
  "kernelspec": {
   "display_name": "coffee",
   "language": "python",
   "name": "python3"
  },
  "language_info": {
   "codemirror_mode": {
    "name": "ipython",
    "version": 3
   },
   "file_extension": ".py",
   "mimetype": "text/x-python",
   "name": "python",
   "nbconvert_exporter": "python",
   "pygments_lexer": "ipython3",
   "version": "3.10.4"
  }
 },
 "nbformat": 4,
 "nbformat_minor": 2
}
