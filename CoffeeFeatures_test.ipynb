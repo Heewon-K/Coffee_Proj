{
 "cells": [
  {
   "cell_type": "markdown",
   "metadata": {},
   "source": [
    "### 커피 특징\n",
    "* !원두 이름!\n",
    "    - 타입 (string)\n",
    "    - 로스팅 포인트 (string)\n",
    "    - 지속가능성 (string)\n",
    "    - 컵 노트 (list of strings)\n",
    "    - 바디감\n",
    "    - 신맛\n",
    "    - 단맛\n",
    "    - 쓴맛"
   ]
  },
  {
   "cell_type": "code",
   "execution_count": 1,
   "metadata": {},
   "outputs": [],
   "source": [
    "# package import\n",
    "import pandas as pd\n",
    "\n",
    "from bs4 import BeautifulSoup\n",
    "from selenium import webdriver\n",
    "from selenium.webdriver.chrome.service import Service\n",
    "from selenium.webdriver.common.by import By\n",
    "from selenium.webdriver.chrome.options import Options\n",
    "\n",
    "import re\n",
    "import time\n",
    "from tqdm import tqdm_notebook\n",
    "\n",
    "import pickle"
   ]
  },
  {
   "cell_type": "code",
   "execution_count": 118,
   "metadata": {},
   "outputs": [],
   "source": [
    "# example dictionary into df\n",
    "dict = {'원두1':{'타입':'블랜드', '로스팅 포인트':'다크', '지속가능성':'-', '컵노트':['구운 아몬드', '밀크 초콜릿'], '바디감':4, '신맛':2, '단맛':4, '쓴맛':3}}\n",
    "# df = pd.DataFrame.from_dict(dict)\n",
    "# df.T"
   ]
  },
  {
   "cell_type": "code",
   "execution_count": 120,
   "metadata": {},
   "outputs": [],
   "source": [
    "dict['원두1']['테스트'] = '테스트'"
   ]
  },
  {
   "cell_type": "code",
   "execution_count": 122,
   "metadata": {},
   "outputs": [
    {
     "data": {
      "text/plain": [
       "{'타입': '블랜드',\n",
       " '로스팅 포인트': '다크',\n",
       " '지속가능성': '-',\n",
       " '컵노트': ['구운 아몬드', '밀크 초콜릿'],\n",
       " '바디감': 4,\n",
       " '신맛': 2,\n",
       " '단맛': 4,\n",
       " '쓴맛': 3,\n",
       " '테스트': '테스트'}"
      ]
     },
     "execution_count": 122,
     "metadata": {},
     "output_type": "execute_result"
    }
   ],
   "source": [
    "dict['원두1']"
   ]
  },
  {
   "cell_type": "code",
   "execution_count": 27,
   "metadata": {},
   "outputs": [],
   "source": [
    "service = Service(path= './driver/chromedriver.exe')\n",
    "driver = webdriver.Chrome(service=service)"
   ]
  },
  {
   "cell_type": "code",
   "execution_count": 28,
   "metadata": {},
   "outputs": [],
   "source": [
    "# 메인 페이지\n",
    "url = 'https://biz.koke.kr/products?filters=%7B%22categoryGroup%22%3A%22WholeBean%22%7D'\n",
    "driver.get(url) # go to website\n",
    "time.sleep(1)"
   ]
  },
  {
   "cell_type": "code",
   "execution_count": 29,
   "metadata": {},
   "outputs": [
    {
     "name": "stdout",
     "output_type": "stream",
     "text": [
      "페이지수 1 링크 수 18 총 링크 수 18\n",
      "2\n",
      "페이지수 2 링크 수 18 총 링크 수 36\n",
      "2\n",
      "페이지수 3 링크 수 18 총 링크 수 54\n",
      "3\n",
      "페이지수 4 링크 수 18 총 링크 수 72\n",
      "3\n",
      "페이지수 5 링크 수 18 총 링크 수 90\n",
      "3\n",
      "페이지수 6 링크 수 18 총 링크 수 108\n",
      "3\n",
      "페이지수 7 링크 수 18 총 링크 수 126\n",
      "3\n",
      "페이지수 8 링크 수 18 총 링크 수 144\n",
      "3\n",
      "페이지수 9 링크 수 18 총 링크 수 162\n",
      "3\n",
      "페이지수 10 링크 수 18 총 링크 수 180\n",
      "3\n",
      "페이지수 11 링크 수 18 총 링크 수 198\n",
      "3\n",
      "페이지수 12 링크 수 18 총 링크 수 216\n",
      "3\n",
      "페이지수 13 링크 수 18 총 링크 수 234\n",
      "3\n",
      "페이지수 14 링크 수 18 총 링크 수 252\n",
      "3\n",
      "페이지수 15 링크 수 18 총 링크 수 270\n",
      "3\n",
      "페이지수 16 링크 수 18 총 링크 수 288\n",
      "3\n",
      "페이지수 17 링크 수 18 총 링크 수 306\n",
      "3\n",
      "페이지수 18 링크 수 18 총 링크 수 324\n",
      "3\n",
      "페이지수 19 링크 수 18 총 링크 수 342\n",
      "3\n",
      "페이지수 20 링크 수 18 총 링크 수 360\n",
      "3\n",
      "페이지수 21 링크 수 18 총 링크 수 378\n",
      "3\n",
      "페이지수 22 링크 수 18 총 링크 수 396\n",
      "3\n",
      "페이지수 23 링크 수 18 총 링크 수 414\n",
      "3\n",
      "페이지수 24 링크 수 18 총 링크 수 432\n",
      "3\n",
      "페이지수 25 링크 수 18 총 링크 수 450\n",
      "3\n",
      "페이지수 26 링크 수 18 총 링크 수 468\n",
      "3\n",
      "페이지수 27 링크 수 18 총 링크 수 486\n",
      "3\n",
      "페이지수 28 링크 수 18 총 링크 수 504\n",
      "3\n",
      "페이지수 29 링크 수 18 총 링크 수 522\n",
      "3\n",
      "페이지수 30 링크 수 18 총 링크 수 540\n",
      "3\n",
      "페이지수 31 링크 수 18 총 링크 수 558\n",
      "3\n",
      "페이지수 32 링크 수 2 총 링크 수 560\n",
      "560\n",
      "544\n"
     ]
    }
   ],
   "source": [
    "links = [] # 제품 링크 리스트\n",
    "\n",
    "# 약 4분 30초 소요\n",
    "for i in range(32):\n",
    "    raw = driver.find_elements(By.CSS_SELECTOR,\"div.flex.flex-col.w-full.lg\\:w-3\\/4\")\n",
    "    link_elements = raw[0].find_elements(By.TAG_NAME,'a') \n",
    "    href_links = [link.get_attribute('href') for link in link_elements]\n",
    "    links = links + href_links # 현재 페이지에 있는 상품 가져오기\n",
    "    print('페이지수', i+1, '링크 수', len(href_links), '총 링크 수', len(links))\n",
    "    time.sleep(3)\n",
    "\n",
    "    if i != 31:\n",
    "        button = driver.find_elements(By.CSS_SELECTOR ,\"button.text-gray-500.bg-white.border.border-gray-200.koke-button\")\n",
    "        print(len(button))\n",
    "        button[-1].click()\n",
    "        time.sleep(5)\n",
    "\n",
    "links_set = set(links)\n",
    "print(len(links)) # 총 556개 -> 558개\n",
    "print(len(links_set)) # 총 \n",
    "\n",
    "driver.quit()"
   ]
  },
  {
   "cell_type": "code",
   "execution_count": 21,
   "metadata": {},
   "outputs": [
    {
     "data": {
      "text/plain": [
       "'https://biz.koke.kr/products/4041'"
      ]
     },
     "execution_count": 21,
     "metadata": {},
     "output_type": "execute_result"
    }
   ],
   "source": [
    "links"
   ]
  },
  {
   "cell_type": "code",
   "execution_count": 32,
   "metadata": {},
   "outputs": [
    {
     "data": {
      "text/plain": [
       "544"
      ]
     },
     "execution_count": 32,
     "metadata": {},
     "output_type": "execute_result"
    }
   ],
   "source": [
    "len(links_set)"
   ]
  },
  {
   "cell_type": "code",
   "execution_count": 30,
   "metadata": {},
   "outputs": [
    {
     "name": "stdout",
     "output_type": "stream",
     "text": [
      "Loaded links: 560\n"
     ]
    }
   ],
   "source": [
    "# Pickle dump the set of links to a file\n",
    "with open(\"links_1019.pkl\", \"wb\") as file:\n",
    "    pickle.dump(links, file)\n",
    "\n",
    "# Load the set of links from the file\n",
    "with open(\"links_1019.pkl\", \"rb\") as file:\n",
    "    loaded_links = pickle.load(file)\n",
    "\n",
    "# Print the loaded set of links\n",
    "print(\"Loaded links:\", len(loaded_links))"
   ]
  },
  {
   "cell_type": "code",
   "execution_count": 35,
   "metadata": {},
   "outputs": [
    {
     "name": "stdout",
     "output_type": "stream",
     "text": [
      "The original list is :  ['https://biz.koke.kr/products/1089', 'https://biz.koke.kr/products/1041', 'https://biz.koke.kr/products/3928', 'https://biz.koke.kr/products/137', 'https://biz.koke.kr/products/4818']\n",
      "Counter({'https://biz.koke.kr/products/1048': 2, 'https://biz.koke.kr/products/3553': 2, 'https://biz.koke.kr/products/3018': 2, 'https://biz.koke.kr/products/4014': 2, 'https://biz.koke.kr/products/3197': 2, 'https://biz.koke.kr/products/4602': 2, 'https://biz.koke.kr/products/3914': 2, 'https://biz.koke.kr/products/4839': 2, 'https://biz.koke.kr/products/3736': 2, 'https://biz.koke.kr/products/3897': 2, 'https://biz.koke.kr/products/3221': 2, 'https://biz.koke.kr/products/3046': 2, 'https://biz.koke.kr/products/206': 2, 'https://biz.koke.kr/products/3893': 2, 'https://biz.koke.kr/products/3841': 2, 'https://biz.koke.kr/products/4786': 2, 'https://biz.koke.kr/products/1089': 1, 'https://biz.koke.kr/products/1041': 1, 'https://biz.koke.kr/products/3928': 1, 'https://biz.koke.kr/products/137': 1, 'https://biz.koke.kr/products/4818': 1, 'https://biz.koke.kr/products/4802': 1, 'https://biz.koke.kr/products/70': 1, 'https://biz.koke.kr/products/3047': 1, 'https://biz.koke.kr/products/1343': 1, 'https://biz.koke.kr/products/168': 1, 'https://biz.koke.kr/products/3014': 1, 'https://biz.koke.kr/products/51': 1, 'https://biz.koke.kr/products/61': 1, 'https://biz.koke.kr/products/3038': 1, 'https://biz.koke.kr/products/43': 1, 'https://biz.koke.kr/products/11': 1, 'https://biz.koke.kr/products/3241': 1, 'https://biz.koke.kr/products/4611': 1, 'https://biz.koke.kr/products/196': 1, 'https://biz.koke.kr/products/1478': 1, 'https://biz.koke.kr/products/1200': 1, 'https://biz.koke.kr/products/4052': 1, 'https://biz.koke.kr/products/4697': 1, 'https://biz.koke.kr/products/4484': 1, 'https://biz.koke.kr/products/1001': 1, 'https://biz.koke.kr/products/232': 1, 'https://biz.koke.kr/products/3433': 1, 'https://biz.koke.kr/products/3614': 1, 'https://biz.koke.kr/products/3030': 1, 'https://biz.koke.kr/products/1022': 1, 'https://biz.koke.kr/products/120': 1, 'https://biz.koke.kr/products/12': 1, 'https://biz.koke.kr/products/3587': 1, 'https://biz.koke.kr/products/3069': 1, 'https://biz.koke.kr/products/1104': 1, 'https://biz.koke.kr/products/1026': 1, 'https://biz.koke.kr/products/3193': 1, 'https://biz.koke.kr/products/1495': 1, 'https://biz.koke.kr/products/1209': 1, 'https://biz.koke.kr/products/3457': 1, 'https://biz.koke.kr/products/1731': 1, 'https://biz.koke.kr/products/3903': 1, 'https://biz.koke.kr/products/4676': 1, 'https://biz.koke.kr/products/3513': 1, 'https://biz.koke.kr/products/3355': 1, 'https://biz.koke.kr/products/226': 1, 'https://biz.koke.kr/products/4695': 1, 'https://biz.koke.kr/products/4686': 1, 'https://biz.koke.kr/products/3837': 1, 'https://biz.koke.kr/products/3556': 1, 'https://biz.koke.kr/products/3508': 1, 'https://biz.koke.kr/products/3017': 1, 'https://biz.koke.kr/products/4797': 1, 'https://biz.koke.kr/products/3909': 1, 'https://biz.koke.kr/products/1018': 1, 'https://biz.koke.kr/products/185': 1, 'https://biz.koke.kr/products/3205': 1, 'https://biz.koke.kr/products/2992': 1, 'https://biz.koke.kr/products/1316': 1, 'https://biz.koke.kr/products/4717': 1, 'https://biz.koke.kr/products/4689': 1, 'https://biz.koke.kr/products/4455': 1, 'https://biz.koke.kr/products/110': 1, 'https://biz.koke.kr/products/5': 1, 'https://biz.koke.kr/products/3': 1, 'https://biz.koke.kr/products/3722': 1, 'https://biz.koke.kr/products/3706': 1, 'https://biz.koke.kr/products/3606': 1, 'https://biz.koke.kr/products/4333': 1, 'https://biz.koke.kr/products/3936': 1, 'https://biz.koke.kr/products/3921': 1, 'https://biz.koke.kr/products/3217': 1, 'https://biz.koke.kr/products/3199': 1, 'https://biz.koke.kr/products/3140': 1, 'https://biz.koke.kr/products/3526': 1, 'https://biz.koke.kr/products/3404': 1, 'https://biz.koke.kr/products/3390': 1, 'https://biz.koke.kr/products/1573': 1, 'https://biz.koke.kr/products/1204': 1, 'https://biz.koke.kr/products/1109': 1, 'https://biz.koke.kr/products/3084': 1, 'https://biz.koke.kr/products/3064': 1, 'https://biz.koke.kr/products/2998': 1, 'https://biz.koke.kr/products/282': 1, 'https://biz.koke.kr/products/180': 1, 'https://biz.koke.kr/products/55': 1, 'https://biz.koke.kr/products/1101': 1, 'https://biz.koke.kr/products/1084': 1, 'https://biz.koke.kr/products/1017': 1, 'https://biz.koke.kr/products/4188': 1, 'https://biz.koke.kr/products/4172': 1, 'https://biz.koke.kr/products/4008': 1, 'https://biz.koke.kr/products/19': 1, 'https://biz.koke.kr/products/4878': 1, 'https://biz.koke.kr/products/4603': 1, 'https://biz.koke.kr/products/3161': 1, 'https://biz.koke.kr/products/3157': 1, 'https://biz.koke.kr/products/3147': 1, 'https://biz.koke.kr/products/3763': 1, 'https://biz.koke.kr/products/3608': 1, 'https://biz.koke.kr/products/3369': 1, 'https://biz.koke.kr/products/1118': 1, 'https://biz.koke.kr/products/1088': 1, 'https://biz.koke.kr/products/1040': 1, 'https://biz.koke.kr/products/3024': 1, 'https://biz.koke.kr/products/3011': 1, 'https://biz.koke.kr/products/1713': 1, 'https://biz.koke.kr/products/104': 1, 'https://biz.koke.kr/products/74': 1, 'https://biz.koke.kr/products/36': 1, 'https://biz.koke.kr/products/1038': 1, 'https://biz.koke.kr/products/249': 1, 'https://biz.koke.kr/products/141': 1, 'https://biz.koke.kr/products/72': 1, 'https://biz.koke.kr/products/235': 1, 'https://biz.koke.kr/products/3012': 1, 'https://biz.koke.kr/products/3214': 1, 'https://biz.koke.kr/products/4819': 1, 'https://biz.koke.kr/products/4801': 1, 'https://biz.koke.kr/products/1342': 1, 'https://biz.koke.kr/products/3048': 1, 'https://biz.koke.kr/products/1476': 1, 'https://biz.koke.kr/products/3963': 1, 'https://biz.koke.kr/products/3039': 1, 'https://biz.koke.kr/products/1045': 1, 'https://biz.koke.kr/products/3028': 1, 'https://biz.koke.kr/products/4486': 1, 'https://biz.koke.kr/products/3067': 1, 'https://biz.koke.kr/products/274': 1, 'https://biz.koke.kr/products/4220': 1, 'https://biz.koke.kr/products/189': 1, 'https://biz.koke.kr/products/3244': 1, 'https://biz.koke.kr/products/1707': 1, 'https://biz.koke.kr/products/1105': 1, 'https://biz.koke.kr/products/3602': 1, 'https://biz.koke.kr/products/204': 1, 'https://biz.koke.kr/products/3402': 1, 'https://biz.koke.kr/products/3465': 1, 'https://biz.koke.kr/products/3429': 1, 'https://biz.koke.kr/products/1002': 1, 'https://biz.koke.kr/products/133': 1, 'https://biz.koke.kr/products/4705': 1, 'https://biz.koke.kr/products/4614': 1, 'https://biz.koke.kr/products/4701': 1, 'https://biz.koke.kr/products/3516': 1, 'https://biz.koke.kr/products/3206': 1, 'https://biz.koke.kr/products/194': 1, 'https://biz.koke.kr/products/53': 1, 'https://biz.koke.kr/products/4800': 1, 'https://biz.koke.kr/products/113': 1, 'https://biz.koke.kr/products/54': 1, 'https://biz.koke.kr/products/13': 1, 'https://biz.koke.kr/products/1023': 1, 'https://biz.koke.kr/products/224': 1, 'https://biz.koke.kr/products/4458': 1, 'https://biz.koke.kr/products/4446': 1, 'https://biz.koke.kr/products/3901': 1, 'https://biz.koke.kr/products/10': 1, 'https://biz.koke.kr/products/4682': 1, 'https://biz.koke.kr/products/4665': 1, 'https://biz.koke.kr/products/3437': 1, 'https://biz.koke.kr/products/3354': 1, 'https://biz.koke.kr/products/3020': 1, 'https://biz.koke.kr/products/3839': 1, 'https://biz.koke.kr/products/3503': 1, 'https://biz.koke.kr/products/3459': 1, 'https://biz.koke.kr/products/1311': 1, 'https://biz.koke.kr/products/1300': 1, 'https://biz.koke.kr/products/1063': 1, 'https://biz.koke.kr/products/1725': 1, 'https://biz.koke.kr/products/1504': 1, 'https://biz.koke.kr/products/1340': 1, 'https://biz.koke.kr/products/145': 1, 'https://biz.koke.kr/products/57': 1, 'https://biz.koke.kr/products/4874': 1, 'https://biz.koke.kr/products/227': 1, 'https://biz.koke.kr/products/193': 1, 'https://biz.koke.kr/products/186': 1, 'https://biz.koke.kr/products/4450': 1, 'https://biz.koke.kr/products/4332': 1, 'https://biz.koke.kr/products/4328': 1, 'https://biz.koke.kr/products/4817': 1, 'https://biz.koke.kr/products/4790': 1, 'https://biz.koke.kr/products/4604': 1, 'https://biz.koke.kr/products/3937': 1, 'https://biz.koke.kr/products/3935': 1, 'https://biz.koke.kr/products/3810': 1, 'https://biz.koke.kr/products/4153': 1, 'https://biz.koke.kr/products/4057': 1, 'https://biz.koke.kr/products/4004': 1, 'https://biz.koke.kr/products/3525': 1, 'https://biz.koke.kr/products/3487': 1, 'https://biz.koke.kr/products/3643': 1, 'https://biz.koke.kr/products/3609': 1, 'https://biz.koke.kr/products/3563': 1, 'https://biz.koke.kr/products/3141': 1, 'https://biz.koke.kr/products/3090': 1, 'https://biz.koke.kr/products/3075': 1, 'https://biz.koke.kr/products/3394': 1, 'https://biz.koke.kr/products/3218': 1, 'https://biz.koke.kr/products/3148': 1, 'https://biz.koke.kr/products/1589': 1, 'https://biz.koke.kr/products/1296': 1, 'https://biz.koke.kr/products/1210': 1, 'https://biz.koke.kr/products/3025': 1, 'https://biz.koke.kr/products/3013': 1, 'https://biz.koke.kr/products/1712': 1, 'https://biz.koke.kr/products/281': 1, 'https://biz.koke.kr/products/217': 1, 'https://biz.koke.kr/products/173': 1, 'https://biz.koke.kr/products/1205': 1, 'https://biz.koke.kr/products/1121': 1, 'https://biz.koke.kr/products/1086': 1, 'https://biz.koke.kr/products/18': 1, 'https://biz.koke.kr/products/1066': 1, 'https://biz.koke.kr/products/125': 1, 'https://biz.koke.kr/products/140': 1, 'https://biz.koke.kr/products/105': 1, 'https://biz.koke.kr/products/37': 1, 'https://biz.koke.kr/products/3930': 1, 'https://biz.koke.kr/products/272': 1, 'https://biz.koke.kr/products/4485': 1, 'https://biz.koke.kr/products/3015': 1, 'https://biz.koke.kr/products/3042': 1, 'https://biz.koke.kr/products/3984': 1, 'https://biz.koke.kr/products/3588': 1, 'https://biz.koke.kr/products/3444': 1, 'https://biz.koke.kr/products/3345': 1, 'https://biz.koke.kr/products/1341': 1, 'https://biz.koke.kr/products/276': 1, 'https://biz.koke.kr/products/1475': 1, 'https://biz.koke.kr/products/205': 1, 'https://biz.koke.kr/products/195': 1, 'https://biz.koke.kr/products/44': 1, 'https://biz.koke.kr/products/3055': 1, 'https://biz.koke.kr/products/1201': 1, 'https://biz.koke.kr/products/1012': 1, 'https://biz.koke.kr/products/4311': 1, 'https://biz.koke.kr/products/3150': 1, 'https://biz.koke.kr/products/1093': 1, 'https://biz.koke.kr/products/4698': 1, 'https://biz.koke.kr/products/4693': 1, 'https://biz.koke.kr/products/4613': 1, 'https://biz.koke.kr/products/4305': 1, 'https://biz.koke.kr/products/3900': 1, 'https://biz.koke.kr/products/3891': 1, 'https://biz.koke.kr/products/231': 1, 'https://biz.koke.kr/products/52': 1, 'https://biz.koke.kr/products/4306': 1, 'https://biz.koke.kr/products/3356': 1, 'https://biz.koke.kr/products/3198': 1, 'https://biz.koke.kr/products/3180': 1, 'https://biz.koke.kr/products/3514': 1, 'https://biz.koke.kr/products/3456': 1, 'https://biz.koke.kr/products/3438': 1, 'https://biz.koke.kr/products/1505': 1, 'https://biz.koke.kr/products/1047': 1, 'https://biz.koke.kr/products/266': 1, 'https://biz.koke.kr/products/2999': 1, 'https://biz.koke.kr/products/1734': 1, 'https://biz.koke.kr/products/1710': 1, 'https://biz.koke.kr/products/2': 1, 'https://biz.koke.kr/products/4877': 1, 'https://biz.koke.kr/products/4799': 1, 'https://biz.koke.kr/products/203': 1, 'https://biz.koke.kr/products/127': 1, 'https://biz.koke.kr/products/9': 1, 'https://biz.koke.kr/products/4674': 1, 'https://biz.koke.kr/products/4546': 1, 'https://biz.koke.kr/products/4482': 1, 'https://biz.koke.kr/products/4772': 1, 'https://biz.koke.kr/products/4736': 1, 'https://biz.koke.kr/products/4684': 1, 'https://biz.koke.kr/products/3946': 1, 'https://biz.koke.kr/products/3912': 1, 'https://biz.koke.kr/products/3836': 1, 'https://biz.koke.kr/products/4321': 1, 'https://biz.koke.kr/products/4122': 1, 'https://biz.koke.kr/products/4061': 1, 'https://biz.koke.kr/products/3725': 1, 'https://biz.koke.kr/products/3721': 1, 'https://biz.koke.kr/products/3617': 1, 'https://biz.koke.kr/products/3804': 1, 'https://biz.koke.kr/products/3801': 1, 'https://biz.koke.kr/products/3741': 1, 'https://biz.koke.kr/products/3392': 1, 'https://biz.koke.kr/products/3219': 1, 'https://biz.koke.kr/products/3153': 1, 'https://biz.koke.kr/products/3605': 1, 'https://biz.koke.kr/products/3561': 1, 'https://biz.koke.kr/products/3524': 1, 'https://biz.koke.kr/products/3010': 1, 'https://biz.koke.kr/products/3006': 1, 'https://biz.koke.kr/products/3142': 1, 'https://biz.koke.kr/products/3089': 1, 'https://biz.koke.kr/products/3071': 1, 'https://biz.koke.kr/products/1110': 1, 'https://biz.koke.kr/products/1107': 1, 'https://biz.koke.kr/products/1092': 1, 'https://biz.koke.kr/products/2993': 1, 'https://biz.koke.kr/products/1207': 1, 'https://biz.koke.kr/products/1120': 1, 'https://biz.koke.kr/products/1021': 1, 'https://biz.koke.kr/products/292': 1, 'https://biz.koke.kr/products/228': 1, 'https://biz.koke.kr/products/1083': 1, 'https://biz.koke.kr/products/1073': 1, 'https://biz.koke.kr/products/1043': 1, 'https://biz.koke.kr/products/1726': 1, 'https://biz.koke.kr/products/3333': 1, 'https://biz.koke.kr/products/3043': 1, 'https://biz.koke.kr/products/219': 1, 'https://biz.koke.kr/products/102': 1, 'https://biz.koke.kr/products/23': 1, 'https://biz.koke.kr/products/3603': 1, 'https://biz.koke.kr/products/1473': 1, 'https://biz.koke.kr/products/60': 1, 'https://biz.koke.kr/products/275': 1, 'https://biz.koke.kr/products/4487': 1, 'https://biz.koke.kr/products/3929': 1, 'https://biz.koke.kr/products/167': 1, 'https://biz.koke.kr/products/134': 1, 'https://biz.koke.kr/products/4823': 1, 'https://biz.koke.kr/products/3041': 1, 'https://biz.koke.kr/products/3029': 1, 'https://biz.koke.kr/products/1708': 1, 'https://biz.koke.kr/products/1336': 1, 'https://biz.koke.kr/products/1094': 1, 'https://biz.koke.kr/products/42': 1, 'https://biz.koke.kr/products/4706': 1, 'https://biz.koke.kr/products/4612': 1, 'https://biz.koke.kr/products/3065': 1, 'https://biz.koke.kr/products/4309': 1, 'https://biz.koke.kr/products/3505': 1, 'https://biz.koke.kr/products/191': 1, 'https://biz.koke.kr/products/4820': 1, 'https://biz.koke.kr/products/4694': 1, 'https://biz.koke.kr/products/4523': 1, 'https://biz.koke.kr/products/4870': 1, 'https://biz.koke.kr/products/4842': 1, 'https://biz.koke.kr/products/4826': 1, 'https://biz.koke.kr/products/146': 1, 'https://biz.koke.kr/products/116': 1, 'https://biz.koke.kr/products/4876': 1, 'https://biz.koke.kr/products/4683': 1, 'https://biz.koke.kr/products/4601': 1, 'https://biz.koke.kr/products/4483': 1, 'https://biz.koke.kr/products/4750': 1, 'https://biz.koke.kr/products/4737': 1, 'https://biz.koke.kr/products/4730': 1, 'https://biz.koke.kr/products/3898': 1, 'https://biz.koke.kr/products/3838': 1, 'https://biz.koke.kr/products/4448': 1, 'https://biz.koke.kr/products/4313': 1, 'https://biz.koke.kr/products/4056': 1, 'https://biz.koke.kr/products/3565': 1, 'https://biz.koke.kr/products/3555': 1, 'https://biz.koke.kr/products/3515': 1, 'https://biz.koke.kr/products/3707': 1, 'https://biz.koke.kr/products/3616': 1, 'https://biz.koke.kr/products/3607': 1, 'https://biz.koke.kr/products/3357': 1, 'https://biz.koke.kr/products/3223': 1, 'https://biz.koke.kr/products/3486': 1, 'https://biz.koke.kr/products/3462': 1, 'https://biz.koke.kr/products/3391': 1, 'https://biz.koke.kr/products/3021': 1, 'https://biz.koke.kr/products/2995': 1, 'https://biz.koke.kr/products/1722': 1, 'https://biz.koke.kr/products/3160': 1, 'https://biz.koke.kr/products/3152': 1, 'https://biz.koke.kr/products/3026': 1, 'https://biz.koke.kr/products/1108': 1, 'https://biz.koke.kr/products/1085': 1, 'https://biz.koke.kr/products/1046': 1, 'https://biz.koke.kr/products/1502': 1, 'https://biz.koke.kr/products/1494': 1, 'https://biz.koke.kr/products/1119': 1, 'https://biz.koke.kr/products/223': 1, 'https://biz.koke.kr/products/197': 1, 'https://biz.koke.kr/products/103': 1, 'https://biz.koke.kr/products/1013': 1, 'https://biz.koke.kr/products/291': 1, 'https://biz.koke.kr/products/280': 1, 'https://biz.koke.kr/products/3009': 1, 'https://biz.koke.kr/products/3058': 1, 'https://biz.koke.kr/products/1474': 1, 'https://biz.koke.kr/products/22': 1, 'https://biz.koke.kr/products/8': 1, 'https://biz.koke.kr/products/71': 1, 'https://biz.koke.kr/products/3395': 1, 'https://biz.koke.kr/products/3040': 1, 'https://biz.koke.kr/products/3005': 1, 'https://biz.koke.kr/products/3031': 1, 'https://biz.koke.kr/products/136': 1, 'https://biz.koke.kr/products/3584': 1, 'https://biz.koke.kr/products/4524': 1, 'https://biz.koke.kr/products/3892': 1, 'https://biz.koke.kr/products/3591': 1, 'https://biz.koke.kr/products/119': 1, 'https://biz.koke.kr/products/4716': 1, 'https://biz.koke.kr/products/4699': 1, 'https://biz.koke.kr/products/4840': 1, 'https://biz.koke.kr/products/4824': 1, 'https://biz.koke.kr/products/4692': 1, 'https://biz.koke.kr/products/3359': 1, 'https://biz.koke.kr/products/3070': 1, 'https://biz.koke.kr/products/56': 1, 'https://biz.koke.kr/products/4331': 1, 'https://biz.koke.kr/products/4316': 1, 'https://biz.koke.kr/products/3902': 1, 'https://biz.koke.kr/products/4570': 1, 'https://biz.koke.kr/products/4445': 1, 'https://biz.koke.kr/products/3557': 1, 'https://biz.koke.kr/products/3552': 1, 'https://biz.koke.kr/products/3460': 1, 'https://biz.koke.kr/products/3737': 1, 'https://biz.koke.kr/products/3705': 1, 'https://biz.koke.kr/products/3562': 1, 'https://biz.koke.kr/products/3194': 1, 'https://biz.koke.kr/products/3151': 1, 'https://biz.koke.kr/products/3022': 1, 'https://biz.koke.kr/products/3401': 1, 'https://biz.koke.kr/products/3393': 1, 'https://biz.koke.kr/products/3229': 1, 'https://biz.koke.kr/products/1016': 1, 'https://biz.koke.kr/products/225': 1, 'https://biz.koke.kr/products/218': 1, 'https://biz.koke.kr/products/2994': 1, 'https://biz.koke.kr/products/1737': 1, 'https://biz.koke.kr/products/1103': 1, 'https://biz.koke.kr/products/41': 1, 'https://biz.koke.kr/products/69': 1, 'https://biz.koke.kr/products/4760': 1, 'https://biz.koke.kr/products/190': 1, 'https://biz.koke.kr/products/174': 1, 'https://biz.koke.kr/products/124': 1, 'https://biz.koke.kr/products/3340': 1, 'https://biz.koke.kr/products/1479': 1, 'https://biz.koke.kr/products/118': 1, 'https://biz.koke.kr/products/3061': 1, 'https://biz.koke.kr/products/4426': 1, 'https://biz.koke.kr/products/4041': 1, 'https://biz.koke.kr/products/4310': 1, 'https://biz.koke.kr/products/3068': 1, 'https://biz.koke.kr/products/1723': 1, 'https://biz.koke.kr/products/4726': 1, 'https://biz.koke.kr/products/4702': 1, 'https://biz.koke.kr/products/4407': 1, 'https://biz.koke.kr/products/4449': 1, 'https://biz.koke.kr/products/4330': 1, 'https://biz.koke.kr/products/1024': 1, 'https://biz.koke.kr/products/188': 1, 'https://biz.koke.kr/products/3461': 1, 'https://biz.koke.kr/products/3406': 1, 'https://biz.koke.kr/products/3907': 1, 'https://biz.koke.kr/products/3899': 1, 'https://biz.koke.kr/products/1736': 1, 'https://biz.koke.kr/products/1471': 1, 'https://biz.koke.kr/products/1727': 1, 'https://biz.koke.kr/products/3195': 1, 'https://biz.koke.kr/products/3008': 1, 'https://biz.koke.kr/products/4522': 1, 'https://biz.koke.kr/products/4312': 1, 'https://biz.koke.kr/products/4785': 1, 'https://biz.koke.kr/products/4759': 1, 'https://biz.koke.kr/products/3585': 1, 'https://biz.koke.kr/products/135': 1, 'https://biz.koke.kr/products/4691': 1, 'https://biz.koke.kr/products/3027': 1, 'https://biz.koke.kr/products/1702': 1, 'https://biz.koke.kr/products/1025': 1, 'https://biz.koke.kr/products/3739': 1, 'https://biz.koke.kr/products/3601': 1, 'https://biz.koke.kr/products/4459': 1, 'https://biz.koke.kr/products/4016': 1, 'https://biz.koke.kr/products/3910': 1, 'https://biz.koke.kr/products/3072': 1, 'https://biz.koke.kr/products/1735': 1, 'https://biz.koke.kr/products/1714': 1, 'https://biz.koke.kr/products/3458': 1, 'https://biz.koke.kr/products/3232': 1, 'https://biz.koke.kr/products/3196': 1, 'https://biz.koke.kr/products/3590': 1, 'https://biz.koke.kr/products/3145': 1, 'https://biz.koke.kr/products/1470': 1, 'https://biz.koke.kr/products/1049': 1, 'https://biz.koke.kr/products/4837': 1, 'https://biz.koke.kr/products/4696': 1, 'https://biz.koke.kr/products/3447': 1, 'https://biz.koke.kr/products/3207': 1, 'https://biz.koke.kr/products/4447': 1, 'https://biz.koke.kr/products/3802': 1, 'https://biz.koke.kr/products/1332': 1, 'https://biz.koke.kr/products/1298': 1, 'https://biz.koke.kr/products/3583': 1, 'https://biz.koke.kr/products/3895': 1, 'https://biz.koke.kr/products/3740': 1, 'https://biz.koke.kr/products/4707': 1, 'https://biz.koke.kr/products/4600': 1, 'https://biz.koke.kr/products/4408': 1, 'https://biz.koke.kr/products/4776': 1, 'https://biz.koke.kr/products/4334': 1, 'https://biz.koke.kr/products/1292': 1, 'https://biz.koke.kr/products/82': 1, 'https://biz.koke.kr/products/3507': 1, 'https://biz.koke.kr/products/3450': 1, 'https://biz.koke.kr/products/83': 1, 'https://biz.koke.kr/products/4428': 1, 'https://biz.koke.kr/products/3911': 1, 'https://biz.koke.kr/products/3840': 1, 'https://biz.koke.kr/products/3896': 1, 'https://biz.koke.kr/products/3177': 1, 'https://biz.koke.kr/products/4767': 1, 'https://biz.koke.kr/products/4443': 1, 'https://biz.koke.kr/products/4010': 1, 'https://biz.koke.kr/products/4488': 1, 'https://biz.koke.kr/products/4015': 1, 'https://biz.koke.kr/products/1706': 1, 'https://biz.koke.kr/products/1331': 1, 'https://biz.koke.kr/products/4775': 1, 'https://biz.koke.kr/products/4429': 1, 'https://biz.koke.kr/products/4774': 1, 'https://biz.koke.kr/products/3586': 1, 'https://biz.koke.kr/products/117': 1, 'https://biz.koke.kr/products/4766': 1, 'https://biz.koke.kr/products/4427': 1, 'https://biz.koke.kr/products/4778': 1})\n"
     ]
    }
   ],
   "source": [
    "from collections import Counter\n",
    " \n",
    "# initializing list\n",
    "print ('The original list is : ',links[:5])\n",
    " \n",
    "# using Counter() + keys() to remove duplicated from list\n",
    "temp = Counter(links)\n",
    "res = [*temp]\n",
    "print(temp)\n",
    "# printing list after removal of duplicate\n",
    "# print('The list after removing duplicates :'\n",
    "#         ,res)"
   ]
  },
  {
   "cell_type": "code",
   "execution_count": 117,
   "metadata": {},
   "outputs": [
    {
     "data": {
      "text/plain": [
       "556"
      ]
     },
     "execution_count": 117,
     "metadata": {},
     "output_type": "execute_result"
    }
   ],
   "source": [
    "len(loaded_links)"
   ]
  },
  {
   "cell_type": "code",
   "execution_count": 31,
   "metadata": {},
   "outputs": [
    {
     "name": "stdout",
     "output_type": "stream",
     "text": [
      "4\n",
      "5\n"
     ]
    }
   ],
   "source": [
    "a = set(['1','4','1','5','2'])\n",
    "b = ['1','4','1','5','2']\n",
    "print(len(a))\n",
    "print(len(b))"
   ]
  },
  {
   "cell_type": "markdown",
   "metadata": {},
   "source": [
    "### 페이지간 이동 및 제품 선택\n",
    "https://biz.koke.kr/products?filters=%7B%22categoryGroup%22%3A%22WholeBean%22%7D&page=1\n",
    "- page 1 ~ 31\n",
    "- 18 links per page"
   ]
  },
  {
   "cell_type": "code",
   "execution_count": 92,
   "metadata": {},
   "outputs": [],
   "source": [
    "# prod_list = []\n",
    "# for i in range(1,19):\n",
    "#     driver.get('https://biz.koke.kr/products?filters=%7B%22categoryGroup%22%3A%22WholeBean%22%7D&page='+str(i))\n",
    "#     prod_links = driver.find_elements(By.CLASS_NAME, 'card-box')\n",
    "#     for k in range(len(prod_links)):\n",
    "#         prod_list.append(prod_links[1].get_attribute('href'))\n",
    "    \n",
    "# driver.close()"
   ]
  },
  {
   "cell_type": "markdown",
   "metadata": {},
   "source": [
    "<a class=\"card-box\" href=\"/products/1089\">"
   ]
  },
  {
   "cell_type": "markdown",
   "metadata": {},
   "source": [
    "***"
   ]
  },
  {
   "cell_type": "markdown",
   "metadata": {},
   "source": [
    "### 제품 페이지에서의 데이터 수집"
   ]
  },
  {
   "cell_type": "code",
   "execution_count": 131,
   "metadata": {},
   "outputs": [],
   "source": [
    "service = Service(path= './driver/chromedriver.exe')\n",
    "driver = webdriver.Chrome(service=service)\n",
    "# driver.get('https://biz.koke.kr/products/4801')"
   ]
  },
  {
   "cell_type": "code",
   "execution_count": 136,
   "metadata": {},
   "outputs": [
    {
     "ename": "KeyboardInterrupt",
     "evalue": "",
     "output_type": "error",
     "traceback": [
      "\u001b[1;31m---------------------------------------------------------------------------\u001b[0m",
      "\u001b[1;31mKeyboardInterrupt\u001b[0m                         Traceback (most recent call last)",
      "\u001b[1;32mc:\\Users\\Playdata\\Documents\\coffee_Proj\\CoffeeFeatures.ipynb 셀 18\u001b[0m line \u001b[0;36m4\n\u001b[0;32m      <a href='vscode-notebook-cell:/c%3A/Users/Playdata/Documents/coffee_Proj/CoffeeFeatures.ipynb#Y120sZmlsZQ%3D%3D?line=1'>2</a>\u001b[0m \u001b[39mfor\u001b[39;00m link \u001b[39min\u001b[39;00m loaded_links:\n\u001b[0;32m      <a href='vscode-notebook-cell:/c%3A/Users/Playdata/Documents/coffee_Proj/CoffeeFeatures.ipynb#Y120sZmlsZQ%3D%3D?line=2'>3</a>\u001b[0m     driver\u001b[39m.\u001b[39mget(link)\n\u001b[1;32m----> <a href='vscode-notebook-cell:/c%3A/Users/Playdata/Documents/coffee_Proj/CoffeeFeatures.ipynb#Y120sZmlsZQ%3D%3D?line=3'>4</a>\u001b[0m     time\u001b[39m.\u001b[39;49msleep(\u001b[39m3\u001b[39;49m)\n\u001b[0;32m      <a href='vscode-notebook-cell:/c%3A/Users/Playdata/Documents/coffee_Proj/CoffeeFeatures.ipynb#Y120sZmlsZQ%3D%3D?line=4'>5</a>\u001b[0m     raw \u001b[39m=\u001b[39m driver\u001b[39m.\u001b[39mfind_elements(By\u001b[39m.\u001b[39mCSS_SELECTOR,\u001b[39m\"\u001b[39m\u001b[39mdiv.flex.flex-col\u001b[39m\u001b[39m\"\u001b[39m)\n\u001b[0;32m      <a href='vscode-notebook-cell:/c%3A/Users/Playdata/Documents/coffee_Proj/CoffeeFeatures.ipynb#Y120sZmlsZQ%3D%3D?line=5'>6</a>\u001b[0m     coffee_name \u001b[39m=\u001b[39m raw[\u001b[39m0\u001b[39m]\u001b[39m.\u001b[39mfind_element(By\u001b[39m.\u001b[39mTAG_NAME,\u001b[39m'\u001b[39m\u001b[39mh1\u001b[39m\u001b[39m'\u001b[39m)\u001b[39m.\u001b[39mtext\n",
      "\u001b[1;31mKeyboardInterrupt\u001b[0m: "
     ]
    }
   ],
   "source": [
    "data = {}\n",
    "for link in loaded_links:\n",
    "    driver.get(link)\n",
    "    time.sleep(3)\n",
    "    raw = driver.find_elements(By.CSS_SELECTOR,\"div.flex.flex-col\")\n",
    "    coffee_name = raw[0].find_element(By.TAG_NAME,'h1').text\n",
    "    data['name'] = coffee_name\n",
    "driver.quit()"
   ]
  },
  {
   "cell_type": "code",
   "execution_count": null,
   "metadata": {},
   "outputs": [],
   "source": [
    "data"
   ]
  },
  {
   "cell_type": "code",
   "execution_count": 3,
   "metadata": {},
   "outputs": [
    {
     "name": "stdout",
     "output_type": "stream",
     "text": [
      "<selenium.webdriver.remote.webelement.WebElement (session=\"a4a78d5007fb97793e48f031db0a50a7\", element=\"453BBCA1B87EE2FE612B58EBEE74EF1A_element_4\")>\n",
      "바디감\n"
     ]
    }
   ],
   "source": [
    "# # Use Selenium to find the element by the provided CSS selector\n",
    "# elements = driver.find_element(By.XPATH, '/html/body/div[1]/div[4]/div/div[7]/div/div[1]/div/div/div[1]/ul/li[1]/div/div[1]/span')\n",
    "\n",
    "# print(elements)\n",
    "# print(elements.text)\n",
    "\n",
    "\n",
    "# # Close the browser\n",
    "# driver.quit()"
   ]
  },
  {
   "cell_type": "code",
   "execution_count": 22,
   "metadata": {},
   "outputs": [
    {
     "name": "stdout",
     "output_type": "stream",
     "text": [
      "[<selenium.webdriver.remote.webelement.WebElement (session=\"a2160951bf1446df88bf68113c722771\", element=\"DA5A36F4D1EFA01DC53CE227FF884B3E_element_3\")>, <selenium.webdriver.remote.webelement.WebElement (session=\"a2160951bf1446df88bf68113c722771\", element=\"DA5A36F4D1EFA01DC53CE227FF884B3E_element_4\")>, <selenium.webdriver.remote.webelement.WebElement (session=\"a2160951bf1446df88bf68113c722771\", element=\"DA5A36F4D1EFA01DC53CE227FF884B3E_element_5\")>, <selenium.webdriver.remote.webelement.WebElement (session=\"a2160951bf1446df88bf68113c722771\", element=\"DA5A36F4D1EFA01DC53CE227FF884B3E_element_6\")>]\n",
      "바디감\n",
      "신맛\n",
      "단맛\n",
      "쓴맛\n"
     ]
    }
   ],
   "source": [
    "# Use Selenium to find the element by the provided CSS selector\n",
    "elements = driver.find_elements(By.CSS_SELECTOR, 'div.w-16.mr-dist-sm')\n",
    "\n",
    "for i in range(len(elements)):\n",
    "    print(elements[i].text)\n",
    "\n",
    "\n",
    "# Close the browser\n",
    "driver.quit()"
   ]
  },
  {
   "cell_type": "code",
   "execution_count": 3,
   "metadata": {},
   "outputs": [],
   "source": [
    "service = Service(path= './driver/chromedriver.exe')\n",
    "driver = webdriver.Chrome(service=service)\n",
    "driver.get('https://biz.koke.kr/products/4801')"
   ]
  },
  {
   "cell_type": "code",
   "execution_count": 5,
   "metadata": {},
   "outputs": [
    {
     "name": "stdout",
     "output_type": "stream",
     "text": [
      "4\n"
     ]
    },
    {
     "data": {
      "text/plain": [
       "'<div class=\"w-full h-full border-white border-r last:border-none bg-koke-green bg-opacity-30\"></div><div class=\"w-full h-full border-white border-r last:border-none bg-koke-green bg-opacity-30\"></div><div class=\"w-full h-full border-white border-r last:border-none bg-koke-green bg-opacity-30\"></div><div class=\"w-full h-full border-white border-r last:border-none bg-koke-green\"></div><div class=\"w-full h-full border-white border-r last:border-none bg-koke-green bg-opacity-30\"></div>'"
      ]
     },
     "execution_count": 5,
     "metadata": {},
     "output_type": "execute_result"
    }
   ],
   "source": [
    "temp = driver.find_elements(By.CSS_SELECTOR,'div.flex.justify-between.w-full.h-2\\.5.overflow-hidden.rounded-full')\n",
    "print(len(temp))\n",
    "temp[0].get_attribute('innerHTML')"
   ]
  },
  {
   "cell_type": "code",
   "execution_count": 12,
   "metadata": {},
   "outputs": [],
   "source": [
    "html = temp[3].get_attribute('innerHTML')"
   ]
  },
  {
   "cell_type": "code",
   "execution_count": 13,
   "metadata": {},
   "outputs": [
    {
     "name": "stdout",
     "output_type": "stream",
     "text": [
      "The element without 'bg-opacity-30' class is at position 1/5\n"
     ]
    }
   ],
   "source": [
    "# Parse the HTML content\n",
    "soup = BeautifulSoup(html, 'html.parser')\n",
    "\n",
    "# Find all div elements without the 'bg-opacity-30' class\n",
    "divs_without_opacity_30 = [div for div in soup.find_all('div', class_='bg-koke-green') if 'bg-opacity-30' not in div.get('class')]\n",
    "\n",
    "# Total number of blocks\n",
    "total_blocks = 5\n",
    "\n",
    "# Initialize position (n) to None\n",
    "position = None\n",
    "\n",
    "# Check if there are any elements without the 'bg-opacity-30' class\n",
    "if divs_without_opacity_30:\n",
    "    # Get the index of the first element (0-based) and add 1 to get the position (1-based)\n",
    "    position = divs_without_opacity_30[0].find_parent().find_all('div', class_='bg-koke-green').index(divs_without_opacity_30[0]) + 1\n",
    "\n",
    "print(f\"The element without 'bg-opacity-30' class is at position {position}/{total_blocks}\")\n"
   ]
  },
  {
   "cell_type": "code",
   "execution_count": 14,
   "metadata": {},
   "outputs": [],
   "source": [
    "driver.quit()"
   ]
  },
  {
   "cell_type": "markdown",
   "metadata": {},
   "source": [
    "나머지 특징"
   ]
  },
  {
   "cell_type": "code",
   "execution_count": 41,
   "metadata": {},
   "outputs": [],
   "source": [
    "service = Service(path= './driver/chromedriver.exe')\n",
    "driver = webdriver.Chrome(service=service)\n",
    "driver.get('https://biz.koke.kr/products/3928')"
   ]
  },
  {
   "cell_type": "code",
   "execution_count": 28,
   "metadata": {},
   "outputs": [
    {
     "data": {
      "text/plain": [
       "['블렌드', '미디엄다크']"
      ]
     },
     "execution_count": 28,
     "metadata": {},
     "output_type": "execute_result"
    }
   ],
   "source": [
    "elements = driver.find_elements(By.CSS_SELECTOR, 'li.lg\\:block')\n",
    "\n",
    "#print(elements)\n",
    "#print(len(elements))\n",
    "# print(elements.text)\n",
    "\n",
    "result = []\n",
    "for i in range(len(elements)):\n",
    "    html = elements[i].get_attribute('innerHTML')\n",
    "    # Parse the HTML content\n",
    "    soup = BeautifulSoup(html, 'html.parser')\n",
    "    \n",
    "    if soup.find_all('svg', 'hidden'):\n",
    "        result.append(elements[i].text)\n",
    "result"
   ]
  },
  {
   "cell_type": "code",
   "execution_count": 6,
   "metadata": {},
   "outputs": [],
   "source": [
    "element = driver.find_element(By.CSS_SELECTOR, 'li.lg\\:block')"
   ]
  },
  {
   "cell_type": "code",
   "execution_count": 33,
   "metadata": {},
   "outputs": [],
   "source": [
    "te = {'type':'블렌드', 'a':'mid'}"
   ]
  },
  {
   "cell_type": "code",
   "execution_count": 31,
   "metadata": {},
   "outputs": [
    {
     "data": {
      "text/plain": [
       "2"
      ]
     },
     "execution_count": 31,
     "metadata": {},
     "output_type": "execute_result"
    }
   ],
   "source": [
    "len(te)"
   ]
  },
  {
   "cell_type": "code",
   "execution_count": 38,
   "metadata": {},
   "outputs": [
    {
     "data": {
      "text/plain": [
       "['type', 'a']"
      ]
     },
     "execution_count": 38,
     "metadata": {},
     "output_type": "execute_result"
    }
   ],
   "source": [
    "list(te.keys())"
   ]
  },
  {
   "cell_type": "code",
   "execution_count": 42,
   "metadata": {},
   "outputs": [
    {
     "ename": "NoSuchElementException",
     "evalue": "Message: no such element: Unable to locate element: {\"method\":\"css selector\",\"selector\":\"li.tracking-wide.koke-word-keep-all\"}\n  (Session info: chrome=118.0.5993.71); For documentation on this error, please visit: https://www.selenium.dev/documentation/webdriver/troubleshooting/errors#no-such-element-exception\nStacktrace:\n\tGetHandleVerifier [0x00007FF6F5518EF2+54786]\n\t(No symbol) [0x00007FF6F5485612]\n\t(No symbol) [0x00007FF6F533A64B]\n\t(No symbol) [0x00007FF6F537B79C]\n\t(No symbol) [0x00007FF6F537B91C]\n\t(No symbol) [0x00007FF6F53B6D87]\n\t(No symbol) [0x00007FF6F539BEAF]\n\t(No symbol) [0x00007FF6F53B4D02]\n\t(No symbol) [0x00007FF6F539BC43]\n\t(No symbol) [0x00007FF6F5370941]\n\t(No symbol) [0x00007FF6F5371B84]\n\tGetHandleVerifier [0x00007FF6F5867F52+3524194]\n\tGetHandleVerifier [0x00007FF6F58BD800+3874576]\n\tGetHandleVerifier [0x00007FF6F58B5D7F+3843215]\n\tGetHandleVerifier [0x00007FF6F55B5086+694166]\n\t(No symbol) [0x00007FF6F5490A88]\n\t(No symbol) [0x00007FF6F548CA94]\n\t(No symbol) [0x00007FF6F548CBC2]\n\t(No symbol) [0x00007FF6F547CC83]\n\tBaseThreadInitThunk [0x00007FFDC20C7344+20]\n\tRtlUserThreadStart [0x00007FFDC23426B1+33]\n",
     "output_type": "error",
     "traceback": [
      "\u001b[1;31m---------------------------------------------------------------------------\u001b[0m",
      "\u001b[1;31mNoSuchElementException\u001b[0m                    Traceback (most recent call last)",
      "\u001b[1;32mc:\\Users\\Playdata\\Documents\\coffee_Proj\\CoffeeFeatures_test.ipynb 셀 34\u001b[0m line \u001b[0;36m1\n\u001b[1;32m----> <a href='vscode-notebook-cell:/c%3A/Users/Playdata/Documents/coffee_Proj/CoffeeFeatures_test.ipynb#X46sZmlsZQ%3D%3D?line=0'>1</a>\u001b[0m element \u001b[39m=\u001b[39m driver\u001b[39m.\u001b[39;49mfind_element(By\u001b[39m.\u001b[39;49mCSS_SELECTOR, \u001b[39m'\u001b[39;49m\u001b[39mli.tracking-wide.koke-word-keep-all\u001b[39;49m\u001b[39m'\u001b[39;49m)\n",
      "File \u001b[1;32mc:\\venvs\\coffee\\lib\\site-packages\\selenium\\webdriver\\remote\\webdriver.py:738\u001b[0m, in \u001b[0;36mWebDriver.find_element\u001b[1;34m(self, by, value)\u001b[0m\n\u001b[0;32m    735\u001b[0m     by \u001b[39m=\u001b[39m By\u001b[39m.\u001b[39mCSS_SELECTOR\n\u001b[0;32m    736\u001b[0m     value \u001b[39m=\u001b[39m \u001b[39mf\u001b[39m\u001b[39m'\u001b[39m\u001b[39m[name=\u001b[39m\u001b[39m\"\u001b[39m\u001b[39m{\u001b[39;00mvalue\u001b[39m}\u001b[39;00m\u001b[39m\"\u001b[39m\u001b[39m]\u001b[39m\u001b[39m'\u001b[39m\n\u001b[1;32m--> 738\u001b[0m \u001b[39mreturn\u001b[39;00m \u001b[39mself\u001b[39;49m\u001b[39m.\u001b[39;49mexecute(Command\u001b[39m.\u001b[39;49mFIND_ELEMENT, {\u001b[39m\"\u001b[39;49m\u001b[39musing\u001b[39;49m\u001b[39m\"\u001b[39;49m: by, \u001b[39m\"\u001b[39;49m\u001b[39mvalue\u001b[39;49m\u001b[39m\"\u001b[39;49m: value})[\u001b[39m\"\u001b[39m\u001b[39mvalue\u001b[39m\u001b[39m\"\u001b[39m]\n",
      "File \u001b[1;32mc:\\venvs\\coffee\\lib\\site-packages\\selenium\\webdriver\\remote\\webdriver.py:344\u001b[0m, in \u001b[0;36mWebDriver.execute\u001b[1;34m(self, driver_command, params)\u001b[0m\n\u001b[0;32m    342\u001b[0m response \u001b[39m=\u001b[39m \u001b[39mself\u001b[39m\u001b[39m.\u001b[39mcommand_executor\u001b[39m.\u001b[39mexecute(driver_command, params)\n\u001b[0;32m    343\u001b[0m \u001b[39mif\u001b[39;00m response:\n\u001b[1;32m--> 344\u001b[0m     \u001b[39mself\u001b[39;49m\u001b[39m.\u001b[39;49merror_handler\u001b[39m.\u001b[39;49mcheck_response(response)\n\u001b[0;32m    345\u001b[0m     response[\u001b[39m\"\u001b[39m\u001b[39mvalue\u001b[39m\u001b[39m\"\u001b[39m] \u001b[39m=\u001b[39m \u001b[39mself\u001b[39m\u001b[39m.\u001b[39m_unwrap_value(response\u001b[39m.\u001b[39mget(\u001b[39m\"\u001b[39m\u001b[39mvalue\u001b[39m\u001b[39m\"\u001b[39m, \u001b[39mNone\u001b[39;00m))\n\u001b[0;32m    346\u001b[0m     \u001b[39mreturn\u001b[39;00m response\n",
      "File \u001b[1;32mc:\\venvs\\coffee\\lib\\site-packages\\selenium\\webdriver\\remote\\errorhandler.py:229\u001b[0m, in \u001b[0;36mErrorHandler.check_response\u001b[1;34m(self, response)\u001b[0m\n\u001b[0;32m    227\u001b[0m         alert_text \u001b[39m=\u001b[39m value[\u001b[39m\"\u001b[39m\u001b[39malert\u001b[39m\u001b[39m\"\u001b[39m]\u001b[39m.\u001b[39mget(\u001b[39m\"\u001b[39m\u001b[39mtext\u001b[39m\u001b[39m\"\u001b[39m)\n\u001b[0;32m    228\u001b[0m     \u001b[39mraise\u001b[39;00m exception_class(message, screen, stacktrace, alert_text)  \u001b[39m# type: ignore[call-arg]  # mypy is not smart enough here\u001b[39;00m\n\u001b[1;32m--> 229\u001b[0m \u001b[39mraise\u001b[39;00m exception_class(message, screen, stacktrace)\n",
      "\u001b[1;31mNoSuchElementException\u001b[0m: Message: no such element: Unable to locate element: {\"method\":\"css selector\",\"selector\":\"li.tracking-wide.koke-word-keep-all\"}\n  (Session info: chrome=118.0.5993.71); For documentation on this error, please visit: https://www.selenium.dev/documentation/webdriver/troubleshooting/errors#no-such-element-exception\nStacktrace:\n\tGetHandleVerifier [0x00007FF6F5518EF2+54786]\n\t(No symbol) [0x00007FF6F5485612]\n\t(No symbol) [0x00007FF6F533A64B]\n\t(No symbol) [0x00007FF6F537B79C]\n\t(No symbol) [0x00007FF6F537B91C]\n\t(No symbol) [0x00007FF6F53B6D87]\n\t(No symbol) [0x00007FF6F539BEAF]\n\t(No symbol) [0x00007FF6F53B4D02]\n\t(No symbol) [0x00007FF6F539BC43]\n\t(No symbol) [0x00007FF6F5370941]\n\t(No symbol) [0x00007FF6F5371B84]\n\tGetHandleVerifier [0x00007FF6F5867F52+3524194]\n\tGetHandleVerifier [0x00007FF6F58BD800+3874576]\n\tGetHandleVerifier [0x00007FF6F58B5D7F+3843215]\n\tGetHandleVerifier [0x00007FF6F55B5086+694166]\n\t(No symbol) [0x00007FF6F5490A88]\n\t(No symbol) [0x00007FF6F548CA94]\n\t(No symbol) [0x00007FF6F548CBC2]\n\t(No symbol) [0x00007FF6F547CC83]\n\tBaseThreadInitThunk [0x00007FFDC20C7344+20]\n\tRtlUserThreadStart [0x00007FFDC23426B1+33]\n"
     ]
    }
   ],
   "source": [
    "element = driver.find_element(By.CSS_SELECTOR, 'li.tracking-wide.koke-word-keep-all')"
   ]
  },
  {
   "cell_type": "code",
   "execution_count": 40,
   "metadata": {},
   "outputs": [
    {
     "data": {
      "text/plain": [
       "'견과류, 옥수수, 긴 여운'"
      ]
     },
     "execution_count": 40,
     "metadata": {},
     "output_type": "execute_result"
    }
   ],
   "source": [
    "element.text"
   ]
  },
  {
   "cell_type": "code",
   "execution_count": 53,
   "metadata": {},
   "outputs": [
    {
     "data": {
      "text/plain": [
       "0"
      ]
     },
     "execution_count": 53,
     "metadata": {},
     "output_type": "execute_result"
    }
   ],
   "source": [
    "data = {}\n",
    "data['test'] = {'컵 노트':0}\n",
    "data['test']['컵 노트']"
   ]
  },
  {
   "cell_type": "code",
   "execution_count": 54,
   "metadata": {},
   "outputs": [
    {
     "data": {
      "text/plain": [
       "{'test': {'컵 노트': '-'}}"
      ]
     },
     "execution_count": 54,
     "metadata": {},
     "output_type": "execute_result"
    }
   ],
   "source": [
    "try:\n",
    "    notes = driver.find_element(By.CSS_SELECTOR, 'li.tracking-wide.koke-word-keep-all')\n",
    "    data['test']['컵 노트'] = notes\n",
    "except:\n",
    "    data['test']['컵 노트'] = '-'          \n",
    "\n",
    "data"
   ]
  },
  {
   "cell_type": "markdown",
   "metadata": {},
   "source": [
    "***"
   ]
  },
  {
   "cell_type": "code",
   "execution_count": null,
   "metadata": {},
   "outputs": [],
   "source": [
    "tab = driver.find_element(By.CSS_SELECTOR, 'dl.grid.bg-white.border-t.lg\\:grid-cols-2')\n",
    "len(tab)"
   ]
  },
  {
   "cell_type": "code",
   "execution_count": null,
   "metadata": {},
   "outputs": [],
   "source": [
    "html = tab.get_attribute('innerHTML')\n",
    "\n",
    "# Parse the HTML content\n",
    "soup = BeautifulSoup(html, 'html.parser')"
   ]
  },
  {
   "cell_type": "code",
   "execution_count": null,
   "metadata": {},
   "outputs": [],
   "source": [
    "info = soup.find_all(\"dl\", {'class':'attributes dl-horizontal'})\n",
    "info"
   ]
  },
  {
   "cell_type": "code",
   "execution_count": null,
   "metadata": {},
   "outputs": [],
   "source": [
    "\n",
    "comp_info = pd.DataFrame()\n",
    "cleaned_id_text = []\n",
    "for i in info[0].find_all('dt'):\n",
    "    cleaned_id_text.append(i.text)\n",
    "cleaned_id__attrb_text = []\n",
    "for i in info[0].find_all('dd'):\n",
    "    cleaned_id__attrb_text.append(i.text)\n",
    "\n",
    "comp_info['Id'] = cleaned_id_text\n",
    "comp_info['Attribute'] = cleaned_id__attrb_text\n",
    "comp_info"
   ]
  },
  {
   "cell_type": "markdown",
   "metadata": {},
   "source": [
    "***"
   ]
  },
  {
   "cell_type": "code",
   "execution_count": null,
   "metadata": {},
   "outputs": [],
   "source": [
    "service = Service(path= './driver/chromedriver.exe')\n",
    "driver = webdriver.Chrome(service=service)\n",
    "driver.get('https://biz.koke.kr/products/3928')\n",
    "time.sleep(3)\n",
    "\n",
    "raw = driver.find_elements(By.CSS_SELECTOR,\"dl.grid.bg-white.border-t.lg\\:grid-cols-2\")\n",
    "tab_dt = raw.find_elements(By.TAG_NAME,'dt')\n",
    "tab_dd = raw.find_elements(By.TAG_NAME, 'dd')\n"
   ]
  },
  {
   "cell_type": "code",
   "execution_count": null,
   "metadata": {},
   "outputs": [],
   "source": [
    "\n",
    "dt_ls = []\n",
    "for i in len(tab_dt):\n",
    "    dt_ls.append(tab_dt[i].text)\n",
    "dd_ls = []\n",
    "for i in len(tab_dd):\n",
    "    dt_ls.append(tab_dd[i].text)\n",
    "    \n",
    "print(dt_ls, dd_ls)"
   ]
  },
  {
   "cell_type": "code",
   "execution_count": 2,
   "metadata": {},
   "outputs": [
    {
     "data": {
      "text/plain": [
       "['https://biz.koke.kr/products/4819',\n",
       " 'https://biz.koke.kr/products/4605',\n",
       " 'https://biz.koke.kr/products/3605']"
      ]
     },
     "execution_count": 2,
     "metadata": {},
     "output_type": "execute_result"
    }
   ],
   "source": [
    "import re\n",
    "import pickle\n",
    "# Load the set of links from the file\n",
    "with open(\"links.pkl\", \"rb\") as file:\n",
    "    loaded_links = pickle.load(file)\n",
    "    \n",
    "links_list = list(loaded_links)\n",
    "# Sample list of links\n",
    "# links = [\n",
    "#     \"https://biz.koke.kr/products/123\",\n",
    "#     \"https://biz.koke.kr/products/456\",\n",
    "#     \"https://biz.koke.kr/products/789\"\n",
    "# ]\n",
    "links = links_list[:3]\n",
    "links"
   ]
  },
  {
   "cell_type": "code",
   "execution_count": 4,
   "metadata": {},
   "outputs": [
    {
     "name": "stdout",
     "output_type": "stream",
     "text": [
      "Product Number: 4819\n",
      "Product Number: 4605\n",
      "Product Number: 3605\n",
      "Product Number: 1016\n",
      "Product Number: 4820\n",
      "Product Number: 3447\n",
      "Product Number: 1201\n",
      "Product Number: 5\n",
      "Product Number: 3404\n",
      "Product Number: 3017\n",
      "Product Number: 3508\n",
      "Product Number: 3936\n",
      "Product Number: 56\n",
      "Product Number: 3557\n",
      "Product Number: 3067\n",
      "Product Number: 3043\n",
      "Product Number: 103\n",
      "Product Number: 3391\n",
      "Product Number: 3150\n",
      "Product Number: 3586\n",
      "Product Number: 4674\n",
      "Product Number: 4311\n",
      "Product Number: 3433\n",
      "Product Number: 3148\n",
      "Product Number: 3737\n",
      "Product Number: 3005\n",
      "Product Number: 3588\n",
      "Product Number: 4599\n",
      "Product Number: 3064\n",
      "Product Number: 1331\n",
      "Product Number: 3195\n",
      "Product Number: 224\n",
      "Product Number: 19\n",
      "Product Number: 4486\n",
      "Product Number: 272\n",
      "Product Number: 1089\n",
      "Product Number: 4004\n",
      "Product Number: 3721\n",
      "Product Number: 1013\n",
      "Product Number: 4445\n",
      "Product Number: 2\n",
      "Product Number: 3042\n",
      "Product Number: 4707\n",
      "Product Number: 3963\n",
      "Product Number: 3161\n",
      "Product Number: 4546\n",
      "Product Number: 135\n",
      "Product Number: 3027\n",
      "Product Number: 3738\n",
      "Product Number: 3525\n",
      "Product Number: 3011\n",
      "Product Number: 4458\n",
      "Product Number: 4730\n",
      "Product Number: 1725\n",
      "Product Number: 276\n",
      "Product Number: 110\n",
      "Product Number: 1024\n",
      "Product Number: 1022\n",
      "Product Number: 83\n",
      "Product Number: 118\n",
      "Product Number: 43\n",
      "Product Number: 280\n",
      "Product Number: 3914\n",
      "Product Number: 4842\n",
      "Product Number: 3837\n",
      "Product Number: 291\n",
      "Product Number: 1083\n",
      "Product Number: 4716\n",
      "Product Number: 232\n",
      "Product Number: 3897\n",
      "Product Number: 3218\n",
      "Product Number: 1209\n",
      "Product Number: 3221\n",
      "Product Number: 4799\n",
      "Product Number: 125\n",
      "Product Number: 3607\n",
      "Product Number: 3602\n",
      "Product Number: 3444\n",
      "Product Number: 1502\n",
      "Product Number: 4052\n",
      "Product Number: 3438\n",
      "Product Number: 3584\n",
      "Product Number: 1477\n",
      "Product Number: 3515\n",
      "Product Number: 3152\n",
      "Product Number: 1573\n",
      "Product Number: 52\n",
      "Product Number: 3020\n",
      "Product Number: 188\n",
      "Product Number: 3\n",
      "Product Number: 4612\n",
      "Product Number: 4702\n",
      "Product Number: 1092\n",
      "Product Number: 3006\n",
      "Product Number: 3008\n",
      "Product Number: 4153\n",
      "Product Number: 3937\n",
      "Product Number: 3725\n",
      "Product Number: 3147\n",
      "Product Number: 4839\n",
      "Product Number: 4312\n",
      "Product Number: 4488\n",
      "Product Number: 1343\n",
      "Product Number: 3217\n",
      "Product Number: 53\n",
      "Product Number: 4061\n",
      "Product Number: 1722\n",
      "Product Number: 3072\n",
      "Product Number: 4772\n",
      "Product Number: 3009\n",
      "Product Number: 4801\n",
      "Product Number: 4332\n",
      "Product Number: 3018\n",
      "Product Number: 3802\n",
      "Product Number: 3840\n",
      "Product Number: 4570\n",
      "Product Number: 3392\n",
      "Product Number: 3583\n",
      "Product Number: 3068\n",
      "Product Number: 3357\n",
      "Product Number: 74\n",
      "Product Number: 36\n",
      "Product Number: 4837\n",
      "Product Number: 3084\n",
      "Product Number: 3030\n",
      "Product Number: 4682\n",
      "Product Number: 1041\n",
      "Product Number: 4790\n",
      "Product Number: 54\n",
      "Product Number: 3197\n",
      "Product Number: 71\n",
      "Product Number: 3462\n",
      "Product Number: 4524\n",
      "Product Number: 3457\n",
      "Product Number: 1495\n",
      "Product Number: 1340\n",
      "Product Number: 4449\n",
      "Product Number: 3722\n",
      "Product Number: 3177\n",
      "Product Number: 4122\n",
      "Product Number: 9\n",
      "Product Number: 3214\n",
      "Product Number: 1026\n",
      "Product Number: 281\n",
      "Product Number: 4701\n",
      "Product Number: 4823\n",
      "Product Number: 1708\n",
      "Product Number: 1341\n",
      "Product Number: 1474\n",
      "Product Number: 4698\n",
      "Product Number: 4017\n",
      "Product Number: 3394\n",
      "Product Number: 1025\n",
      "Product Number: 124\n",
      "Product Number: 3706\n",
      "Product Number: 3406\n",
      "Product Number: 225\n",
      "Product Number: 4428\n",
      "Product Number: 117\n",
      "Product Number: 3561\n",
      "Product Number: 3609\n",
      "Product Number: 4686\n",
      "Product Number: 1296\n",
      "Product Number: 4717\n",
      "Product Number: 4766\n",
      "Product Number: 1298\n",
      "Product Number: 4750\n",
      "Product Number: 3199\n",
      "Product Number: 1055\n",
      "Product Number: 3198\n",
      "Product Number: 3160\n",
      "Product Number: 70\n",
      "Product Number: 51\n",
      "Product Number: 4310\n",
      "Product Number: 3946\n",
      "Product Number: 1505\n",
      "Product Number: 3244\n",
      "Product Number: 1731\n",
      "Product Number: 3205\n",
      "Product Number: 1476\n",
      "Product Number: 4485\n",
      "Product Number: 22\n",
      "Product Number: 3075\n",
      "Product Number: 2999\n",
      "Product Number: 3046\n",
      "Product Number: 1002\n",
      "Product Number: 3010\n",
      "Product Number: 274\n",
      "Product Number: 1311\n",
      "Product Number: 3555\n",
      "Product Number: 4775\n",
      "Product Number: 140\n",
      "Product Number: 4817\n",
      "Product Number: 3707\n",
      "Product Number: 4705\n",
      "Product Number: 4305\n",
      "Product Number: 4008\n",
      "Product Number: 1108\n",
      "Product Number: 1316\n",
      "Product Number: 104\n",
      "Product Number: 3643\n",
      "Product Number: 167\n",
      "Product Number: 1119\n",
      "Product Number: 3841\n",
      "Product Number: 4760\n",
      "Product Number: 1726\n",
      "Product Number: 1727\n",
      "Product Number: 4826\n",
      "Product Number: 1093\n",
      "Product Number: 4818\n",
      "Product Number: 1088\n",
      "Product Number: 1504\n",
      "Product Number: 4429\n",
      "Product Number: 3601\n",
      "Product Number: 3369\n",
      "Product Number: 105\n",
      "Product Number: 1478\n",
      "Product Number: 3047\n",
      "Product Number: 4800\n",
      "Product Number: 3896\n",
      "Product Number: 41\n",
      "Product Number: 4802\n",
      "Product Number: 3232\n",
      "Product Number: 4797\n",
      "Product Number: 3836\n",
      "Product Number: 12\n",
      "Product Number: 120\n",
      "Product Number: 3801\n",
      "Product Number: 1038\n",
      "Product Number: 3359\n",
      "Product Number: 4767\n",
      "Product Number: 4014\n",
      "Product Number: 1012\n",
      "Product Number: 3390\n",
      "Product Number: 3241\n",
      "Product Number: 1018\n",
      "Product Number: 3089\n",
      "Product Number: 3157\n",
      "Product Number: 1712\n",
      "Product Number: 3024\n",
      "Product Number: 1710\n",
      "Product Number: 3487\n",
      "Product Number: 18\n",
      "Product Number: 3900\n",
      "Product Number: 3565\n",
      "Product Number: 3899\n",
      "Product Number: 4446\n",
      "Product Number: 1479\n",
      "Product Number: 4776\n",
      "Product Number: 191\n",
      "Product Number: 1737\n",
      "Product Number: 1589\n",
      "Product Number: 3461\n",
      "Product Number: 1017\n",
      "Product Number: 217\n",
      "Product Number: 4041\n",
      "Product Number: 4408\n",
      "Product Number: 4321\n",
      "Product Number: 3333\n",
      "Product Number: 275\n",
      "Product Number: 1470\n",
      "Product Number: 4057\n",
      "Product Number: 3526\n",
      "Product Number: 4694\n",
      "Product Number: 3617\n",
      "Product Number: 4785\n",
      "Product Number: 1702\n",
      "Product Number: 4450\n",
      "Product Number: 4774\n",
      "Product Number: 1101\n",
      "Product Number: 4778\n",
      "Product Number: 1001\n",
      "Product Number: 3587\n",
      "Product Number: 4316\n",
      "Product Number: 4172\n",
      "Product Number: 3912\n",
      "Product Number: 4309\n",
      "Product Number: 3460\n",
      "Product Number: 113\n",
      "Product Number: 4683\n",
      "Product Number: 4328\n",
      "Product Number: 3016\n",
      "Product Number: 1104\n",
      "Product Number: 3071\n",
      "Product Number: 3402\n",
      "Product Number: 3901\n",
      "Product Number: 3040\n",
      "Product Number: 3458\n",
      "Product Number: 3200\n",
      "Product Number: 4306\n",
      "Product Number: 3014\n",
      "Product Number: 218\n",
      "Product Number: 3898\n",
      "Product Number: 3516\n",
      "Product Number: 194\n",
      "Product Number: 4736\n",
      "Product Number: 1120\n",
      "Product Number: 4427\n",
      "Product Number: 82\n",
      "Product Number: 3804\n",
      "Product Number: 4759\n",
      "Product Number: 145\n",
      "Product Number: 1046\n",
      "Product Number: 3585\n",
      "Product Number: 4459\n",
      "Product Number: 2992\n",
      "Product Number: 3984\n",
      "Product Number: 4614\n",
      "Product Number: 1103\n",
      "Product Number: 3894\n",
      "Product Number: 1063\n",
      "Product Number: 3591\n",
      "Product Number: 196\n",
      "Product Number: 3563\n",
      "Product Number: 3012\n",
      "Product Number: 2998\n",
      "Product Number: 1047\n",
      "Product Number: 3911\n",
      "Product Number: 13\n",
      "Product Number: 168\n",
      "Product Number: 4697\n",
      "Product Number: 3741\n",
      "Product Number: 4487\n",
      "Product Number: 228\n",
      "Product Number: 4840\n",
      "Product Number: 223\n",
      "Product Number: 1342\n",
      "Product Number: 4600\n",
      "Product Number: 1332\n",
      "Product Number: 3910\n",
      "Product Number: 42\n",
      "Product Number: 3895\n",
      "Product Number: 3206\n",
      "Product Number: 3061\n",
      "Product Number: 3556\n",
      "Product Number: 4726\n",
      "Product Number: 1118\n",
      "Product Number: 3562\n",
      "Product Number: 4331\n",
      "Product Number: 4613\n",
      "Product Number: 55\n",
      "Product Number: 4220\n",
      "Product Number: 1205\n",
      "Product Number: 197\n",
      "Product Number: 4448\n",
      "Product Number: 4334\n",
      "Product Number: 4010\n",
      "Product Number: 3180\n",
      "Product Number: 3736\n",
      "Product Number: 57\n",
      "Product Number: 4684\n",
      "Product Number: 3450\n",
      "Product Number: 60\n",
      "Product Number: 1723\n",
      "Product Number: 4601\n",
      "Product Number: 3070\n",
      "Product Number: 146\n",
      "Product Number: 3196\n",
      "Product Number: 186\n",
      "Product Number: 1714\n",
      "Product Number: 4407\n",
      "Product Number: 3223\n",
      "Product Number: 4689\n",
      "Product Number: 3552\n",
      "Product Number: 1473\n",
      "Product Number: 3013\n",
      "Product Number: 219\n",
      "Product Number: 4604\n",
      "Product Number: 3207\n",
      "Product Number: 4016\n",
      "Product Number: 4693\n",
      "Product Number: 1292\n",
      "Product Number: 4447\n",
      "Product Number: 4443\n",
      "Product Number: 3446\n",
      "Product Number: 1107\n",
      "Product Number: 3028\n",
      "Product Number: 204\n",
      "Product Number: 1110\n",
      "Product Number: 137\n",
      "Product Number: 3456\n",
      "Product Number: 1048\n",
      "Product Number: 4699\n",
      "Product Number: 3839\n",
      "Product Number: 4737\n",
      "Product Number: 4695\n",
      "Product Number: 3524\n",
      "Product Number: 282\n",
      "Product Number: 1040\n",
      "Product Number: 3838\n",
      "Product Number: 3891\n",
      "Product Number: 1049\n",
      "Product Number: 3021\n",
      "Product Number: 1336\n",
      "Product Number: 1043\n",
      "Product Number: 4665\n",
      "Product Number: 102\n",
      "Product Number: 3608\n",
      "Product Number: 3151\n",
      "Product Number: 1300\n",
      "Product Number: 3048\n",
      "Product Number: 1084\n",
      "Product Number: 2995\n",
      "Product Number: 185\n",
      "Product Number: 3902\n",
      "Product Number: 1086\n",
      "Product Number: 23\n",
      "Product Number: 44\n",
      "Product Number: 3029\n",
      "Product Number: 3763\n",
      "Product Number: 266\n",
      "Product Number: 206\n",
      "Product Number: 4603\n",
      "Product Number: 4522\n",
      "Product Number: 3231\n",
      "Product Number: 11\n",
      "Product Number: 4706\n",
      "Product Number: 231\n",
      "Product Number: 3015\n",
      "Product Number: 4015\n",
      "Product Number: 1706\n",
      "Product Number: 3740\n",
      "Product Number: 1494\n",
      "Product Number: 72\n",
      "Product Number: 4824\n",
      "Product Number: 3039\n",
      "Product Number: 4523\n",
      "Product Number: 203\n",
      "Product Number: 3356\n",
      "Product Number: 3194\n",
      "Product Number: 1023\n",
      "Product Number: 4056\n",
      "Product Number: 10\n",
      "Product Number: 3893\n",
      "Product Number: 2993\n",
      "Product Number: 3193\n",
      "Product Number: 3176\n",
      "Product Number: 4692\n",
      "Product Number: 1207\n",
      "Product Number: 4870\n",
      "Product Number: 3908\n",
      "Product Number: 2994\n",
      "Product Number: 3810\n",
      "Product Number: 3031\n",
      "Product Number: 4426\n",
      "Product Number: 3603\n",
      "Product Number: 3614\n",
      "Product Number: 173\n",
      "Product Number: 1066\n",
      "Product Number: 193\n",
      "Product Number: 3907\n",
      "Product Number: 3429\n",
      "Product Number: 3022\n",
      "Product Number: 1736\n",
      "Product Number: 1094\n",
      "Product Number: 3506\n",
      "Product Number: 292\n",
      "Product Number: 3553\n",
      "Product Number: 3930\n",
      "Product Number: 3090\n",
      "Product Number: 4484\n",
      "Product Number: 4691\n",
      "Product Number: 116\n",
      "Product Number: 1045\n",
      "Product Number: 4696\n",
      "Product Number: 1471\n",
      "Product Number: 4313\n",
      "Product Number: 4611\n",
      "Product Number: 227\n",
      "Product Number: 3355\n",
      "Product Number: 4455\n",
      "Product Number: 3606\n",
      "Product Number: 134\n",
      "Product Number: 3505\n",
      "Product Number: 3921\n",
      "Product Number: 4330\n",
      "Product Number: 4602\n",
      "Product Number: 3395\n",
      "Product Number: 3503\n",
      "Product Number: 3058\n",
      "Product Number: 3465\n",
      "Product Number: 1105\n",
      "Product Number: 3038\n",
      "Product Number: 4643\n",
      "Product Number: 180\n",
      "Product Number: 1735\n",
      "Product Number: 4786\n",
      "Product Number: 37\n",
      "Product Number: 3705\n",
      "Product Number: 174\n",
      "Product Number: 235\n",
      "Product Number: 8\n",
      "Product Number: 3140\n",
      "Product Number: 127\n",
      "Product Number: 3739\n",
      "Product Number: 1085\n",
      "Product Number: 69\n",
      "Product Number: 3903\n",
      "Product Number: 3437\n",
      "Product Number: 3142\n",
      "Product Number: 205\n",
      "Product Number: 3065\n",
      "Product Number: 3055\n",
      "Product Number: 4482\n",
      "Product Number: 3513\n",
      "Product Number: 119\n",
      "Product Number: 3219\n",
      "Product Number: 3026\n",
      "Product Number: 1475\n",
      "Product Number: 3935\n",
      "Product Number: 1734\n",
      "Product Number: 3141\n",
      "Product Number: 1121\n",
      "Product Number: 1200\n",
      "Product Number: 3590\n",
      "Product Number: 1021\n",
      "Product Number: 189\n",
      "Product Number: 4333\n",
      "Product Number: 3069\n",
      "Product Number: 61\n",
      "Product Number: 190\n",
      "Product Number: 1707\n",
      "Product Number: 4188\n",
      "Product Number: 1109\n",
      "Product Number: 133\n",
      "Product Number: 3025\n",
      "Product Number: 3340\n",
      "Product Number: 1073\n",
      "Product Number: 3909\n",
      "Product Number: 4483\n",
      "Product Number: 3393\n",
      "Product Number: 249\n",
      "Product Number: 3145\n",
      "Product Number: 3616\n",
      "Product Number: 3928\n",
      "Product Number: 3514\n",
      "Product Number: 1210\n",
      "Product Number: 195\n",
      "Product Number: 3507\n",
      "Product Number: 3401\n",
      "Product Number: 3345\n",
      "Product Number: 226\n",
      "Product Number: 3459\n",
      "Product Number: 1713\n",
      "Product Number: 3354\n",
      "Product Number: 3892\n",
      "Product Number: 3229\n",
      "Product Number: 3153\n",
      "Product Number: 3486\n",
      "Product Number: 4841\n",
      "Product Number: 136\n",
      "Product Number: 141\n",
      "Product Number: 1204\n",
      "Product Number: 4676\n",
      "Product Number: 3929\n",
      "Product Number: 3041\n"
     ]
    }
   ],
   "source": [
    "# Regular expression pattern to match the product number\n",
    "pattern = r\"https://biz.koke.kr/products/(\\d+)\"\n",
    "\n",
    "# Initialize an empty list to store the extracted product numbers\n",
    "product_numbers = []\n",
    "\n",
    "# Iterate through the links and extract the product numbers\n",
    "for link in links_list:\n",
    "    match = re.search(pattern, link)\n",
    "    if match:\n",
    "        product_number = match.group(1)  # Extract the first captured group (product number)\n",
    "        product_numbers.append(product_number)\n",
    "\n",
    "# Print the extracted product numbers\n",
    "for number in product_numbers:\n",
    "    print(\"Product Number:\", number)"
   ]
  },
  {
   "cell_type": "code",
   "execution_count": 5,
   "metadata": {},
   "outputs": [
    {
     "data": {
      "text/plain": [
       "556"
      ]
     },
     "execution_count": 5,
     "metadata": {},
     "output_type": "execute_result"
    }
   ],
   "source": [
    "len(product_numbers)"
   ]
  },
  {
   "cell_type": "code",
   "execution_count": 11,
   "metadata": {},
   "outputs": [
    {
     "name": "stdout",
     "output_type": "stream",
     "text": [
      "None\n"
     ]
    }
   ],
   "source": [
    "data = {}\n",
    "data['test'] = {'컵 노트':0}\n",
    "\n",
    "service = Service(path= './driver/chromedriver.exe')\n",
    "driver = webdriver.Chrome(service=service)\n",
    "#driver.get('https://biz.koke.kr/products/70')\n",
    "driver.get('https://biz.koke.kr/products/3928')\n",
    "time.sleep(3)\n",
    "try:\n",
    "    notes = driver.find_element(By.CSS_SELECTOR, 'li.tracking-wide.koke-word-keep-all').text\n",
    "    data['test']['컵 노트'] = notes\n",
    "except:\n",
    "    data['test']['컵 노트'] = None\n",
    "print(notes)"
   ]
  },
  {
   "cell_type": "code",
   "execution_count": 16,
   "metadata": {},
   "outputs": [
    {
     "data": {
      "text/html": [
       "<div>\n",
       "<style scoped>\n",
       "    .dataframe tbody tr th:only-of-type {\n",
       "        vertical-align: middle;\n",
       "    }\n",
       "\n",
       "    .dataframe tbody tr th {\n",
       "        vertical-align: top;\n",
       "    }\n",
       "\n",
       "    .dataframe thead th {\n",
       "        text-align: right;\n",
       "    }\n",
       "</style>\n",
       "<table border=\"1\" class=\"dataframe\">\n",
       "  <thead>\n",
       "    <tr style=\"text-align: right;\">\n",
       "      <th></th>\n",
       "      <th>컵 노트</th>\n",
       "    </tr>\n",
       "  </thead>\n",
       "  <tbody>\n",
       "    <tr>\n",
       "      <th>test</th>\n",
       "      <td>None</td>\n",
       "    </tr>\n",
       "  </tbody>\n",
       "</table>\n",
       "</div>"
      ],
      "text/plain": [
       "      컵 노트\n",
       "test  None"
      ]
     },
     "execution_count": 16,
     "metadata": {},
     "output_type": "execute_result"
    }
   ],
   "source": [
    "df = pd.DataFrame.from_dict(data)\n",
    "df.T"
   ]
  },
  {
   "cell_type": "code",
   "execution_count": null,
   "metadata": {},
   "outputs": [],
   "source": []
  }
 ],
 "metadata": {
  "kernelspec": {
   "display_name": "coffee",
   "language": "python",
   "name": "python3"
  },
  "language_info": {
   "codemirror_mode": {
    "name": "ipython",
    "version": 3
   },
   "file_extension": ".py",
   "mimetype": "text/x-python",
   "name": "python",
   "nbconvert_exporter": "python",
   "pygments_lexer": "ipython3",
   "version": "3.10.4"
  }
 },
 "nbformat": 4,
 "nbformat_minor": 2
}
