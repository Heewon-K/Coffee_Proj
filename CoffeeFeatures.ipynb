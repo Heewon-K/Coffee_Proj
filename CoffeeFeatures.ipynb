{
 "cells": [
  {
   "cell_type": "markdown",
   "metadata": {},
   "source": [
    "### 커피 특징\n",
    "* !원두 이름!\n",
    "    - 타입 (string)\n",
    "    - 로스팅 포인트 (string)\n",
    "    - 지속가능성 (string)\n",
    "    - 컵 노트 (list of strings)\n",
    "    - 바디감\n",
    "    - 신맛\n",
    "    - 단맛\n",
    "    - 쓴맛"
   ]
  },
  {
   "cell_type": "code",
   "execution_count": 2,
   "metadata": {},
   "outputs": [],
   "source": [
    "# package import\n",
    "import pandas as pd\n",
    "\n",
    "from bs4 import BeautifulSoup\n",
    "from selenium import webdriver\n",
    "from selenium.webdriver.chrome.service import Service\n",
    "from selenium.webdriver.common.by import By\n",
    "from selenium.webdriver.chrome.options import Options\n",
    "\n",
    "import re\n",
    "import time\n",
    "# from tqdm import tqdm_notebook\n",
    "from tqdm import tqdm\n",
    "\n",
    "import pickle\n",
    "import itertools"
   ]
  },
  {
   "cell_type": "code",
   "execution_count": 46,
   "metadata": {},
   "outputs": [],
   "source": [
    "# # example dictionary into df\n",
    "# dict = {'원두1':{'타입':'블랜드', '로스팅 포인트':'다크', '지속가능성':'-', '컵노트':['구운 아몬드', '밀크 초콜릿'], '바디감':4, '신맛':2, '단맛':4, '쓴맛':3}}\n",
    "# # df = pd.DataFrame.from_dict(dict)\n",
    "# # df.T\n",
    "\n",
    "# # dict 추가\n",
    "# dict['원두1']['테스트'] = '테스트'\n",
    "### dict {'name':'원두1', ...}"
   ]
  },
  {
   "cell_type": "code",
   "execution_count": 4,
   "metadata": {},
   "outputs": [
    {
     "ename": "NameError",
     "evalue": "name 'links' is not defined",
     "output_type": "error",
     "traceback": [
      "\u001b[1;31m---------------------------------------------------------------------------\u001b[0m",
      "\u001b[1;31mNameError\u001b[0m                                 Traceback (most recent call last)",
      "\u001b[1;32mc:\\Users\\Playdata\\Documents\\coffee_Proj\\CoffeeFeatures.ipynb 셀 7\u001b[0m line \u001b[0;36m3\n\u001b[0;32m      <a href='vscode-notebook-cell:/c%3A/Users/Playdata/Documents/coffee_Proj/CoffeeFeatures.ipynb#W6sZmlsZQ%3D%3D?line=0'>1</a>\u001b[0m \u001b[39m# Pickle dump the set of links to a file\u001b[39;00m\n\u001b[0;32m      <a href='vscode-notebook-cell:/c%3A/Users/Playdata/Documents/coffee_Proj/CoffeeFeatures.ipynb#W6sZmlsZQ%3D%3D?line=1'>2</a>\u001b[0m \u001b[39mwith\u001b[39;00m \u001b[39mopen\u001b[39m(\u001b[39m\"\u001b[39m\u001b[39mlinks.pkl\u001b[39m\u001b[39m\"\u001b[39m, \u001b[39m\"\u001b[39m\u001b[39mwb\u001b[39m\u001b[39m\"\u001b[39m) \u001b[39mas\u001b[39;00m file:\n\u001b[1;32m----> <a href='vscode-notebook-cell:/c%3A/Users/Playdata/Documents/coffee_Proj/CoffeeFeatures.ipynb#W6sZmlsZQ%3D%3D?line=2'>3</a>\u001b[0m     pickle\u001b[39m.\u001b[39mdump(links, file)\n",
      "\u001b[1;31mNameError\u001b[0m: name 'links' is not defined"
     ]
    }
   ],
   "source": [
    "# # Pickle dump the set of links to a file\n",
    "# with open(\"links.pkl\", \"wb\") as file:\n",
    "#     pickle.dump(links, file)"
   ]
  },
  {
   "cell_type": "code",
   "execution_count": 3,
   "metadata": {},
   "outputs": [
    {
     "name": "stdout",
     "output_type": "stream",
     "text": [
      "Intended length : 559 ==  559\n",
      "list length :  559\n"
     ]
    }
   ],
   "source": [
    "# Load the set of links from the file\n",
    "with open(\"links_559.pkl\", \"rb\") as file:\n",
    "    loaded_links = pickle.load(file)\n",
    "\n",
    "# Print the length loaded set of links. Intended length : 556\n",
    "print(\"Intended length : 559 == \", len(loaded_links))\n",
    "\n",
    "# change set to list\n",
    "links_list = list(loaded_links)\n",
    "print(\"list length : \", len(links_list))"
   ]
  },
  {
   "cell_type": "code",
   "execution_count": null,
   "metadata": {},
   "outputs": [],
   "source": [
    "# loaded_links\n",
    "# small_set = set(itertools.islice(loaded_links, 3))"
   ]
  },
  {
   "cell_type": "markdown",
   "metadata": {},
   "source": [
    "***"
   ]
  },
  {
   "cell_type": "markdown",
   "metadata": {},
   "source": [
    "### 제품 페이지에서의 데이터 수집"
   ]
  },
  {
   "cell_type": "code",
   "execution_count": 4,
   "metadata": {},
   "outputs": [],
   "source": [
    "# return the level of features. (n/5)\n",
    "def level_data(html):\n",
    "    # Parse the HTML content\n",
    "    soup = BeautifulSoup(html, 'html.parser')\n",
    "\n",
    "    # Find all div elements without the 'bg-opacity-30' class\n",
    "    divs_without_opacity_30 = [div for div in soup.find_all('div', class_='bg-koke-green') if 'bg-opacity-30' not in div.get('class')]\n",
    "\n",
    "    # Total number of blocks\n",
    "    total_blocks = 5\n",
    "\n",
    "    # Initialize position (n) to None\n",
    "    position = None\n",
    "\n",
    "    # Check if there are any elements without the 'bg-opacity-30' class\n",
    "    if divs_without_opacity_30:\n",
    "        # Get the index of the first element (0-based) and add 1 to get the position (1-based)\n",
    "        position = divs_without_opacity_30[0].find_parent().find_all('div', class_='bg-koke-green').index(divs_without_opacity_30[0]) + 1\n",
    "\n",
    "    #print(f\"The element without 'bg-opacity-30' class is at position {position}/{total_blocks}\")\n",
    "    return position\n",
    "\n",
    "# return type, roasting point, and sustainability of the coffee\n",
    "def other(driver):\n",
    "    type = ['블렌드', '싱글오리진', '디카페인']\n",
    "    roast = ['라이트', '라이트미디엄', '미디엄', '미디엄다크', '다크']\n",
    "    # sustain = ['직접무역', '공정무역', '유기농']\n",
    "    tmp = {}\n",
    "    \n",
    "    elements = driver.find_elements(By.CSS_SELECTOR, 'li.lg\\:block')\n",
    "    \n",
    "    result = []\n",
    "    for i in range(len(elements)):\n",
    "        html = elements[i].get_attribute('innerHTML')\n",
    "        # Parse the HTML content\n",
    "        soup = BeautifulSoup(html, 'html.parser')\n",
    "    \n",
    "        if soup.find_all('svg', 'hidden'):\n",
    "            result.append(elements[i].text)\n",
    "    \n",
    "    for i in result:\n",
    "        if i in type:\n",
    "            tmp['type'] = i\n",
    "        elif i in roast:\n",
    "            tmp['roast'] = i\n",
    "        else: # i in sustain:\n",
    "            tmp['sustain'] = i\n",
    "    return tmp"
   ]
  },
  {
   "cell_type": "code",
   "execution_count": 57,
   "metadata": {},
   "outputs": [
    {
     "name": "stderr",
     "output_type": "stream",
     "text": [
      "100%|██████████| 559/559 [2:14:44<00:00, 14.46s/it]  \n"
     ]
    },
    {
     "name": "stdout",
     "output_type": "stream",
     "text": [
      "559 out of 559 Success!\n"
     ]
    }
   ],
   "source": [
    "service = Service(path= './driver/chromedriver.exe')\n",
    "driver = webdriver.Chrome(service=service)\n",
    "time.sleep(3)\n",
    "\n",
    "data = {}\n",
    "for link in tqdm(links_list):\n",
    "    driver.get(link)\n",
    "    time.sleep(3)\n",
    "    \n",
    "    # product id\n",
    "    pattern = r\"https://biz.koke.kr/products/(\\d+)\"  # Regular expression pattern to match the product number\n",
    "    match = re.search(pattern, link)\n",
    "    if match:\n",
    "        product_number = match.group(1)\n",
    "        data[product_number] = dict.fromkeys(['coffee_name', '타입', '로스팅 포인트', '지속가능성', '컵 노트', '바디감', '신맛', '단맛', '쓴맛'])  # add coffee names as keys and empty dictionary as values\n",
    "    \n",
    "    # coffee_name\n",
    "    raw = driver.find_elements(By.CSS_SELECTOR,\"div.flex.flex-col\")\n",
    "    coffee_name = raw[0].find_element(By.TAG_NAME,'h1').text\n",
    "    data[product_number]['coffee_name'] = coffee_name\n",
    "    time.sleep(3)\n",
    "    \n",
    "    # add data : '바디감', '신맛', '단맛', '쓴맛'\n",
    "    temp = driver.find_elements(By.CSS_SELECTOR,'div.flex.justify-between.w-full.h-2\\.5.overflow-hidden.rounded-full') # len(temp) = 4\n",
    "    keys = ['바디감', '신맛', '단맛', '쓴맛']\n",
    "    for i in range(4):\n",
    "        html = temp[i].get_attribute('innerHTML')\n",
    "        data[product_number][keys[i]] = level_data(html)\n",
    "    time.sleep(3)\n",
    "    \n",
    "    # others : '타입', '로스팅 포인트', '지속가능성'\n",
    "    tmp = other(driver)\n",
    "    for i in range(len(tmp)):\n",
    "        keys = list(tmp.keys())\n",
    "        if keys[i] == 'type':\n",
    "            data[product_number]['타입'] = tmp['type']\n",
    "        elif keys[i] == 'roast':\n",
    "            data[product_number]['로스팅 포인트'] = tmp['roast']\n",
    "        else:\n",
    "            data[product_number]['지속가능성'] = tmp['sustain']\n",
    "    time.sleep(3)\n",
    "            \n",
    "    # 컵 노트\n",
    "    try:\n",
    "        notes = driver.find_element(By.CSS_SELECTOR, 'li.tracking-wide.koke-word-keep-all').text\n",
    "        data[product_number]['컵 노트'] = notes\n",
    "    except:\n",
    "      data[product_number]['컵 노트'] = '-'\n",
    "      \n",
    "    time.sleep(1)       \n",
    "    \n",
    "driver.quit()\n",
    "\n",
    "time.sleep(5)\n",
    "\n",
    "if len(data.keys()) == 559:\n",
    "    print('{} out of 559'.format(len(data.keys())), 'Success!')\n",
    "    df = pd.DataFrame.from_dict(data)\n",
    "    newdf = df.T\n",
    "    newdf.to_csv('data_fin.csv')\n",
    "else:\n",
    "    print('{} out of 559'.format(len(data.keys())))\n",
    "    # export current collected data\n",
    "    comparedf = pd.DataFrame.from_dict(data)\n",
    "    comparedf = comparedf.T\n",
    "    comparedf.to_csv('compare.csv')"
   ]
  },
  {
   "cell_type": "code",
   "execution_count": 39,
   "metadata": {},
   "outputs": [
    {
     "name": "stdout",
     "output_type": "stream",
     "text": [
      "559\n",
      "examples [1084, 4699, 1727, 3072, 3217]\n"
     ]
    }
   ],
   "source": [
    "############ print product id from the pickle ############\n",
    "\n",
    "# Regular expression pattern to match the product number\n",
    "pattern = r\"https://biz.koke.kr/products/(\\d+)\"\n",
    "\n",
    "# Initialize an empty list to store the extracted product numbers\n",
    "product_numbers = []\n",
    "\n",
    "# Iterate through the links and extract the product numbers\n",
    "for link in links_list:\n",
    "    match = re.search(pattern, link)\n",
    "    if match:\n",
    "        product_number = match.group(1)  # Extract the first captured group (product number)\n",
    "        product_numbers.append(int(product_number))\n",
    "        \n",
    "print(len(product_numbers))\n",
    "print('examples', product_numbers[:5])"
   ]
  },
  {
   "cell_type": "code",
   "execution_count": 18,
   "metadata": {},
   "outputs": [],
   "source": [
    "######## get collected data's ids ########\n",
    "comparedf =  pd.read_csv('compare.csv')\n",
    "comparedf.rename(columns = {'Unnamed: 0' : 'coffee_name'}, inplace = True)\n",
    "df_id = comparedf['ID']\n",
    "id_ls = list(df_id)"
   ]
  },
  {
   "cell_type": "code",
   "execution_count": 47,
   "metadata": {},
   "outputs": [
    {
     "name": "stdout",
     "output_type": "stream",
     "text": [
      "size of collected ids from data:  540 & example :  [1084, 4699, 1727, 3072, 3217]\n",
      "intended size:  559 & example :  [1084, 4699, 1727, 3072, 3217]\n"
     ]
    }
   ],
   "source": [
    "######## compare current data size and intended size ########\n",
    "print('size of collected ids from data: ',len(df_id), '&', 'example : ', id_ls[:5])\n",
    "print('intended size: ',len(product_numbers), '&', 'example : ', product_numbers[:5])"
   ]
  },
  {
   "cell_type": "code",
   "execution_count": 48,
   "metadata": {},
   "outputs": [
    {
     "data": {
      "text/plain": [
       "19"
      ]
     },
     "execution_count": 48,
     "metadata": {},
     "output_type": "execute_result"
    }
   ],
   "source": [
    "######## 540 out of 559 => missing data == 19 ########\n",
    "def non_match_elements(list_a, list_b):\n",
    "    non_match = []\n",
    "    for i in list_a:\n",
    "        if i not in list_b:\n",
    "            non_match.append(i)\n",
    "    return non_match\n",
    "\n",
    "missing_list = non_match_elements(product_numbers, id_ls)\n",
    "len(missing_list)"
   ]
  },
  {
   "cell_type": "code",
   "execution_count": 50,
   "metadata": {},
   "outputs": [
    {
     "name": "stdout",
     "output_type": "stream",
     "text": [
      "size of missing link : 19 example : ['https://biz.koke.kr/products/3214', 'https://biz.koke.kr/products/4737']\n"
     ]
    }
   ],
   "source": [
    "missing_links = []\n",
    "pattern = \"https://biz.koke.kr/products/\"\n",
    "for i in missing_list:\n",
    "    link = pattern + str(i)\n",
    "    missing_links.append(link)\n",
    "print('size of missing link :', len(missing_links), 'example :', missing_links[:2])"
   ]
  },
  {
   "cell_type": "markdown",
   "metadata": {},
   "source": [
    "***"
   ]
  },
  {
   "cell_type": "code",
   "execution_count": null,
   "metadata": {},
   "outputs": [],
   "source": [
    "########## Export data as csv file ##########\n",
    "df = pd.DataFrame.from_dict(data)\n",
    "newdf = df.T\n",
    "newdf.to_csv('data.csv')"
   ]
  },
  {
   "cell_type": "code",
   "execution_count": 29,
   "metadata": {},
   "outputs": [],
   "source": [
    "########## read created csv file ##########\n",
    "tab = pd.read_csv('data.csv')\n",
    "tab"
   ]
  },
  {
   "cell_type": "code",
   "execution_count": 30,
   "metadata": {},
   "outputs": [
    {
     "data": {
      "text/html": [
       "<div>\n",
       "<style scoped>\n",
       "    .dataframe tbody tr th:only-of-type {\n",
       "        vertical-align: middle;\n",
       "    }\n",
       "\n",
       "    .dataframe tbody tr th {\n",
       "        vertical-align: top;\n",
       "    }\n",
       "\n",
       "    .dataframe thead th {\n",
       "        text-align: right;\n",
       "    }\n",
       "</style>\n",
       "<table border=\"1\" class=\"dataframe\">\n",
       "  <thead>\n",
       "    <tr style=\"text-align: right;\">\n",
       "      <th></th>\n",
       "      <th>Unnamed: 0</th>\n",
       "      <th>타입</th>\n",
       "      <th>로스팅 포인트</th>\n",
       "      <th>지속가능성</th>\n",
       "      <th>컵 노트</th>\n",
       "      <th>바디감</th>\n",
       "      <th>신맛</th>\n",
       "      <th>단맛</th>\n",
       "      <th>쓴맛</th>\n",
       "    </tr>\n",
       "  </thead>\n",
       "  <tbody>\n",
       "    <tr>\n",
       "      <th>0</th>\n",
       "      <td>과테말라 디카페인</td>\n",
       "      <td>디카페인</td>\n",
       "      <td>미디엄다크</td>\n",
       "      <td>NaN</td>\n",
       "      <td>-</td>\n",
       "      <td>4</td>\n",
       "      <td>1</td>\n",
       "      <td>3</td>\n",
       "      <td>2</td>\n",
       "    </tr>\n",
       "    <tr>\n",
       "      <th>1</th>\n",
       "      <td>브라질 디카페인</td>\n",
       "      <td>디카페인</td>\n",
       "      <td>미디엄다크</td>\n",
       "      <td>NaN</td>\n",
       "      <td>-</td>\n",
       "      <td>3</td>\n",
       "      <td>1</td>\n",
       "      <td>4</td>\n",
       "      <td>3</td>\n",
       "    </tr>\n",
       "    <tr>\n",
       "      <th>2</th>\n",
       "      <td>77도 블렌드</td>\n",
       "      <td>블렌드</td>\n",
       "      <td>미디엄다크</td>\n",
       "      <td>NaN</td>\n",
       "      <td>&lt;selenium.webdriver.remote.webelement.WebEleme...</td>\n",
       "      <td>4</td>\n",
       "      <td>1</td>\n",
       "      <td>4</td>\n",
       "      <td>3</td>\n",
       "    </tr>\n",
       "    <tr>\n",
       "      <th>3</th>\n",
       "      <td>밤의 유영</td>\n",
       "      <td>디카페인</td>\n",
       "      <td>미디엄다크</td>\n",
       "      <td>NaN</td>\n",
       "      <td>-</td>\n",
       "      <td>3</td>\n",
       "      <td>2</td>\n",
       "      <td>3</td>\n",
       "      <td>3</td>\n",
       "    </tr>\n",
       "    <tr>\n",
       "      <th>4</th>\n",
       "      <td>올굳 블렌드</td>\n",
       "      <td>블렌드</td>\n",
       "      <td>미디엄</td>\n",
       "      <td>NaN</td>\n",
       "      <td>-</td>\n",
       "      <td>3</td>\n",
       "      <td>3</td>\n",
       "      <td>4</td>\n",
       "      <td>3</td>\n",
       "    </tr>\n",
       "    <tr>\n",
       "      <th>...</th>\n",
       "      <td>...</td>\n",
       "      <td>...</td>\n",
       "      <td>...</td>\n",
       "      <td>...</td>\n",
       "      <td>...</td>\n",
       "      <td>...</td>\n",
       "      <td>...</td>\n",
       "      <td>...</td>\n",
       "      <td>...</td>\n",
       "    </tr>\n",
       "    <tr>\n",
       "      <th>532</th>\n",
       "      <td>발렌타인 플러스</td>\n",
       "      <td>블렌드</td>\n",
       "      <td>미디엄다크</td>\n",
       "      <td>NaN</td>\n",
       "      <td>&lt;selenium.webdriver.remote.webelement.WebEleme...</td>\n",
       "      <td>5</td>\n",
       "      <td>2</td>\n",
       "      <td>3</td>\n",
       "      <td>2</td>\n",
       "    </tr>\n",
       "    <tr>\n",
       "      <th>533</th>\n",
       "      <td>과테말라 아구아 티비아 게이샤 워시드</td>\n",
       "      <td>싱글오리진</td>\n",
       "      <td>라이트</td>\n",
       "      <td>NaN</td>\n",
       "      <td>-</td>\n",
       "      <td>3</td>\n",
       "      <td>3</td>\n",
       "      <td>5</td>\n",
       "      <td>1</td>\n",
       "    </tr>\n",
       "    <tr>\n",
       "      <th>534</th>\n",
       "      <td>Blend N.4</td>\n",
       "      <td>블렌드</td>\n",
       "      <td>다크</td>\n",
       "      <td>NaN</td>\n",
       "      <td>&lt;selenium.webdriver.remote.webelement.WebEleme...</td>\n",
       "      <td>4</td>\n",
       "      <td>1</td>\n",
       "      <td>4</td>\n",
       "      <td>3</td>\n",
       "    </tr>\n",
       "    <tr>\n",
       "      <th>535</th>\n",
       "      <td>닻별</td>\n",
       "      <td>블렌드</td>\n",
       "      <td>다크</td>\n",
       "      <td>유기농</td>\n",
       "      <td>-</td>\n",
       "      <td>4</td>\n",
       "      <td>2</td>\n",
       "      <td>4</td>\n",
       "      <td>4</td>\n",
       "    </tr>\n",
       "    <tr>\n",
       "      <th>536</th>\n",
       "      <td>조바티 스페셜 블렌드</td>\n",
       "      <td>블렌드</td>\n",
       "      <td>라이트미디엄</td>\n",
       "      <td>NaN</td>\n",
       "      <td>-</td>\n",
       "      <td>3</td>\n",
       "      <td>4</td>\n",
       "      <td>3</td>\n",
       "      <td>1</td>\n",
       "    </tr>\n",
       "  </tbody>\n",
       "</table>\n",
       "<p>537 rows × 9 columns</p>\n",
       "</div>"
      ],
      "text/plain": [
       "               Unnamed: 0     타입 로스팅 포인트 지속가능성  \\\n",
       "0               과테말라 디카페인   디카페인   미디엄다크   NaN   \n",
       "1                브라질 디카페인   디카페인   미디엄다크   NaN   \n",
       "2                 77도 블렌드    블렌드   미디엄다크   NaN   \n",
       "3                   밤의 유영   디카페인   미디엄다크   NaN   \n",
       "4                  올굳 블렌드    블렌드     미디엄   NaN   \n",
       "..                    ...    ...     ...   ...   \n",
       "532              발렌타인 플러스    블렌드   미디엄다크   NaN   \n",
       "533  과테말라 아구아 티비아 게이샤 워시드  싱글오리진     라이트   NaN   \n",
       "534             Blend N.4    블렌드      다크   NaN   \n",
       "535                    닻별    블렌드      다크   유기농   \n",
       "536           조바티 스페셜 블렌드    블렌드  라이트미디엄   NaN   \n",
       "\n",
       "                                                  컵 노트  바디감  신맛  단맛  쓴맛  \n",
       "0                                                    -    4   1   3   2  \n",
       "1                                                    -    3   1   4   3  \n",
       "2    <selenium.webdriver.remote.webelement.WebEleme...    4   1   4   3  \n",
       "3                                                    -    3   2   3   3  \n",
       "4                                                    -    3   3   4   3  \n",
       "..                                                 ...  ...  ..  ..  ..  \n",
       "532  <selenium.webdriver.remote.webelement.WebEleme...    5   2   3   2  \n",
       "533                                                  -    3   3   5   1  \n",
       "534  <selenium.webdriver.remote.webelement.WebEleme...    4   1   4   3  \n",
       "535                                                  -    4   2   4   4  \n",
       "536                                                  -    3   4   3   1  \n",
       "\n",
       "[537 rows x 9 columns]"
      ]
     },
     "execution_count": 30,
     "metadata": {},
     "output_type": "execute_result"
    }
   ],
   "source": [
    "tab"
   ]
  },
  {
   "cell_type": "markdown",
   "metadata": {},
   "source": [
    "***"
   ]
  },
  {
   "cell_type": "code",
   "execution_count": 35,
   "metadata": {},
   "outputs": [
    {
     "name": "stderr",
     "output_type": "stream",
     "text": [
      "100%|██████████| 5/5 [00:35<00:00,  7.08s/it]\n"
     ]
    }
   ],
   "source": [
    "service = Service(path= './driver/chromedriver.exe')\n",
    "driver = webdriver.Chrome(service=service)\n",
    "\n",
    "test = {}\n",
    "for link in tqdm(links_list[:5]):\n",
    "    name = {}\n",
    "    driver.get(link)\n",
    "    time.sleep(3)\n",
    "    \n",
    "    # name\n",
    "    raw = driver.find_elements(By.CSS_SELECTOR,\"div.flex.flex-col\")\n",
    "    coffee_name = raw[0].find_element(By.TAG_NAME,'h1').text\n",
    "    test[coffee_name] =  dict.fromkeys(['ID', '타입', '로스팅 포인트', '지속가능성', '컵 노트', '바디감', '신맛', '단맛', '쓴맛'])  # add coffee names as keys and empty dictionary as values\n",
    "    time.sleep(3)\n",
    "    \n",
    "    # product id\n",
    "    pattern = r\"https://biz.koke.kr/products/(\\d+)\"  # Regular expression pattern to match the product number\n",
    "    match = re.search(pattern, link)\n",
    "    if match:\n",
    "        product_number = match.group(1)\n",
    "        test[coffee_name]['ID'] = product_number\n",
    "        \n",
    "driver.quit()"
   ]
  },
  {
   "cell_type": "code",
   "execution_count": 39,
   "metadata": {},
   "outputs": [
    {
     "data": {
      "text/html": [
       "<div>\n",
       "<style scoped>\n",
       "    .dataframe tbody tr th:only-of-type {\n",
       "        vertical-align: middle;\n",
       "    }\n",
       "\n",
       "    .dataframe tbody tr th {\n",
       "        vertical-align: top;\n",
       "    }\n",
       "\n",
       "    .dataframe thead th {\n",
       "        text-align: right;\n",
       "    }\n",
       "</style>\n",
       "<table border=\"1\" class=\"dataframe\">\n",
       "  <thead>\n",
       "    <tr style=\"text-align: right;\">\n",
       "      <th></th>\n",
       "      <th>ID</th>\n",
       "      <th>타입</th>\n",
       "      <th>로스팅 포인트</th>\n",
       "      <th>지속가능성</th>\n",
       "      <th>컵 노트</th>\n",
       "      <th>바디감</th>\n",
       "      <th>신맛</th>\n",
       "      <th>단맛</th>\n",
       "      <th>쓴맛</th>\n",
       "    </tr>\n",
       "  </thead>\n",
       "  <tbody>\n",
       "    <tr>\n",
       "      <th>과테말라 디카페인</th>\n",
       "      <td>3394</td>\n",
       "      <td>None</td>\n",
       "      <td>None</td>\n",
       "      <td>None</td>\n",
       "      <td>None</td>\n",
       "      <td>None</td>\n",
       "      <td>None</td>\n",
       "      <td>None</td>\n",
       "      <td>None</td>\n",
       "    </tr>\n",
       "    <tr>\n",
       "      <th>브라질 디카페인</th>\n",
       "      <td>4824</td>\n",
       "      <td>None</td>\n",
       "      <td>None</td>\n",
       "      <td>None</td>\n",
       "      <td>None</td>\n",
       "      <td>None</td>\n",
       "      <td>None</td>\n",
       "      <td>None</td>\n",
       "      <td>None</td>\n",
       "    </tr>\n",
       "    <tr>\n",
       "      <th>77도 블렌드</th>\n",
       "      <td>217</td>\n",
       "      <td>None</td>\n",
       "      <td>None</td>\n",
       "      <td>None</td>\n",
       "      <td>None</td>\n",
       "      <td>None</td>\n",
       "      <td>None</td>\n",
       "      <td>None</td>\n",
       "      <td>None</td>\n",
       "    </tr>\n",
       "    <tr>\n",
       "      <th>밤의 유영</th>\n",
       "      <td>4328</td>\n",
       "      <td>None</td>\n",
       "      <td>None</td>\n",
       "      <td>None</td>\n",
       "      <td>None</td>\n",
       "      <td>None</td>\n",
       "      <td>None</td>\n",
       "      <td>None</td>\n",
       "      <td>None</td>\n",
       "    </tr>\n",
       "    <tr>\n",
       "      <th>올굳 블렌드</th>\n",
       "      <td>4676</td>\n",
       "      <td>None</td>\n",
       "      <td>None</td>\n",
       "      <td>None</td>\n",
       "      <td>None</td>\n",
       "      <td>None</td>\n",
       "      <td>None</td>\n",
       "      <td>None</td>\n",
       "      <td>None</td>\n",
       "    </tr>\n",
       "  </tbody>\n",
       "</table>\n",
       "</div>"
      ],
      "text/plain": [
       "             ID    타입 로스팅 포인트 지속가능성  컵 노트   바디감    신맛    단맛    쓴맛\n",
       "과테말라 디카페인  3394  None    None  None  None  None  None  None  None\n",
       "브라질 디카페인   4824  None    None  None  None  None  None  None  None\n",
       "77도 블렌드     217  None    None  None  None  None  None  None  None\n",
       "밤의 유영      4328  None    None  None  None  None  None  None  None\n",
       "올굳 블렌드     4676  None    None  None  None  None  None  None  None"
      ]
     },
     "execution_count": 39,
     "metadata": {},
     "output_type": "execute_result"
    }
   ],
   "source": [
    "testdf = pd.DataFrame(test)\n",
    "testdf.T"
   ]
  },
  {
   "cell_type": "code",
   "execution_count": null,
   "metadata": {},
   "outputs": [],
   "source": []
  }
 ],
 "metadata": {
  "kernelspec": {
   "display_name": "coffee",
   "language": "python",
   "name": "python3"
  },
  "language_info": {
   "codemirror_mode": {
    "name": "ipython",
    "version": 3
   },
   "file_extension": ".py",
   "mimetype": "text/x-python",
   "name": "python",
   "nbconvert_exporter": "python",
   "pygments_lexer": "ipython3",
   "version": "3.10.4"
  }
 },
 "nbformat": 4,
 "nbformat_minor": 2
}
